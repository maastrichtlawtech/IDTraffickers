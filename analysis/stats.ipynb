{
 "cells": [
  {
   "cell_type": "markdown",
   "id": "671270f8-3d61-4318-aca5-7add823ca946",
   "metadata": {},
   "source": [
    "# Importing libraries"
   ]
  },
  {
   "cell_type": "code",
   "execution_count": 26,
   "id": "db379704-244f-46ff-ac71-c0334be51adc",
   "metadata": {
    "tags": []
   },
   "outputs": [],
   "source": [
    "import os\n",
    "\n",
    "import numpy as np\n",
    "import pandas as pd\n",
    "\n",
    "import collections\n",
    "from collections import Counter\n",
    "\n",
    "# finding the state based on geotags\n",
    "# from geopy.geocoders import Nominatim\n",
    "\n",
    "# the Geonamescache library contains information\n",
    "# about continents, cities and US states\n",
    "# import geonamescache\n",
    "\n",
    "import networkx \n",
    "from networkx.algorithms.components.connected import connected_components"
   ]
  },
  {
   "cell_type": "markdown",
   "id": "90dbc344-0900-4a8e-b4cc-245f80b75d8b",
   "metadata": {},
   "source": [
    "# Mapping IDs to Images"
   ]
  },
  {
   "cell_type": "code",
   "execution_count": 27,
   "id": "5962b87e-c887-4c68-8276-b41e5474152f",
   "metadata": {
    "tags": []
   },
   "outputs": [],
   "source": [
    "chicago_data = pd.read_csv(\"../data/structured/TEXT/Chicago.csv\")\n",
    "chicago_mappings = pd.read_csv(\"../data/structured/ImgtoCSVmappings/Chicago_PostID2Image.csv\")\n",
    "\n",
    "atlanta_data = pd.read_csv(\"../data/structured/TEXT/Atlanta.csv\")\n",
    "atlanta_mappings = pd.read_csv(\"../data/structured/ImgtoCSVmappings/Atlanta_PostIDToImage.csv\")\n",
    "\n",
    "detroit_data = pd.read_csv(\"../data/structured/TEXT/Detroit.csv\")\n",
    "detroit_mappings = pd.read_csv(\"../data/structured/ImgtoCSVmappings/Detroit_ID2Post.csv\").rename(columns={'Post ID': 'ID', 'Image Title':'IMAGES'})\n",
    "\n",
    "dallas_data = pd.read_csv(\"../data/structured/TEXT/Dallas.csv\")\n",
    "dallas_mappings = pd.read_csv(\"../data/structured/ImgtoCSVmappings/Dallas_IDToImage.csv\").rename(columns={'Post ID': 'ID', 'Image Title':'IMAGES'})\n",
    "\n",
    "houston_data = pd.read_csv(\"../data/structured/TEXT/Houston.csv\")\n",
    "houston_mappings = pd.read_csv(\"../data/structured/ImgtoCSVmappings/Houston_ID2Post.csv\")\n",
    "\n",
    "nyc_data = pd.read_csv(\"../data/structured/TEXT/New York.csv\")\n",
    "nyc_mappings = pd.read_csv(\"../data/structured/ImgtoCSVmappings/NYC_ID2Image.csv\").rename(columns={'Post ID': 'ID', 'Image Title':'IMAGES'})\n",
    "\n",
    "sf_data = pd.read_csv(\"../data/structured/TEXT/San Fransisco.csv\")\n",
    "sf_mappings = pd.read_csv(\"../data/structured/ImgtoCSVmappings/SF_ImageToPost.csv\").rename(columns={'Post ID': 'ID', 'Image Title':'IMAGES'})"
   ]
  },
  {
   "cell_type": "code",
   "execution_count": 28,
   "id": "c3ca9bb7-b9f5-4696-9464-b84f58c7e758",
   "metadata": {
    "tags": []
   },
   "outputs": [],
   "source": [
    "def map_ids_to_images(data, mappings, save_filename):\n",
    "    image_dict = {}\n",
    "    for ids in mappings['ID'].unique():\n",
    "        df = mappings[mappings['ID']==ids]\n",
    "        image_dict[ids] = df.IMAGES.to_list()\n",
    "        \n",
    "    df = pd.DataFrame({\"ID\":list(image_dict.keys()), \"IMAGES\":list(image_dict.values())})\n",
    "    df['ID'] = df['ID'].astype(float)\n",
    "    \n",
    "    df = pd.merge(data[['TEXT', 'PHONES', 'ID']], df, on=\"ID\", how=\"left\")\n",
    "    df.to_csv(save_filename)"
   ]
  },
  {
   "cell_type": "code",
   "execution_count": 29,
   "id": "2d9819b0-3a3a-4eb7-8413-bcd11b3103e7",
   "metadata": {
    "tags": []
   },
   "outputs": [],
   "source": [
    "map_ids_to_images(chicago_data, chicago_mappings, \"../data/structured/TEXT/Chicago.csv\")\n",
    "map_ids_to_images(atlanta_data, atlanta_mappings, \"../data/structured/TEXT/Atlanta.csv\")\n",
    "map_ids_to_images(detroit_data, detroit_mappings, \"../data/structured/TEXT/Detroit.csv\")\n",
    "map_ids_to_images(dallas_data, dallas_mappings, \"../data/structured/TEXT/Dallas.csv\")\n",
    "map_ids_to_images(houston_data, houston_mappings, \"../data/structured/TEXT/Houston.csv\")\n",
    "map_ids_to_images(nyc_data, nyc_mappings, \"../data/structured/TEXT/New York.csv\")\n",
    "map_ids_to_images(sf_data, sf_mappings, \"../data/structured/TEXT/San Fransisco.csv\")"
   ]
  },
  {
   "cell_type": "markdown",
   "id": "c8ee0624-e5a8-4415-97c6-71d6e68a73dc",
   "metadata": {},
   "source": [
    "# Loading data"
   ]
  },
  {
   "cell_type": "code",
   "execution_count": 31,
   "id": "27f549c5-b10d-400d-9b0f-2dde57780508",
   "metadata": {
    "tags": []
   },
   "outputs": [],
   "source": [
    "# Loading all the files\n",
    "filenames = os.listdir(\"../data/structured/TEXT\")"
   ]
  },
  {
   "cell_type": "code",
   "execution_count": 38,
   "id": "5414d427-b059-4af8-8f1a-87b3641284cf",
   "metadata": {
    "tags": []
   },
   "outputs": [],
   "source": [
    "city, samples, phones, images = ([] for i in range(4))\n",
    "df_dict =  {}\n",
    "\n",
    "# Getting the stats for advertisements from the cities\n",
    "for file in filenames:\n",
    "    if file.endswith('.csv') and file not in [\"east.csv\", \"west.csv\", \"north.csv\", \"south.csv\", \"central.csv\"]:\n",
    "        df = pd.read_csv(os.path.join(\"../data/structured/TEXT\", file))\n",
    "        city.append(file.replace(\".csv\", \"\"))\n",
    "        samples.append(df.shape[0])\n",
    "        phone_list = [eval(phone) for phone in df [\"PHONES\"].to_list()]\n",
    "        phone_list = [j for i in phone_list for j in i]\n",
    "        phone_list = [phone for phone in phone_list if len(phone)>=7]\n",
    "        phones.append(len(phone_list))\n",
    "\n",
    "        \"\"\"\n",
    "        if \"IMAGES\" in df.columns:\n",
    "            image_list = [image for image in df.IMAGES.to_list() if str(image) != 'nan']\n",
    "            print(type(image_list[0]))\n",
    "            raise Exception(\"sads\")\n",
    "            if type(image_list[0]) == str:\n",
    "                image_list = [image.split(\"|\") for image in image_list]\n",
    "            elif type(image_list[0]) == list:\n",
    "                image_list = image_list\n",
    "            else:\n",
    "                raise Exception(\"Elements of Image columns inside the dataframe should be either in string or list formats\")\n",
    "            image_list = set([j for i in image_list for j in i])\n",
    "            images.append(len(image_list))\n",
    "        else:\n",
    "            images.append(0)\n",
    "        \"\"\"\n",
    "# df_dict = {\"CITY\" : city, \"ADS\": samples, \"PHONES\": phones, \"IMAGES\": images}\n",
    "\n",
    "df_dict = {\"CITY\" : city,\n",
    "          \"ADS\": samples,\n",
    "          \"PHONES\": phones,\n",
    "          \"IMAGES\": images}"
   ]
  },
  {
   "cell_type": "markdown",
   "id": "7d82f7b2-b29a-4ce7-b93d-f44e8288dc1d",
   "metadata": {},
   "source": [
    "# Getting the stats in Dataframe"
   ]
  },
  {
   "cell_type": "code",
   "execution_count": null,
   "id": "c27f3981-581b-4fff-8ba3-2c8fe5f01d14",
   "metadata": {
    "tags": []
   },
   "outputs": [],
   "source": [
    "df = pd.DataFrame(df_dict)"
   ]
  },
  {
   "cell_type": "code",
   "execution_count": null,
   "id": "83c5c104-2cb9-48fe-af9b-d2803c47dff7",
   "metadata": {
    "tags": []
   },
   "outputs": [],
   "source": [
    "print(\"Total number of cities:\", df.CITY.nunique())\n",
    "print(\"Total number of ADS:\", df.TEXT.sum())\n",
    "print(\"Total number of phones:\", df.PHONES.sum())\n",
    "print(\"Total number of images:\", df.IMAGES.sum())"
   ]
  },
  {
   "cell_type": "code",
   "execution_count": 44,
   "id": "c2f61755-7410-406f-975d-e25e664e3461",
   "metadata": {
    "tags": []
   },
   "outputs": [],
   "source": [
    "# dictionary of cities to state mappings\n",
    "city_to_state_dict = {\"East Rancho Dominguez\": \"California\", \"Clinton\": \"Mississippi\", \"Nanuet\": \"New York\", \"Sand Springs\": \"Oklahoma\", \"Middle River\": \"Maryland\", \"Carbondale\": \"Illinois\", \"Boise\": \"Idaho\", \"Las Vegas\": \"Nevada\", \"Denver\": \"Colorado\", \"Hagerstown\": \"Maryland\", \"Venice\": \"Florida\", \"Moreno Valley\": \"California\", \"Mamaroneck\": \"New York\", \"Bartow\": \"Florida\", \"Bensonhurst\": \"New York\", \"Edgewater\": \"Florida\", \"Dallas\": \"Texas\", \"Benton\": \"Arkansas\", \"Lake Havasu City\": \"Arizona\", \"New South Memphis\": \"Tennessee\", \"North Glendale\": \"California\", \"Santee\": \"California\", \"Shawnee\": \"Oklahoma\", \"North Augusta\": \"South Carolina\", \"Brownwood\": \"Texas\", \"Methuen\": \"Massachusetts\", \"Allapattah\": \"Florida\", \"White Oak\": \"Maryland\", \"University Place\": \"Washington\", \"Muncie\": \"Indiana\", \"Naperville\": \"Illinois\", \"Hollywood\": \"Florida\", \"Richmond West\": \"Florida\", \"Bellmore\": \"New York\", \"Pine Bluff\": \"Arkansas\", \"Natick\": \"Massachusetts\", \"Silver Lake\": \"California\", \"Ridgecrest\": \"California\", \"Parkland\": \"Washington\", \"Aberdeen\": \"Washington\", \"Cohoes\": \"New York\", \"Harlingen\": \"Texas\", \"Ennis\": \"Texas\", \"North La Crosse\": \"Wisconsin\", \"Commerce City\": \"Colorado\", \"Racine\": \"Wisconsin\", \"Carmel\": \"Indiana\", \"Fairview Park\": \"Ohio\", \"Queen Creek\": \"Arizona\", \"Southglenn\": \"Colorado\", \"Wentzville\": \"Missouri\", \"Pinecrest\": \"Florida\", \"Kingston\": \"New York\", \"Syracuse\": \"New York\", \"El Cajon\": \"California\", \"Champaign\": \"Illinois\", \"Stevens Point\": \"Wisconsin\", \"San Luis\": \"Arizona\", \"Livingston\": \"New Jersey\", \"Santa Maria\": \"California\", \"Fort Leonard Wood\": \"Missouri\", \"West Elkridge\": \"Maryland\", \"New Iberia\": \"Louisiana\", \"Elk Grove\": \"California\", \"Smithtown\": \"New York\", \"Greensboro\": \"North Carolina\", \"Garden Grove\": \"California\", \"Emporia\": \"Kansas\", \"Sun Valley\": \"Nevada\", \"Wheeling\": \"West Virginia\", \"Troy\": \"Ohio\", \"Irving\": \"Connecticut\", \"Cornelius\": \"North Carolina\", \"East Cleveland\": \"Ohio\", \"Upland\": \"California\", \"Porterville\": \"California\", \"Rock Island\": \"Illinois\", \"Prattville\": \"Alabama\", \"Aloha\": \"Oregon\", \"Durham\": \"North Carolina\", \"Lynnwood\": \"Washington\", \"Dunwoody\": \"Georgia\", \"East New York\": \"New York\", \"Santa Clara\": \"California\", \"Homestead\": \"Florida\", \"Borough of Queens\": \"New York\", \"Woodland\": \"California\", \"Pennsauken\": \"New Jersey\", \"Marrero\": \"Louisiana\", \"Meadow Woods\": \"Florida\", \"Godfrey\": \"Illinois\", \"Apache Junction\": \"Arizona\", \"Oak Grove\": \"Oregon\", \"Surprise\": \"Arizona\", \"Lake Oswego\": \"Oregon\", \"Goleta\": \"California\", \"Tullahoma\": \"Tennessee\", \"Kinston\": \"North Carolina\", \"Vernon Hills\": \"Illinois\", \"Agoura\": \"California\", \"Grants Pass\": \"Oregon\", \"Topeka\": \"Kansas\", \"West New York\": \"New Jersey\", \"Grand Forks\": \"North Dakota\", \"Cedar Falls\": \"Iowa\", \"Minot\": \"North Dakota\", \"Carrollton\": \"Georgia\", \"West Little River\": \"Florida\", \"Huntington Beach\": \"California\", \"Newark\": \"Ohio\", \"Bellflower\": \"California\", \"Wilmington Island\": \"Georgia\", \"Country Club\": \"Florida\", \"Hazleton\": \"Pennsylvania\", \"Burton\": \"Michigan\", \"Eureka\": \"California\", \"Vincennes\": \"Indiana\", \"Monroe\": \"Washington\", \"Kernersville\": \"North Carolina\", \"Clayton\": \"Missouri\", \"Chester\": \"Pennsylvania\", \"Caldwell\": \"Idaho\", \"Cloverleaf\": \"Texas\", \"Brandon\": \"Mississippi\", \"Mishawaka\": \"Indiana\", \"Winter Springs\": \"Florida\", \"Clarksville\": \"Indiana\", \"West Warwick\": \"Rhode Island\", \"Dunedin\": \"Florida\", \"Eldersburg\": \"Maryland\", \"Orland Park\": \"Illinois\", \"Palm Valley\": \"Florida\", \"Holly Springs\": \"North Carolina\", \"Maplewood\": \"New Jersey\", \"Carrboro\": \"North Carolina\", \"Escondido\": \"California\", \"Xenia\": \"Ohio\", \"Santa Clarita\": \"California\", \"Vicksburg\": \"Mississippi\", \"Farmers Branch\": \"Texas\", \"Mill Creek\": \"Washington\", \"Naples\": \"Florida\", \"Cedar Hill\": \"Texas\", \"Indian Trail\": \"North Carolina\", \"Shrewsbury\": \"Massachusetts\", \"Mead Valley\": \"California\", \"Crown Point\": \"Indiana\", \"Blythe\": \"California\", \"Centerville\": \"Utah\", \"Bothell\": \"Washington\", \"American Fork\": \"Utah\", \"Casselberry\": \"Florida\", \"Chesterfield\": \"Missouri\", \"North Olmsted\": \"Ohio\", \"Rocky Mount\": \"North Carolina\", \"Americus\": \"Georgia\", \"Madera\": \"California\", \"Port Washington\": \"New York\", \"Branford\": \"Connecticut\", \"Chickasha\": \"Oklahoma\", \"South Bradenton\": \"Florida\", \"Oxnard Shores\": \"California\", \"Huntley\": \"Illinois\", \"Scottsdale\": \"Arizona\", \"Palm Coast\": \"Florida\", \"Homewood\": \"Alabama\", \"Berwyn\": \"Illinois\", \"Huber Heights\": \"Ohio\", \"Bay Village\": \"Ohio\", \"Eagle Pass\": \"Texas\", \"Plainview\": \"Texas\", \"Gloversville\": \"New York\", \"South Portland\": \"Maine\", \"Wantagh\": \"New York\", \"Staten Island\": \"New York\", \"Angleton\": \"Texas\", \"Woodburn\": \"Oregon\", \"Rockville\": \"Maryland\", \"Monterey Park\": \"California\", \"Montclair\": \"New Jersey\", \"Brockton\": \"Massachusetts\", \"Cincinnati\": \"Ohio\", \"Somerset\": \"New Jersey\", \"Bentonville\": \"Arkansas\", \"Elgin\": \"Illinois\", \"South Elgin\": \"Illinois\", \"Rockland\": \"Massachusetts\", \"Bensenville\": \"Illinois\", \"San Francisco\": \"California\", \"Mukilteo\": \"Washington\", \"Merritt Island\": \"Florida\", \"Avocado Heights\": \"California\", \"Corpus Christi\": \"Texas\", \"Altamonte Springs\": \"Florida\", \"Ellicott City\": \"Maryland\", \"North Royalton\": \"Ohio\", \"Toms River\": \"New Jersey\", \"Forrest City\": \"Arkansas\", \"Kihei\": \"Hawaii\", \"Colonia\": \"New Jersey\", \"Prairieville\": \"Louisiana\", \"South Valley\": \"New Mexico\", \"Waipahu\": \"Hawaii\", \"Florin\": \"California\", \"Rio Linda\": \"California\", \"Highlands Ranch\": \"Colorado\", \"Crest Hill\": \"Illinois\", \"Yarmouth\": \"Massachusetts\", \"Augusta\": \"Georgia\", \"Bremerton\": \"Washington\", \"Lavergne\": \"Tennessee\", \"Millcreek\": \"Utah\", \"Evanston\": \"Illinois\", \"De Pere\": \"Wisconsin\", \"Paducah\": \"Kentucky\", \"Fremont\": \"California\", \"Four Corners\": \"Oregon\", \"Lenexa\": \"Kansas\", \"Covington\": \"Washington\", \"Mustang\": \"Oklahoma\", \"Calexico\": \"California\", \"Barstow\": \"California\", \"Ferndale\": \"Michigan\", \"Oklahoma City\": \"Oklahoma\", \"Magna\": \"Utah\", \"Tahlequah\": \"Oklahoma\", \"El Dorado\": \"Arkansas\", \"McAlester\": \"Oklahoma\", \"Levittown\": \"New York\", \"South Whittier\": \"California\", \"Huntington\": \"New York\", \"McMinnville\": \"Oregon\", \"Irondequoit\": \"New York\", \"DeBary\": \"Florida\", \"Westfield\": \"Massachusetts\", \"Castaic\": \"California\", \"Villa Park\": \"Illinois\", \"Erlanger\": \"Kentucky\", \"Bryan\": \"Texas\", \"San Jose\": \"California\", \"Matthews\": \"North Carolina\", \"Maryville\": \"Tennessee\", \"Oroville\": \"California\", \"Weirton\": \"West Virginia\", \"Poinciana\": \"Florida\", \"South Peabody\": \"Massachusetts\", \"Rohnert Park\": \"California\", \"North Kingstown\": \"Rhode Island\", \"Spanish Lake\": \"Missouri\", \"Hobart\": \"Indiana\", \"Rahway\": \"New Jersey\", \"Navarre\": \"Florida\", \"Harker Heights\": \"Texas\", \"Kenosha\": \"Wisconsin\", \"West Babylon\": \"New York\", \"Marshalltown\": \"Iowa\", \"Madison\": \"New Jersey\", \"Warrensburg\": \"Missouri\", \"Boulder City\": \"Nevada\", \"Colleyville\": \"Texas\", \"Winchester\": \"Kentucky\", \"Lafayette\": \"Louisiana\", \"Parsippany\": \"New Jersey\", \"Orchards\": \"Washington\", \"Center Point\": \"Alabama\", \"Crofton\": \"Maryland\", \"Royal Palm Beach\": \"Florida\", \"Herriman\": \"Utah\", \"East Patchogue\": \"New York\", \"West Torrington\": \"Connecticut\", \"The Crossings\": \"Florida\", \"Everett\": \"Massachusetts\", \"Austin\": \"Minnesota\", \"Tamarac\": \"Florida\", \"Arroyo Grande\": \"California\", \"Fort Lauderdale\": \"Florida\", \"Norfolk\": \"Nebraska\", \"Valparaiso\": \"Indiana\", \"New Rochelle\": \"New York\", \"Vandalia\": \"Ohio\", \"Casas Adobes\": \"Arizona\", \"Taunton\": \"Massachusetts\", \"Morgan Hill\": \"California\", \"Council Bluffs\": \"Iowa\", \"Cottage Lake\": \"Washington\", \"Bethesda\": \"Maryland\", \"Centereach\": \"New York\", \"Urbana\": \"Illinois\", \"Hays\": \"Kansas\", \"Lomita\": \"California\", \"Ilchester\": \"Maryland\", \"Webster Groves\": \"Missouri\", \"Southfield\": \"Michigan\", \"Lawton\": \"Oklahoma\", \"Carol City\": \"Florida\", \"North Bethesda\": \"Maryland\", \"Lake Magdalene\": \"Florida\", \"Rio Rico\": \"Arizona\", \"Avon Center\": \"Ohio\", \"Skokie\": \"Illinois\", \"Logan\": \"Utah\", \"Amarillo\": \"Texas\", \"Shoreline\": \"Washington\", \"Coppell\": \"Texas\", \"Pearl River\": \"New York\", \"Titusville\": \"Florida\", \"Orem\": \"Utah\", \"Cary\": \"Illinois\", \"Fairview Heights\": \"Illinois\", \"Acworth\": \"Georgia\", \"Golden\": \"Colorado\", \"Gardner\": \"Kansas\", \"Lombard\": \"Illinois\", \"Dania Beach\": \"Florida\", \"Maple Heights\": \"Ohio\", \"Casa de Oro-Mount Helix\": \"California\", \"Brownsville\": \"Florida\", \"Chicago\": \"Illinois\", \"Largo\": \"Florida\", \"Papillion\": \"Nebraska\", \"Menomonee Falls\": \"Wisconsin\", \"Jacksonville Beach\": \"Florida\", \"Hopkinsville\": \"Kentucky\", \"Ocala\": \"Florida\", \"Defiance\": \"Ohio\", \"Texarkana\": \"Arkansas\", \"Warwick\": \"Rhode Island\", \"Bonita Springs\": \"Florida\", \"Garner\": \"North Carolina\", \"Vineyard\": \"California\", \"Great Falls\": \"Montana\", \"Downey\": \"California\", \"West Haven\": \"Connecticut\", \"Goose Creek\": \"South Carolina\", \"Menasha\": \"Wisconsin\", \"Fountain Valley\": \"California\", \"Evansville\": \"Indiana\", \"Radcliff\": \"Kentucky\", \"Tampa\": \"Florida\", \"Sherman Oaks\": \"California\", \"Aliso Viejo\": \"California\", \"Belvidere\": \"Illinois\", \"Lithia Springs\": \"Georgia\", \"Russellville\": \"Arkansas\", \"Swansea\": \"Massachusetts\", \"Ferguson\": \"Missouri\", \"Tigard\": \"Oregon\", \"Bradenton\": \"Florida\", \"Geneva\": \"Illinois\", \"Salt Lake City\": \"Utah\", \"Grove City\": \"Ohio\", \"Calverton\": \"Maryland\", \"Eastpointe\": \"Michigan\", \"Fallbrook\": \"California\", \"Payson\": \"Arizona\", \"Melrose\": \"Massachusetts\", \"Palm Desert\": \"California\", \"State College\": \"Pennsylvania\", \"Marion\": \"Ohio\", \"Rochester\": \"New York\", \"Milledgeville\": \"Georgia\", \"New Smyrna Beach\": \"Florida\", \"Severn\": \"Maryland\", \"Columbus\": \"Georgia\", \"Junction City\": \"Kansas\", \"West Valley City\": \"Utah\", \"Sudbury\": \"Massachusetts\", \"Hauppauge\": \"New York\", \"Greeley\": \"Colorado\", \"Altus\": \"Oklahoma\", \"Pompano Beach\": \"Florida\", \"Mountain View\": \"California\", \"Manhattan\": \"New York\", \"South Lake Tahoe\": \"California\", \"Wausau\": \"Wisconsin\", \"Ridgewood\": \"New Jersey\", \"Hacienda Heights\": \"California\", \"Miami Gardens\": \"Florida\", \"Belton\": \"Missouri\", \"Wooster\": \"Ohio\", \"Sunnyvale\": \"California\", \"Channelview\": \"Texas\", \"Waukesha\": \"Wisconsin\", \"Fishers\": \"Indiana\", \"Brighton\": \"Colorado\", \"Calhoun\": \"Georgia\", \"Fort Hood\": \"Texas\", \"Owings Mills\": \"Maryland\", \"Lauderdale Lakes\": \"Florida\", \"Roosevelt\": \"New York\", \"East Independence\": \"Missouri\", \"Juneau\": \"Alaska\", \"Golden Gate\": \"Florida\", \"Foster City\": \"California\", \"Kalispell\": \"Montana\", \"South Hadley\": \"Massachusetts\", \"Findlay\": \"Ohio\", \"Huntington Station\": \"New York\", \"Trussville\": \"Alabama\", \"Baldwin Park\": \"California\", \"Prairie Village\": \"Kansas\", \"LaPorte\": \"Indiana\", \"Newport\": \"Rhode Island\", \"Lebanon\": \"Tennessee\", \"South Holland\": \"Illinois\", \"Albuquerque\": \"New Mexico\", \"Hattiesburg\": \"Mississippi\", \"Chowchilla\": \"California\", \"Sun City West\": \"Arizona\", \"Lincoln Park\": \"Michigan\", \"Carlsbad\": \"New Mexico\", \"Tallahassee\": \"Florida\", \"Buenaventura Lakes\": \"Florida\", \"Ceres\": \"California\", \"Mercer Island\": \"Washington\", \"Talladega\": \"Alabama\", \"Fairland\": \"Maryland\", \"San Dimas\": \"California\", \"Rapid City\": \"South Dakota\", \"Newburg\": \"Kentucky\", \"Brent\": \"Florida\", \"Yuma\": \"Arizona\", \"Northridge\": \"California\", \"Paragould\": \"Arkansas\", \"West Gulfport\": \"Mississippi\", \"Euless\": \"Texas\", \"Lake Stevens\": \"Washington\", \"Goodings Grove\": \"Illinois\", \"Bel Air South\": \"Maryland\", \"Haltom City\": \"Texas\", \"Camp Springs\": \"Maryland\", \"Troutdale\": \"Oregon\", \"National City\": \"California\", \"Edinburg\": \"Texas\", \"Point Pleasant\": \"New Jersey\", \"La Grange\": \"Illinois\", \"Socorro Mission Number 1 Colonia\": \"Texas\", \"Cape Girardeau\": \"Missouri\", \"Upper Saint Clair\": \"Pennsylvania\", \"Florence\": \"Alabama\", \"Bridgewater\": \"New Jersey\", \"Raymore\": \"Missouri\", \"New Berlin\": \"Wisconsin\", \"Dearborn Heights\": \"Michigan\", \"Detroit\": \"Michigan\", \"Flint\": \"Michigan\", \"Tulare\": \"California\", \"Marlboro\": \"New Jersey\", \"Castro Valley\": \"California\", \"Lino Lakes\": \"Minnesota\", \"Calumet City\": \"Illinois\", \"Peekskill\": \"New York\", \"Mequon\": \"Wisconsin\", \"Roseville\": \"California\", \"Fort Hunt\": \"Virginia\", \"Reisterstown\": \"Maryland\", \"Moorhead\": \"Minnesota\", \"Mooresville\": \"North Carolina\", \"Natchitoches\": \"Louisiana\", \"Agawam\": \"Massachusetts\", \"Crestview\": \"Florida\", \"Willingboro\": \"New Jersey\", \"Hoffman Estates\": \"Illinois\", \"Sterling Heights\": \"Michigan\", \"Cliffside Park\": \"New Jersey\", \"Nashua\": \"New Hampshire\", \"Madison Heights\": \"Michigan\", \"New York City\": \"New York\", \"Palmetto Bay\": \"Florida\", \"Dundalk\": \"Maryland\", \"Calabasas\": \"California\", \"Olney\": \"Maryland\", \"Maryland Heights\": \"Missouri\", \"Lewiston Orchards\": \"Idaho\", \"Newnan\": \"Georgia\", \"Glen Burnie\": \"Maryland\", \"Sun Prairie\": \"Wisconsin\", \"Cockeysville\": \"Maryland\", \"North Creek\": \"Washington\", \"Derby\": \"Kansas\", \"Coconut Creek\": \"Florida\", \"Murfreesboro\": \"Tennessee\", \"Parker\": \"Colorado\", \"Arbutus\": \"Maryland\", \"Loveland\": \"Colorado\", \"Susanville\": \"California\", \"Chalmette\": \"Louisiana\", \"Saint Cloud\": \"Florida\", \"Edison\": \"New Jersey\", \"Cedar Rapids\": \"Iowa\", \"Beaumont\": \"Texas\", \"Flowing Wells\": \"Arizona\", \"Patterson\": \"California\", \"Summit\": \"New Jersey\", \"Pinewood\": \"Florida\", \"Owosso\": \"Michigan\", \"Antelope\": \"California\", \"Greer\": \"South Carolina\", \"Jackson\": \"Michigan\", \"Dodge City\": \"Kansas\", \"Ponte Vedra Beach\": \"Florida\", \"Palatine\": \"Illinois\", \"La Crosse\": \"Wisconsin\", \"Columbia Heights\": \"Minnesota\", \"Pinellas Park\": \"Florida\", \"Chico\": \"California\", \"Kuna\": \"Idaho\", \"Gretna\": \"Louisiana\", \"Ewing\": \"New Jersey\", \"Parole\": \"Maryland\", \"Hannibal\": \"Missouri\", \"Hillsboro\": \"Oregon\", \"Alamogordo\": \"New Mexico\", \"Carol Stream\": \"Illinois\", \"Willoughby\": \"Ohio\", \"South Bend\": \"Indiana\", \"Pacific Grove\": \"California\", \"Jamaica Plain\": \"Massachusetts\", \"Griffith\": \"Indiana\", \"North Bellmore\": \"New York\", \"South Euclid\": \"Ohio\", \"Valley Stream\": \"New York\", \"O'Fallon\": \"Illinois\", \"Onalaska\": \"Wisconsin\", \"Crawfordsville\": \"Indiana\", \"Aldine\": \"Texas\", \"Post Falls\": \"Idaho\", \"Rexburg\": \"Idaho\", \"Ponca City\": \"Oklahoma\", \"Kaysville\": \"Utah\", \"St. Marys\": \"Georgia\", \"Shenandoah\": \"Louisiana\", \"Westbury\": \"New York\", \"Wasco\": \"California\", \"Maitland\": \"Florida\", \"Fortuna Foothills\": \"Arizona\", \"Frankfort\": \"Kentucky\", \"Battle Creek\": \"Michigan\", \"Paterson\": \"New Jersey\", \"Tualatin\": \"Oregon\", \"Murrysville\": \"Pennsylvania\", \"Balch Springs\": \"Texas\", \"Rio Rancho\": \"New Mexico\", \"Selden\": \"New York\", \"Jersey City\": \"New Jersey\", \"Chandler\": \"Arizona\", \"Fort Walton Beach\": \"Florida\", \"New Milford\": \"New Jersey\", \"Newberg\": \"Oregon\", \"Affton\": \"Missouri\", \"Kaneohe\": \"Hawaii\", \"Hinesville\": \"Georgia\", \"Lexington-Fayette\": \"Kentucky\", \"Nutley\": \"New Jersey\", \"Pekin\": \"Illinois\", \"Summerville\": \"South Carolina\", \"Lake Forest\": \"Illinois\", \"Glendale\": \"California\", \"Flower Mound\": \"Texas\", \"Fond du Lac\": \"Wisconsin\", \"Ruston\": \"Louisiana\", \"Valrico\": \"Florida\", \"Melrose Park\": \"Illinois\", \"Radnor\": \"Pennsylvania\", \"Shelbyville\": \"Indiana\", \"Henderson\": \"North Carolina\", \"Raleigh\": \"North Carolina\", \"Schaumburg\": \"Illinois\", \"Perry Hall\": \"Maryland\", \"West Bloomfield Township\": \"Michigan\", \"Terrytown\": \"Louisiana\", \"Rancho Cordova\": \"California\", \"Bella Vista\": \"Arkansas\", \"Olive Branch\": \"Mississippi\", \"Cocoa\": \"Florida\", \"Longview\": \"Washington\", \"Hamtramck\": \"Michigan\", \"Randallstown\": \"Maryland\", \"Hesperia\": \"California\", \"Five Corners\": \"Washington\", \"East Brainerd\": \"Tennessee\", \"Mineola\": \"New York\", \"Opa-locka\": \"Florida\", \"Littleton\": \"Colorado\", \"South Jordan Heights\": \"Utah\", \"Albemarle\": \"North Carolina\", \"Gillette\": \"Wyoming\", \"North Platte\": \"Nebraska\", \"Montgomery\": \"Alabama\", \"North Highlands\": \"California\", \"Brea\": \"California\", \"South Miami Heights\": \"Florida\", \"Avenal\": \"California\", \"Lancaster\": \"Ohio\", \"Brownsburg\": \"Indiana\", \"Ormond Beach\": \"Florida\", \"Coos Bay\": \"Oregon\", \"Pembroke Pines\": \"Florida\", \"Claremore\": \"Oklahoma\", \"Gastonia\": \"North Carolina\", \"East Saint Louis\": \"Illinois\", \"Sterling\": \"Illinois\", \"Lake Worth Corridor\": \"Florida\", \"Selma\": \"California\", \"Seven Oaks\": \"South Carolina\", \"Rancho Mirage\": \"California\", \"Wake Forest\": \"North Carolina\", \"Gahanna\": \"Ohio\", \"Richmond\": \"Kentucky\", \"Park Forest\": \"Illinois\", \"Wethersfield\": \"Connecticut\", \"Douglasville\": \"Georgia\", \"Laurel\": \"Mississippi\", \"Homer Glen\": \"Illinois\", \"Fountain\": \"Colorado\", \"San Marcos\": \"California\", \"Copiague\": \"New York\", \"Matteson\": \"Illinois\", \"North Tonawanda\": \"New York\", \"Stockton\": \"California\", \"Statesboro\": \"Georgia\", \"Fargo\": \"North Dakota\", \"West Lake Stevens\": \"Washington\", \"Corona\": \"California\", \"Cutler Bay\": \"Florida\", \"Seaside\": \"California\", \"Shively\": \"Kentucky\", \"Hemet\": \"California\", \"Billerica\": \"Massachusetts\", \"Amesbury\": \"Massachusetts\", \"Spring Valley\": \"New York\", \"Chino\": \"California\", \"Great Bend\": \"Kansas\", \"Bossier City\": \"Louisiana\", \"Windsor\": \"Colorado\", \"Riverside\": \"Ohio\", \"Limerick\": \"Pennsylvania\", \"Blaine\": \"Minnesota\", \"Paramount\": \"California\", \"Lynbrook\": \"New York\", \"Eggertsville\": \"New York\", \"Ballwin\": \"Missouri\", \"Gresham\": \"Oregon\", \"Saint Charles\": \"Missouri\", \"Saint Matthews\": \"Kentucky\", \"Nashville\": \"Tennessee\", \"North Babylon\": \"New York\", \"Holtsville\": \"New York\", \"Southchase\": \"Florida\", \"Sanger\": \"California\", \"Eloy\": \"Arizona\", \"Daly City\": \"California\", \"Bedford\": \"New Hampshire\", \"Kennewick\": \"Washington\", \"Cranston\": \"Rhode Island\", \"Garden City\": \"New York\", \"Wellesley\": \"Massachusetts\", \"Ypsilanti\": \"Michigan\", \"Tinton Falls\": \"New Jersey\", \"Alamo\": \"Texas\", \"Bryn Mawr-Skyway\": \"Washington\", \"Roswell\": \"Georgia\", \"Blue Island\": \"Illinois\", \"West Bend\": \"Wisconsin\", \"Alvin\": \"Texas\", \"Culver City\": \"California\", \"Hoboken\": \"New Jersey\", \"Atascocita\": \"Texas\", \"Ridgeland\": \"Mississippi\", \"Wheaton\": \"Maryland\", \"East Millcreek\": \"Utah\", \"Ashwaubenon\": \"Wisconsin\", \"West Lafayette\": \"Indiana\", \"Worcester\": \"Massachusetts\", \"Rocky River\": \"Ohio\", \"Keystone\": \"Florida\", \"Fayetteville\": \"Georgia\", \"Laconia\": \"New Hampshire\", \"Rosemont\": \"California\", \"Spanish Springs\": \"Nevada\", \"Fruit Cove\": \"Florida\", \"Opelousas\": \"Louisiana\", \"Jeffersontown\": \"Kentucky\", \"Banning\": \"California\", \"Lacey\": \"Washington\", \"Oakdale\": \"Minnesota\", \"Tucson\": \"Arizona\", \"McDonough\": \"Georgia\", \"Mahwah\": \"New Jersey\", \"Providence\": \"Rhode Island\", \"Rochester Hills\": \"Michigan\", \"North Salt Lake\": \"Utah\", \"Liberty\": \"Missouri\", \"San Lorenzo\": \"California\", \"Ludlow\": \"Massachusetts\", \"Macon\": \"Georgia\", \"Georgetown\": \"Texas\", \"Schererville\": \"Indiana\", \"Sikeston\": \"Missouri\", \"Jamestown\": \"New York\", \"Eau Claire\": \"Wisconsin\", \"Lauderhill\": \"Florida\", \"Metairie Terrace\": \"Louisiana\", \"Fitchburg\": \"Wisconsin\", \"Acton\": \"Massachusetts\", \"Westerly\": \"Rhode Island\", \"West Chester\": \"Pennsylvania\", \"Denison\": \"Texas\", \"Diamond Bar\": \"California\", \"Goldsboro\": \"North Carolina\", \"Chambersburg\": \"Pennsylvania\", \"Merrick\": \"New York\", \"Dolton\": \"Illinois\", \"Hendersonville\": \"Tennessee\", \"Vero Beach South\": \"Florida\", \"Redford\": \"Michigan\", \"Broomfield\": \"Colorado\", \"Canoga Park\": \"California\", \"Del City\": \"Oklahoma\", \"Shorewood\": \"Illinois\", \"Kingsport\": \"Tennessee\", \"Akron\": \"Ohio\", \"Ensley\": \"Florida\", \"Mount Vernon\": \"New York\", \"Piscataway\": \"New Jersey\", \"Ellensburg\": \"Washington\", \"Cahokia\": \"Illinois\", \"Kissimmee\": \"Florida\", \"Dothan\": \"Alabama\", \"San Pablo\": \"California\", \"Kahului\": \"Hawaii\", \"Del Rio\": \"Texas\", \"Alice\": \"Texas\", \"Menlo Park\": \"California\", \"South Salt Lake\": \"Utah\", \"Broadview Heights\": \"Ohio\", \"Chanhassen\": \"Minnesota\", \"Haverhill\": \"Massachusetts\", \"Tulsa\": \"Oklahoma\", \"High Point\": \"North Carolina\", \"San Rafael\": \"California\", \"Clovis\": \"California\", \"Ottawa\": \"Illinois\", \"Des Plaines\": \"Illinois\", \"Redland\": \"Maryland\", \"West Orange\": \"New Jersey\", \"South Vineland\": \"New Jersey\", \"Baton Rouge\": \"Louisiana\", \"Butte\": \"Montana\", \"East Longmeadow\": \"Massachusetts\", \"Los Banos\": \"California\", \"Milwaukie\": \"Oregon\", \"Santa Fe\": \"New Mexico\", \"Chattanooga\": \"Tennessee\", \"Spokane Valley\": \"Washington\", \"Coachella\": \"California\", \"Mission Viejo\": \"California\", \"Severna Park\": \"Maryland\", \"Algonquin\": \"Illinois\", \"Green\": \"Ohio\", \"Mehlville\": \"Missouri\", \"Rancho Palos Verdes\": \"California\", \"Carpentersville\": \"Illinois\", \"Aurora\": \"Ohio\", \"Dedham\": \"Massachusetts\", \"Palmer\": \"Massachusetts\", \"Eastlake\": \"Ohio\", \"Syosset\": \"New York\", \"Dixiana\": \"Alabama\", \"East Setauket\": \"New York\", \"Easthampton\": \"Massachusetts\", \"Livonia\": \"Michigan\", \"Silverdale\": \"Washington\", \"Catonsville\": \"Maryland\", \"Fountainebleau\": \"Florida\", \"New Hope\": \"Minnesota\", \"Seminole\": \"Florida\", \"Town 'n' Country\": \"Florida\", \"Corinth\": \"Texas\", \"Lindenhurst\": \"New York\", \"Liberal\": \"Kansas\", \"Framingham Center\": \"Massachusetts\", \"Pearl City\": \"Hawaii\", \"Casa Grande\": \"Arizona\", \"Mililani Town\": \"Hawaii\", \"Ojus\": \"Florida\", \"Kendale Lakes\": \"Florida\", \"Fairbanks\": \"Alaska\", \"Essex\": \"Maryland\", \"Three Lakes\": \"Florida\", \"Beverly Cove\": \"Massachusetts\", \"Taylors\": \"South Carolina\", \"Vestavia Hills\": \"Alabama\", \"Salmon Creek\": \"Washington\", \"Dix Hills\": \"New York\", \"Alameda\": \"California\", \"Mountain Brook\": \"Alabama\", \"Sicklerville\": \"New Jersey\", \"Groves\": \"Texas\", \"East Chicago\": \"Indiana\", \"Strongsville\": \"Ohio\", \"Rotterdam\": \"New York\", \"Plantation\": \"Florida\", \"Bay City\": \"Michigan\", \"West Raleigh\": \"North Carolina\", \"Easton\": \"Massachusetts\", \"Union City\": \"New Jersey\", \"Nampa\": \"Idaho\", \"Bartlesville\": \"Oklahoma\", \"Norristown\": \"Pennsylvania\", \"Jonesboro\": \"Arkansas\", \"Waterloo\": \"Iowa\", \"Lehi\": \"Utah\", \"Holiday\": \"Florida\", \"Mount Juliet\": \"Tennessee\", \"Estelle\": \"Louisiana\", \"Woodbury\": \"Minnesota\", \"Belmont\": \"Massachusetts\", \"Menifee\": \"California\", \"Munster\": \"Indiana\", \"Tracy\": \"California\", \"Sheboygan\": \"Wisconsin\", \"Wellington\": \"Florida\", \"Bloomfield\": \"New Jersey\", \"Addison\": \"Illinois\", \"Tiffin\": \"Ohio\", \"City of Sammamish\": \"Washington\", \"Taylor\": \"Michigan\", \"Bristol\": \"Rhode Island\", \"Jasper\": \"Indiana\", \"Saratoga Springs\": \"New York\", \"Egypt Lake-Leto\": \"Florida\", \"Fall River\": \"Massachusetts\", \"Garland\": \"Texas\", \"Sandy Hills\": \"Utah\", \"Elkton\": \"Maryland\", \"Harrison\": \"New York\", \"Big Spring\": \"Texas\", \"Coronado\": \"California\", \"Rockville Centre\": \"New York\", \"Roseburg\": \"Oregon\", \"Perrysburg\": \"Ohio\", \"Miami Beach\": \"Florida\", \"Scranton\": \"Pennsylvania\", \"Centralia\": \"Washington\", \"Muskogee\": \"Oklahoma\", \"Edina\": \"Minnesota\", \"North Aurora\": \"Illinois\", \"Smyrna\": \"Georgia\", \"Omaha\": \"Nebraska\", \"Avon\": \"Ohio\", \"Clarksdale\": \"Mississippi\", \"Sandusky\": \"Ohio\", \"Hazel Park\": \"Michigan\", \"Tempe\": \"Arizona\", \"West Covina\": \"California\", \"Grandville\": \"Michigan\", \"Pahrump\": \"Nevada\", \"Temple Terrace\": \"Florida\", \"Norton\": \"Massachusetts\", \"Dinuba\": \"California\", \"Kirksville\": \"Missouri\", \"Fuquay-Varina\": \"North Carolina\", \"Oxnard\": \"California\", \"Apopka\": \"Florida\", \"New Albany\": \"Indiana\", \"Old Bridge\": \"New Jersey\", \"Stoneham\": \"Massachusetts\", \"Jenison\": \"Michigan\", \"West Hills\": \"California\", \"Annapolis\": \"Maryland\", \"Jefferson City\": \"Missouri\", \"Southaven\": \"Mississippi\", \"Chaska\": \"Minnesota\", \"Appleton\": \"Wisconsin\", \"Ansonia\": \"Connecticut\", \"Hopatcong Hills\": \"New Jersey\", \"Cimarron Hills\": \"Colorado\", \"Orinda\": \"California\", \"New Castle\": \"Pennsylvania\", \"Altamont\": \"Oregon\", \"Noblesville\": \"Indiana\", \"Edmonds\": \"Washington\", \"Irvington\": \"New Jersey\", \"Mount Clemens\": \"Michigan\", \"Knoxville\": \"Tennessee\", \"Longmeadow\": \"Massachusetts\", \"Harrisburg\": \"Pennsylvania\", \"Hutchinson\": \"Kansas\", \"Saint Clair Shores\": \"Michigan\", \"San Carlos\": \"California\", \"Tustin\": \"California\", \"Claremont\": \"California\", \"Immokalee\": \"Florida\", \"West Des Moines\": \"Iowa\", \"Lehigh Acres\": \"Florida\", \"East Hill-Meridian\": \"Washington\", \"Gadsden\": \"Alabama\", \"Orcutt\": \"California\", \"Plainfield\": \"Illinois\", \"San Leandro\": \"California\", \"New Philadelphia\": \"Ohio\", \"Broken Arrow\": \"Oklahoma\", \"Ada\": \"Oklahoma\", \"Oakland Park\": \"Florida\", \"Palmdale\": \"California\", \"Fairfield Heights\": \"Indiana\", \"Central Islip\": \"New York\", \"Cathedral City\": \"California\", \"Sunset\": \"Florida\", \"Nogales\": \"Arizona\", \"Jenks\": \"Oklahoma\", \"Oildale\": \"California\", \"Kent\": \"Washington\", \"Fridley\": \"Minnesota\", \"Cudahy\": \"Wisconsin\", \"Whitehall Township\": \"Pennsylvania\", \"Lawrence\": \"Massachusetts\", \"Oshkosh\": \"Wisconsin\", \"San Bruno\": \"California\", \"Dalton\": \"Georgia\", \"Lake in the Hills\": \"Illinois\", \"Honolulu\": \"Hawaii\", \"Iselin\": \"New Jersey\", \"Sandy Springs\": \"Georgia\", \"Mastic\": \"New York\", \"Frederickson\": \"Washington\", \"Westland\": \"Michigan\", \"Oxon Hill\": \"Maryland\", \"Asbury Park\": \"New Jersey\", \"Cranberry Township\": \"Pennsylvania\", \"Antioch\": \"California\", \"Central Point\": \"Oregon\", \"South Burlington\": \"Vermont\", \"Sammamish\": \"Washington\", \"Catalina Foothills\": \"Arizona\", \"Oak Lawn\": \"Illinois\", \"Central\": \"Louisiana\", \"Damascus\": \"Maryland\", \"Kokomo\": \"Indiana\", \"Santa Ana\": \"California\", \"Louisville\": \"Colorado\", \"Clermont\": \"Florida\", \"Framingham\": \"Massachusetts\", \"East Chattanooga\": \"Tennessee\", \"Olathe\": \"Kansas\", \"South Bel Air\": \"Maryland\", \"Franklin Park\": \"Illinois\", \"Newburgh\": \"New York\", \"South Yuba City\": \"California\", \"Morton Grove\": \"Illinois\", \"Socastee\": \"South Carolina\", \"Fort Bragg\": \"North Carolina\", \"Kendall\": \"Florida\", \"Hopatcong\": \"New Jersey\", \"Valley Station\": \"Kentucky\", \"Beavercreek\": \"Ohio\", \"South Hill\": \"Washington\", \"Massapequa Park\": \"New York\", \"El Segundo\": \"California\", \"Pasco\": \"Washington\", \"Norwood\": \"Ohio\", \"Brookings\": \"South Dakota\", \"Fernley\": \"Nevada\", \"West Jordan\": \"Utah\", \"Novi\": \"Michigan\", \"Caledonia\": \"Wisconsin\", \"North Bay Shore\": \"New York\", \"Twinsburg\": \"Ohio\", \"Biloxi\": \"Mississippi\", \"Albert Lea\": \"Minnesota\", \"Machesney Park\": \"Illinois\", \"Clifton\": \"New Jersey\", \"North Lauderdale\": \"Florida\", \"Merrimack\": \"New Hampshire\", \"Kearny\": \"New Jersey\", \"Arcata\": \"California\", \"East Lake\": \"Florida\", \"Hope Mills\": \"North Carolina\", \"Woodbridge\": \"New Jersey\", \"Suitland\": \"Maryland\", \"Janesville\": \"Wisconsin\", \"Phoenix\": \"Arizona\", \"West Fargo\": \"North Dakota\", \"Lumberton\": \"North Carolina\", \"Libertyville\": \"Illinois\", \"Grand Island\": \"Nebraska\", \"McKeesport\": \"Pennsylvania\", \"Elko\": \"Nevada\", \"Portage\": \"Indiana\", \"Folsom\": \"California\", \"Langley Park\": \"Maryland\", \"Massillon\": \"Ohio\", \"Waverly\": \"Michigan\", \"Eagle\": \"Idaho\", \"Warren Township\": \"New Jersey\", \"Meridian\": \"Idaho\", \"Chelmsford\": \"Massachusetts\", \"Yakima\": \"Washington\", \"Longmont\": \"Colorado\", \"White Plains\": \"New York\", \"Saginaw\": \"Michigan\", \"Silver Spring\": \"Maryland\", \"North Bergen\": \"New Jersey\", \"Cedar Park\": \"Texas\", \"SeaTac\": \"Washington\", \"Placentia\": \"California\", \"Davis\": \"California\", \"Douglas\": \"Arizona\", \"Snellville\": \"Georgia\", \"Farmington Hills\": \"Michigan\", \"Evans\": \"Georgia\", \"West Milford\": \"New Jersey\", \"St. Louis\": \"Missouri\", \"Prunedale\": \"California\", \"Milwaukee\": \"Wisconsin\", \"Westlake\": \"Ohio\", \"Depew\": \"New York\", \"Friendswood\": \"Texas\", \"Johnstown\": \"Pennsylvania\", \"Mount Pleasant\": \"Michigan\", \"Las Cruces\": \"New Mexico\", \"Lakeville\": \"Minnesota\", \"Manhattan Beach\": \"California\", \"Opportunity\": \"Washington\", \"Gurnee\": \"Illinois\", \"North Charleston\": \"South Carolina\", \"Soledad\": \"California\", \"Thomasville\": \"North Carolina\", \"Riverview\": \"Florida\", \"Canon City\": \"Colorado\", \"Truckee\": \"California\", \"Lockport\": \"New York\", \"Columbia\": \"Maryland\", \"Rockledge\": \"Florida\", \"Wildwood\": \"Missouri\", \"Glen Cove\": \"New York\", \"Lynn\": \"Massachusetts\", \"Wisconsin Rapids\": \"Wisconsin\", \"Owatonna\": \"Minnesota\", \"Arcadia\": \"California\", \"San Ramon\": \"California\", \"North Providence\": \"Rhode Island\", \"Owasso\": \"Oklahoma\", \"Santa Cruz\": \"California\", \"Goodlettsville\": \"Tennessee\", \"Moore\": \"Oklahoma\", \"Winter Haven\": \"Florida\", \"Red Wing\": \"Minnesota\", \"Northbrook\": \"Illinois\", \"Hermiston\": \"Oregon\", \"Reedley\": \"California\", \"Candler-McAfee\": \"Georgia\", \"South San Francisco\": \"California\", \"Fort Wayne\": \"Indiana\", \"Simi Valley\": \"California\", \"Bridgeton\": \"New Jersey\", \"Iowa City\": \"Iowa\", \"Lochearn\": \"Maryland\", \"Atlantic City\": \"New Jersey\", \"Beacon\": \"New York\", \"Camas\": \"Washington\", \"Mankato\": \"Minnesota\", \"Martha Lake\": \"Washington\", \"Lakeside\": \"Florida\", \"Glenview\": \"Illinois\", \"Greater Northdale\": \"Florida\", \"Klamath Falls\": \"Oregon\", \"Golden Glades\": \"Florida\", \"Hazel Dell\": \"Washington\", \"Okemos\": \"Michigan\", \"Galesburg\": \"Illinois\", \"Greeneville\": \"Tennessee\", \"Horn Lake\": \"Mississippi\", \"Auburn\": \"Massachusetts\", \"Kentwood\": \"Michigan\", \"Pampa\": \"Texas\", \"Gainesville\": \"Texas\", \"King of Prussia\": \"Pennsylvania\", \"East Riverdale\": \"Maryland\", \"Edwardsville\": \"Illinois\", \"Anchorage\": \"Alaska\", \"Oak Hill\": \"Virginia\", \"Fort Myers\": \"Florida\", \"Moses Lake\": \"Washington\", \"Grafton\": \"Massachusetts\", \"Westminster\": \"Maryland\", \"Springfield\": \"Massachusetts\", \"Pickerington\": \"Ohio\", \"New Bedford\": \"Massachusetts\", \"Moorpark\": \"California\", \"City of Milford (balance)\": \"Connecticut\", \"Evergreen Park\": \"Illinois\", \"Dayton\": \"Ohio\", \"Pleasure Ridge Park\": \"Kentucky\", \"Holbrook\": \"New York\", \"Holland\": \"Michigan\", \"Sidney\": \"Ohio\", \"West Odessa\": \"Texas\", \"Secaucus\": \"New Jersey\", \"Jupiter\": \"Florida\", \"Johnson City\": \"Tennessee\", \"Gulfport\": \"Mississippi\", \"Ardmore\": \"Oklahoma\", \"Minnetonka Mills\": \"Minnesota\", \"Myrtle Beach\": \"South Carolina\", \"Sahuarita\": \"Arizona\", \"Palm Springs\": \"California\", \"Pelham\": \"Alabama\", \"Ontario\": \"California\", \"Ham Lake\": \"Minnesota\", \"Birmingham\": \"Alabama\", \"Upper Arlington\": \"Ohio\", \"North Ridgeville\": \"Ohio\", \"Marietta\": \"Georgia\", \"Wakefield\": \"Massachusetts\", \"Imperial Beach\": \"California\", \"Huntsville\": \"Alabama\", \"Pico Rivera\": \"California\", \"Pearl\": \"Mississippi\", \"Cameron Park\": \"California\", \"Ankeny\": \"Iowa\", \"Lompoc\": \"California\", \"Okolona\": \"Kentucky\", \"Maywood\": \"Illinois\", \"Loves Park\": \"Illinois\", \"Martinez\": \"California\", \"Norland\": \"Florida\", \"Cranford\": \"New Jersey\", \"Lansdale\": \"Pennsylvania\", \"Shoreview\": \"Minnesota\", \"Independence\": \"Kentucky\", \"Orange\": \"New Jersey\", \"Hudson\": \"Ohio\", \"Stuart\": \"Florida\", \"Woodridge\": \"Illinois\", \"Suisun\": \"California\", \"Cherry Hill\": \"New Jersey\", \"Inver Grove Heights\": \"Minnesota\", \"Highland Park\": \"Illinois\", \"Gloucester\": \"Massachusetts\", \"Elkridge\": \"Maryland\", \"Brooklyn\": \"New York\", \"Teaneck\": \"New Jersey\", \"Wolcott\": \"Connecticut\", \"Vero Beach\": \"Florida\", \"Lynwood\": \"California\", \"Redding\": \"California\", \"East Pensacola Heights\": \"Florida\", \"Cheektowaga\": \"New York\", \"Oakville\": \"Missouri\", \"Broad Ripple\": \"Indiana\", \"Grand Junction\": \"Colorado\", \"Oswego\": \"New York\", \"Terre Haute\": \"Indiana\", \"Glen Avon\": \"California\", \"Bullhead City\": \"Arizona\", \"Monsey\": \"New York\", \"Delray Beach\": \"Florida\", \"Manitowoc\": \"Wisconsin\", \"Drexel Heights\": \"Arizona\", \"Frederick\": \"Maryland\", \"Rock Springs\": \"Wyoming\", \"Pottstown\": \"Pennsylvania\", \"Key West\": \"Florida\", \"Sayville\": \"New York\", \"Leominster\": \"Massachusetts\", \"Riviera Beach\": \"Florida\", \"Howard\": \"Wisconsin\", \"Highland\": \"Indiana\", \"Englewood\": \"New Jersey\", \"Socorro\": \"Texas\", \"Bayonne\": \"New Jersey\", \"West Springfield\": \"Massachusetts\", \"Bear\": \"Delaware\", \"Bessemer\": \"Alabama\", \"Holt\": \"Michigan\", \"Issaquah\": \"Washington\", \"Newburyport\": \"Massachusetts\", \"Bolingbrook\": \"Illinois\", \"Raytown\": \"Missouri\", \"New Brighton\": \"Minnesota\", \"West Whittier-Los Nietos\": \"California\", \"Murray\": \"Kentucky\", \"Elmont\": \"New York\", \"Odessa\": \"Texas\", \"Burleson\": \"Texas\", \"Paradise\": \"California\", \"Petaluma\": \"California\", \"Brawley\": \"California\", \"Maple Valley\": \"Washington\", \"Brooklyn Center\": \"Minnesota\", \"Delaware\": \"Ohio\", \"Zanesville\": \"Ohio\", \"Prior Lake\": \"Minnesota\", \"Union\": \"New Jersey\", \"Hastings\": \"Nebraska\", \"Fountain Hills\": \"Arizona\", \"Greenfield\": \"Wisconsin\", \"Rosemead\": \"California\", \"Altoona\": \"Pennsylvania\", \"Millbrae\": \"California\", \"Bangor\": \"Maine\", \"Shelby\": \"Michigan\", \"Pleasant Prairie\": \"Wisconsin\", \"Spring Hill\": \"Florida\", \"Central Falls\": \"Rhode Island\", \"Perth Amboy\": \"New Jersey\", \"Hackensack\": \"New Jersey\", \"Boynton Beach\": \"Florida\", \"North Hollywood\": \"California\", \"Greenacres City\": \"Florida\", \"Garfield\": \"New Jersey\", \"Hilton Head Island\": \"South Carolina\", \"South Portland Gardens\": \"Maine\", \"Bel Air North\": \"Maryland\", \"Morrisville\": \"North Carolina\", \"Silver Firs\": \"Washington\", \"Bonney Lake\": \"Washington\", \"Brentwood\": \"California\", \"Saint Paul\": \"Minnesota\", \"Coeur d'Alene\": \"Idaho\", \"Potomac\": \"Maryland\", \"Hollister\": \"California\", \"Pleasant Hill\": \"California\", \"Land O' Lakes\": \"Florida\", \"Palm Beach Gardens\": \"Florida\", \"Brookhaven\": \"Georgia\", \"Hallandale Beach\": \"Florida\", \"Champlin\": \"Minnesota\", \"East Hemet\": \"California\", \"Piqua\": \"Ohio\", \"Carrollwood\": \"Florida\", \"Helena\": \"Montana\", \"Mint Hill\": \"North Carolina\", \"San Angelo\": \"Texas\", \"Montrose\": \"Colorado\", \"Mountain Top\": \"Pennsylvania\", \"New Bern\": \"North Carolina\", \"Dickinson\": \"North Dakota\", \"West and East Lealman\": \"Florida\", \"Haslett\": \"Michigan\", \"Dublin\": \"California\", \"South Ogden\": \"Utah\", \"Rancho Cucamonga\": \"California\", \"Castle Rock\": \"Colorado\", \"Winter Garden\": \"Florida\", \"Steubenville\": \"Ohio\", \"Greenbelt\": \"Maryland\", \"Chicopee\": \"Massachusetts\", \"Monrovia\": \"California\", \"Hanford\": \"California\", \"Plymouth\": \"Minnesota\", \"Shafter\": \"California\", \"Iron River\": \"Michigan\", \"Eustis\": \"Florida\", \"Hillside\": \"New Jersey\", \"Urbandale\": \"Iowa\", \"Wright\": \"Florida\", \"Scarsdale\": \"New York\", \"Green Haven\": \"Maryland\", \"Anthem\": \"Arizona\", \"Tempe Junction\": \"Arizona\", \"San Fernando\": \"California\", \"Davie\": \"Florida\", \"Punta Gorda\": \"Florida\", \"Ferry Pass\": \"Florida\", \"Lincoln\": \"Nebraska\", \"Lakeland\": \"Florida\", \"Park Ridge\": \"Illinois\", \"Midwest City\": \"Oklahoma\", \"Shirley\": \"New York\", \"Allentown\": \"Pennsylvania\", \"Collierville\": \"Tennessee\", \"El Mirage\": \"Arizona\", \"Muskegon\": \"Michigan\", \"El Paso\": \"Texas\", \"Carson City\": \"Nevada\", \"Muscatine\": \"Iowa\", \"University City\": \"Missouri\", \"Moraga\": \"California\", \"Painesville\": \"Ohio\", \"East Meadow\": \"New York\", \"Cupertino\": \"California\", \"American Canyon\": \"California\", \"Wyandotte\": \"Michigan\", \"Pullman\": \"Washington\", \"Fort Dodge\": \"Iowa\", \"Prichard\": \"Alabama\", \"Hazelwood\": \"Missouri\", \"North Little Rock\": \"Arkansas\", \"Lake Butler\": \"Florida\", \"Tinley Park\": \"Illinois\", \"Gallatin\": \"Tennessee\", \"Sherwood\": \"Oregon\", \"Lodi\": \"New Jersey\", \"Kankakee\": \"Illinois\", \"Drexel Hill\": \"Pennsylvania\", \"Sartell\": \"Minnesota\", \"Lewiston\": \"Maine\", \"Conway\": \"Arkansas\", \"Tifton\": \"Georgia\", \"Tacoma\": \"Washington\", \"Milton\": \"Massachusetts\", \"Saint Michael\": \"Minnesota\", \"Philadelphia\": \"Pennsylvania\", \"North Amityville\": \"New York\", \"Copperas Cove\": \"Texas\", \"North Peoria\": \"Illinois\", \"Little Rock\": \"Arkansas\", \"Poway\": \"California\", \"Brushy Creek\": \"Texas\", \"Wheat Ridge\": \"Colorado\", \"Cantonment\": \"Florida\", \"New Brunswick\": \"New Jersey\", \"Chillum\": \"Maryland\", \"Mundelein\": \"Illinois\", \"Nicholasville\": \"Kentucky\", \"Kiryas Joel\": \"New York\", \"Huntington Park\": \"California\", \"Maple Shade\": \"New Jersey\", \"Charlotte\": \"North Carolina\", \"Phoenixville\": \"Pennsylvania\", \"Sunnyside\": \"Washington\", \"Boulder\": \"Colorado\", \"Ashtabula\": \"Ohio\", \"Glassboro\": \"New Jersey\", \"Danvers\": \"Massachusetts\", \"Mason City\": \"Iowa\", \"Abilene\": \"Texas\", \"Anoka\": \"Minnesota\", \"Lisle\": \"Illinois\", \"Cabot\": \"Arkansas\", \"Walnut Park\": \"California\", \"Bayou Cane\": \"Louisiana\", \"Winthrop\": \"Massachusetts\", \"Salinas\": \"California\", \"Manchester\": \"New Hampshire\", \"Lawrenceville\": \"Georgia\", \"Southbridge\": \"Massachusetts\", \"Alafaya\": \"Florida\", \"Brigham City\": \"Utah\", \"Redwood City\": \"California\", \"Plattsburgh\": \"New York\", \"Olympia\": \"Washington\", \"Glendora\": \"California\", \"Willmar\": \"Minnesota\", \"Walla Walla\": \"Washington\", \"Saugus\": \"Massachusetts\", \"Parma Heights\": \"Ohio\", \"Searcy\": \"Arkansas\", \"Long Beach\": \"California\", \"Whittier\": \"California\", \"Buffalo Grove\": \"Illinois\", \"Highview\": \"Kentucky\", \"San Pedro\": \"California\", \"Bloomington\": \"Indiana\", \"Santa Rosa\": \"California\", \"Adelphi\": \"Maryland\", \"Pinole\": \"California\", \"Pasadena\": \"California\", \"Floral Park\": \"New York\", \"Roselle\": \"Illinois\", \"Wilsonville\": \"Oregon\", \"Carmichael\": \"California\", \"Burlington\": \"Kentucky\", \"Salisbury\": \"Maryland\", \"Van Buren\": \"Arkansas\", \"Attleboro\": \"Massachusetts\", \"Hinsdale\": \"Illinois\", \"Stillwater\": \"Oklahoma\", \"Maryland City\": \"Maryland\", \"Milford\": \"Massachusetts\", \"Greenburgh\": \"New York\", \"Kaukauna\": \"Wisconsin\", \"Scottsbluff\": \"Nebraska\", \"Midvale\": \"Utah\", \"Canby\": \"Oregon\", \"Binghamton\": \"New York\", \"Burien\": \"Washington\", \"Florence-Graham\": \"California\", \"Mentor\": \"Ohio\", \"Lakewood\": \"Washington\", \"Oak Park\": \"Michigan\", \"Fullerton\": \"California\", \"Citrus Heights\": \"California\", \"Westerville\": \"Ohio\", \"Seymour\": \"Indiana\", \"Pueblo\": \"Colorado\", \"Fair Oaks\": \"California\", \"Milford Mill\": \"Maryland\", \"Corvallis\": \"Oregon\", \"Bartlett\": \"Illinois\", \"Deerfield Beach\": \"Florida\", \"East Lansing\": \"Michigan\", \"Sycamore\": \"Illinois\", \"Colchester\": \"Vermont\", \"Middletown\": \"Rhode Island\", \"Washington, D.C.\": \"District of Columbia\", \"South Gate\": \"California\", \"Medford\": \"Oregon\", \"Oak Harbor\": \"Washington\", \"Jacksonville\": \"Arkansas\", \"Alpharetta\": \"Georgia\", \"Artesia\": \"California\", \"Franklin\": \"Massachusetts\", \"Rubidoux\": \"California\", \"Reading\": \"Massachusetts\", \"Wyoming\": \"Michigan\", \"Marblehead\": \"Massachusetts\", \"South Laurel\": \"Maryland\", \"Fords\": \"New Jersey\", \"Woodland Hills\": \"California\", \"Amsterdam\": \"New York\", \"Saint George\": \"Utah\", \"Pace\": \"Florida\", \"Lemay\": \"Missouri\", \"Roy\": \"Utah\", \"Bellaire\": \"Texas\", \"Gallup\": \"New Mexico\", \"San Mateo\": \"California\", \"Hanover Park\": \"Illinois\", \"Bowling Green\": \"Ohio\", \"East Palo Alto\": \"California\", \"Puyallup\": \"Washington\", \"Eden\": \"North Carolina\", \"Orangevale\": \"California\", \"Coon Rapids\": \"Minnesota\", \"Baltimore\": \"Maryland\", \"South Pasadena\": \"California\", \"West Palm Beach\": \"Florida\", \"San Juan Capistrano\": \"California\", \"Pleasantville\": \"New Jersey\", \"Pleasanton\": \"California\", \"Wildomar\": \"California\", \"Whitney\": \"Nevada\", \"Ozark\": \"Missouri\", \"Iona\": \"Florida\", \"Boston\": \"Massachusetts\", \"Salem\": \"Oregon\", \"Lemont\": \"Illinois\", \"Carteret\": \"New Jersey\", \"Bellevue\": \"Nebraska\", \"Waldorf\": \"Maryland\", \"Grand Rapids\": \"Michigan\", \"Golden Valley\": \"Minnesota\", \"Streetsboro\": \"Ohio\", \"Schenectady\": \"New York\", \"Kettering\": \"Ohio\", \"Huntersville\": \"North Carolina\", \"Arlington\": \"Washington\", \"Beverly Hills\": \"California\", \"Beloit\": \"Wisconsin\", \"Arvada\": \"Colorado\", \"Paramus\": \"New Jersey\", \"Minneapolis\": \"Minnesota\", \"Country Walk\": \"Florida\", \"Tallmadge\": \"Ohio\", \"Clearfield\": \"Utah\", \"Jamaica\": \"New York\", \"Rockford\": \"Illinois\", \"Redondo Beach\": \"California\", \"Cottage Grove\": \"Minnesota\", \"Agoura Hills\": \"California\", \"Stanton\": \"California\", \"Smithfield\": \"Rhode Island\", \"Bixby\": \"Oklahoma\", \"Fort Pierce\": \"Florida\", \"Adrian\": \"Michigan\", \"Bay Point\": \"California\", \"Renton\": \"Washington\", \"Erie\": \"Colorado\", \"Rolling Meadows\": \"Illinois\", \"Sparks\": \"Nevada\", \"West Albany\": \"New York\", \"North Las Vegas\": \"Nevada\", \"Atlanta\": \"Georgia\", \"Redmond\": \"Washington\", \"Passaic\": \"New Jersey\", \"Westbrook\": \"Maine\", \"Gladstone\": \"Missouri\", \"Willimantic\": \"Connecticut\", \"Clemmons\": \"North Carolina\", \"Woodlawn\": \"Maryland\", \"Citrus Park\": \"Florida\", \"Compton\": \"California\", \"Enid\": \"Oklahoma\", \"North Valley Stream\": \"New York\", \"Farmington\": \"Utah\", \"Alliance\": \"Ohio\", \"Twin Falls\": \"Idaho\", \"Neenah\": \"Wisconsin\", \"Santa Barbara\": \"California\", \"Winter Gardens\": \"California\", \"Windham\": \"Connecticut\", \"Westport\": \"Connecticut\", \"Bloomingdale\": \"Florida\", \"Romulus\": \"Michigan\", \"Donna\": \"Texas\", \"Fair Lawn\": \"New Jersey\", \"Utica\": \"New York\", \"Sierra Vista\": \"Arizona\", \"South Plainfield\": \"New Jersey\", \"Rogers\": \"Arkansas\", \"Seaford\": \"New York\", \"Sherrelwood\": \"Colorado\", \"Mattoon\": \"Illinois\", \"Warren\": \"Ohio\", \"Coventry\": \"Rhode Island\", \"Billings\": \"Montana\", \"Miramar\": \"Florida\", \"Carson\": \"California\", \"Ukiah\": \"California\", \"Ames\": \"Iowa\", \"Watsonville\": \"California\", \"Richland\": \"Washington\", \"Coral Gables\": \"Florida\", \"Hot Springs National Park\": \"Arkansas\", \"Bainbridge Island\": \"Washington\", \"Battle Ground\": \"Washington\", \"Lake Worth\": \"Florida\", \"Colorado Springs\": \"Colorado\", \"Daytona Beach\": \"Florida\", \"Forest Hills\": \"Michigan\", \"Setauket-East Setauket\": \"New York\", \"Salina\": \"Kansas\", \"Manteca\": \"California\", \"Sandy City\": \"Utah\", \"Upper Alton\": \"Illinois\", \"Grosse Pointe Woods\": \"Michigan\", \"Forest Grove\": \"Oregon\", \"Savannah\": \"Georgia\", \"Flagami\": \"Florida\", \"Kearney\": \"Nebraska\", \"Grandview\": \"Missouri\", \"Williamsport\": \"Pennsylvania\", \"Port Angeles\": \"Washington\", \"Coconut Grove\": \"Florida\", \"Boone\": \"North Carolina\", \"Cheyenne\": \"Wyoming\", \"North Bel Air\": \"Maryland\", \"South Boston\": \"Massachusetts\", \"Logansport\": \"Indiana\", \"Flagstaff\": \"Arizona\", \"Thousand Oaks\": \"California\", \"Roanoke Rapids\": \"North Carolina\", \"Takoma Park\": \"Maryland\", \"Statesville\": \"North Carolina\", \"Palm City\": \"Florida\", \"East Orange\": \"New Jersey\", \"Waterford\": \"Michigan\", \"Maple Grove\": \"Minnesota\", \"Metairie\": \"Louisiana\", \"Alton\": \"Illinois\", \"Commack\": \"New York\", \"Rancho Santa Margarita\": \"California\", \"East Massapequa\": \"New York\", \"Wahiawa\": \"Hawaii\", \"Gatesville\": \"Texas\", \"Romeoville\": \"Illinois\", \"Peoria\": \"Arizona\", \"Tumwater\": \"Washington\", \"North Fort Myers\": \"Florida\", \"Overland\": \"Missouri\", \"Monroeville\": \"Pennsylvania\", \"Holladay\": \"Utah\", \"Palo Alto\": \"California\", \"Meads\": \"Kentucky\", \"North Chicago\": \"Illinois\", \"Marshfield\": \"Wisconsin\", \"Clearlake\": \"California\", \"Napa\": \"California\", \"Hamilton\": \"Ohio\", \"Corsicana\": \"Texas\", \"North Miami\": \"Florida\", \"Franklin Square\": \"New York\", \"Rocklin\": \"California\", \"Germantown\": \"Tennessee\", \"Weirton Heights\": \"West Virginia\", \"Irvine\": \"California\", \"Oviedo\": \"Florida\", \"Summerlin South\": \"Nevada\", \"Redlands\": \"California\", \"Miamisburg\": \"Ohio\", \"Oregon\": \"Ohio\", \"Simpsonville\": \"South Carolina\", \"Belleville\": \"Illinois\", \"Waterville\": \"Maine\", \"Zion\": \"Illinois\", \"Anderson\": \"South Carolina\", \"Oconomowoc\": \"Wisconsin\", \"Twentynine Palms\": \"California\", \"South Orange\": \"New Jersey\", \"Los Angeles\": \"California\", \"Clive\": \"Iowa\", \"Fairborn\": \"Ohio\", \"Linden\": \"New Jersey\", \"San Luis Obispo\": \"California\", \"Natchez\": \"Mississippi\", \"Cutler\": \"Florida\", \"Wilkes-Barre\": \"Pennsylvania\", \"Cottonwood Heights\": \"Utah\", \"Palisades Park\": \"New Jersey\", \"Springdale\": \"Arkansas\", \"Waltham\": \"Massachusetts\", \"East Point\": \"Georgia\", \"Yorkville\": \"Illinois\", \"Lindenwold\": \"New Jersey\", \"El Dorado Hills\": \"California\", \"Trenton\": \"Michigan\", \"Pomona\": \"California\", \"Castlewood\": \"Colorado\", \"Springville\": \"Utah\", \"North Massapequa\": \"New York\", \"Yucca Valley\": \"California\", \"Port Saint Lucie\": \"Florida\", \"Boyle Heights\": \"California\", \"Elmhurst\": \"Illinois\", \"Sapulpa\": \"Oklahoma\", \"Durango\": \"Colorado\", \"Eugene\": \"Oregon\", \"Prospect Heights\": \"Illinois\", \"Orlando\": \"Florida\", \"Lents\": \"Oregon\", \"Maricopa\": \"Arizona\", \"Saco\": \"Maine\", \"Asheboro\": \"North Carolina\", \"Alsip\": \"Illinois\", \"Medina\": \"Ohio\", \"Vancouver\": \"Washington\", \"Lake Ronkonkoma\": \"New York\", \"Coralville\": \"Iowa\", \"Kirkwood\": \"Missouri\", \"Joliet\": \"Illinois\", \"Austintown\": \"Ohio\", \"Chino Hills\": \"California\", \"Carrollwood Village\": \"Florida\", \"West Pensacola\": \"Florida\", \"Coney Island\": \"New York\", \"Eagle River\": \"Alaska\", \"Costa Mesa\": \"California\", \"Back Mountain\": \"Pennsylvania\", \"Colton\": \"California\", \"Wayne\": \"New Jersey\", \"Muskego\": \"Wisconsin\", \"Hopkins\": \"Minnesota\", \"Greenwood\": \"South Carolina\", \"Duluth\": \"Minnesota\", \"Amherst Center\": \"Massachusetts\", \"Pontiac\": \"Michigan\", \"West Saint Paul\": \"Minnesota\", \"Union Hill-Novelty Hill\": \"Washington\", \"Middleton\": \"Wisconsin\", \"Holden\": \"Massachusetts\", \"Woonsocket\": \"Rhode Island\", \"Houston\": \"Texas\", \"Pittsburgh\": \"Pennsylvania\", \"Berkeley\": \"California\", \"Barstow Heights\": \"California\", \"Rialto\": \"California\", \"Arlington Heights\": \"Illinois\", \"Melville\": \"New York\", \"Bellwood\": \"Illinois\", \"Cutler Ridge\": \"Florida\", \"Pawtucket\": \"Rhode Island\", \"Farmingville\": \"New York\", \"Willowbrook\": \"California\", \"Enterprise\": \"Nevada\", \"El Monte\": \"California\", \"Glen Ellyn\": \"Illinois\", \"Haines City\": \"Florida\", \"Wade Hampton\": \"South Carolina\", \"College Station\": \"Texas\", \"Tuscaloosa\": \"Alabama\", \"Cape Coral\": \"Florida\", \"DeSoto\": \"Texas\", \"North Decatur\": \"Georgia\", \"Bridgeview\": \"Illinois\", \"Decatur\": \"Georgia\", \"Darien\": \"Illinois\", \"Gary\": \"Indiana\", \"Laramie\": \"Wyoming\", \"Santa Paula\": \"California\", \"Grayslake\": \"Illinois\", \"Enchanted Hills\": \"New Mexico\", \"Wilson\": \"North Carolina\", \"Miami Lakes\": \"Florida\", \"Brookfield\": \"Wisconsin\", \"Plum\": \"Pennsylvania\", \"Adelanto\": \"California\", \"Harvey\": \"Louisiana\", \"Bellview\": \"Florida\", \"Clearwater\": \"Florida\", \"Parma\": \"Ohio\", \"Farragut\": \"Tennessee\", \"Saint Joseph\": \"Missouri\", \"Norton Shores\": \"Michigan\", \"Crystal\": \"Minnesota\", \"Montebello\": \"California\", \"South Saint Paul\": \"Minnesota\", \"Ann Arbor\": \"Michigan\", \"Plant City\": \"Florida\", \"Dana Point\": \"California\", \"Cinco Ranch\": \"Texas\", \"Centennial\": \"Colorado\", \"Monterey\": \"California\", \"Lexington\": \"Kentucky\", \"Chula Vista\": \"California\", \"Bettendorf\": \"Iowa\", \"Gaithersburg\": \"Maryland\", \"Ogden\": \"Utah\", \"Prescott Valley\": \"Arizona\", \"Blue Springs\": \"Missouri\", \"Brooklyn Park\": \"Minnesota\", \"Pacifica\": \"California\", \"South Milwaukee\": \"Wisconsin\", \"Owensboro\": \"Kentucky\", \"Myrtle Grove\": \"Florida\", \"West Chicago\": \"Illinois\", \"Hobbs\": \"New Mexico\", \"Grand Prairie\": \"Texas\", \"Wesley Chapel\": \"Florida\", \"La Vista\": \"Nebraska\", \"Punta Gorda Isles\": \"Florida\", \"Westford\": \"Massachusetts\", \"Boca Del Mar\": \"Florida\", \"Horizon City\": \"Texas\", \"Ashland\": \"Massachusetts\", \"Ocean Springs\": \"Mississippi\", \"Pine Hills\": \"Florida\", \"Uniondale\": \"New York\", \"Oregon City\": \"Oregon\", \"Fillmore\": \"California\", \"Wailuku\": \"Hawaii\", \"Wadsworth\": \"Ohio\", \"Forest Lake\": \"Minnesota\", \"San Carlos Park\": \"Florida\", \"North Chicopee\": \"Massachusetts\", \"Phenix City\": \"Alabama\", \"Opelika\": \"Alabama\", \"Round Lake\": \"Illinois\", \"Bellingham\": \"Washington\", \"Eastchester\": \"New York\", \"Barnstable\": \"Massachusetts\", \"Newton\": \"Kansas\", \"Granite City\": \"Illinois\", \"Buena Park\": \"California\", \"Sayreville Junction\": \"New Jersey\", \"Beaver Dam\": \"Wisconsin\", \"Yorba Linda\": \"California\", \"Rancho San Diego\": \"California\", \"Hayesville\": \"Oregon\", \"Burlingame\": \"California\", \"Inglewood-Finn Hill\": \"Washington\", \"Bayshore Gardens\": \"Florida\", \"Camden\": \"New Jersey\", \"Allison Park\": \"Pennsylvania\", \"Port Hueneme\": \"California\", \"West Hollywood\": \"California\", \"Leavenworth\": \"Kansas\", \"Lake Charles\": \"Louisiana\", \"Westchase\": \"Florida\", \"Glassmanor\": \"Maryland\", \"Arden-Arcade\": \"California\", \"Azusa\": \"California\", \"Fontana\": \"California\", \"North Arlington\": \"New Jersey\", \"East Moline\": \"Illinois\", \"Ithaca\": \"New York\", \"Lutz\": \"Florida\", \"West Melbourne\": \"Florida\", \"East Peoria\": \"Illinois\", \"Bourbonnais\": \"Illinois\", \"Badger\": \"Alaska\", \"North Ogden\": \"Utah\", \"Columbine\": \"Colorado\", \"Sebastian\": \"Florida\", \"East Lake-Orient Park\": \"Florida\", \"Morganton\": \"North Carolina\", \"Bayside\": \"California\", \"Sunrise\": \"Florida\", \"Atascadero\": \"California\", \"Athens\": \"Georgia\", \"Batavia\": \"Illinois\", \"Layton\": \"Utah\", \"Hueytown\": \"Alabama\", \"Benbrook\": \"Texas\", \"Mansfield\": \"Ohio\", \"Hempstead\": \"New York\", \"Menomonie\": \"Wisconsin\", \"Reynoldsburg\": \"Ohio\", \"Northampton\": \"Massachusetts\", \"Asheville\": \"North Carolina\", \"Seal Beach\": \"California\", \"Dixon\": \"Illinois\", \"Butte-Silver Bow (Balance)\": \"Montana\", \"Bradley\": \"Illinois\", \"Melbourne\": \"Florida\", \"Mesa\": \"Arizona\", \"Pooler\": \"Georgia\", \"Carlisle\": \"Pennsylvania\", \"Easley\": \"South Carolina\", \"East Los Angeles\": \"California\", \"Aventura\": \"Florida\", \"Cypress\": \"California\", \"Ramona\": \"California\", \"Palm Bay\": \"Florida\", \"Avondale\": \"Arizona\", \"Kingsland\": \"Georgia\", \"Sugar Hill\": \"Georgia\", \"Galveston\": \"Texas\", \"Dyersburg\": \"Tennessee\", \"Bethpage\": \"New York\", \"Canton\": \"Georgia\", \"Altadena\": \"California\", \"Randolph\": \"Massachusetts\", \"Rutland\": \"Vermont\", \"West Sacramento\": \"California\", \"Toledo\": \"Ohio\", \"Elkhart\": \"Indiana\", \"Elk Grove Village\": \"Illinois\", \"Malden\": \"Massachusetts\", \"Lima\": \"Ohio\", \"Shakopee\": \"Minnesota\", \"Mayfield Heights\": \"Ohio\", \"Willow Grove\": \"Pennsylvania\", \"Ironville\": \"Kentucky\", \"Arvin\": \"California\", \"Bryant\": \"Arkansas\", \"Converse\": \"Texas\", \"Griffin\": \"Georgia\", \"Shreveport\": \"Louisiana\", \"Cheshire\": \"Connecticut\", \"Sayreville\": \"New Jersey\", \"El Reno\": \"Oklahoma\", \"Baldwin\": \"New York\", \"Maumelle\": \"Arkansas\", \"North Tustin\": \"California\", \"Grapevine\": \"Texas\", \"Wenatchee\": \"Washington\", \"Saint Petersburg\": \"Florida\", \"Oro Valley\": \"Arizona\", \"Hibbing\": \"Minnesota\", \"Crystal Lake\": \"Illinois\", \"Apex\": \"North Carolina\", \"Glenvar Heights\": \"Florida\", \"Turlock\": \"California\", \"Princeton\": \"Florida\", \"Deerfield\": \"Illinois\", \"Modesto\": \"California\", \"Massapequa\": \"New York\", \"Bay Shore\": \"New York\", \"Gilroy\": \"California\", \"Sun City Center\": \"Florida\", \"Freeport\": \"New York\", \"Barberton\": \"Ohio\", \"Creve Coeur\": \"Missouri\", \"Norwalk\": \"California\", \"Portland\": \"Oregon\", \"Elizabeth City\": \"North Carolina\", \"West Puente Valley\": \"California\", \"Tonawanda\": \"New York\", \"San Jacinto\": \"California\", \"Quincy\": \"Massachusetts\", \"Kailua\": \"Hawaii\", \"Spokane\": \"Washington\", \"Oak Forest\": \"Illinois\", \"Torrance\": \"California\", \"Overland Park\": \"Kansas\", \"Security-Widefield\": \"Colorado\", \"Starkville\": \"Mississippi\", \"Ives Estates\": \"Florida\", \"Pensacola\": \"Florida\", \"Schofield Barracks\": \"Hawaii\", \"Lenoir\": \"North Carolina\", \"New Orleans\": \"Louisiana\", \"Kennesaw\": \"Georgia\", \"Rosedale\": \"Maryland\", \"Safety Harbor\": \"Florida\", \"Lowell\": \"Massachusetts\", \"Yucaipa\": \"California\", \"Mitchell\": \"South Dakota\", \"Cleburne\": \"Texas\", \"Kansas City\": \"Kansas\", \"DeKalb\": \"Illinois\", \"Tamiami\": \"Florida\", \"Chicago Heights\": \"Illinois\", \"Granger\": \"Indiana\", \"Marysville\": \"Washington\", \"Tukwila\": \"Washington\", \"Wyckoff\": \"New Jersey\", \"Boardman\": \"Ohio\", \"Trotwood\": \"Ohio\", \"Chatsworth\": \"California\", \"Wilmette\": \"Illinois\", \"Michigan City\": \"Indiana\", \"Hickory\": \"North Carolina\", \"Hammond\": \"Indiana\", \"Hanover\": \"Massachusetts\", \"Coral Terrace\": \"Florida\", \"Downers Grove\": \"Illinois\", \"North Miami Beach\": \"Florida\", \"Winter Park\": \"Florida\", \"Garfield Heights\": \"Ohio\", \"Poughkeepsie\": \"New York\", \"Des Moines\": \"Iowa\", \"Fort Smith\": \"Arkansas\", \"White Bear Lake\": \"Minnesota\", \"Somerville\": \"Massachusetts\", \"Santa Monica\": \"California\", \"Coral Springs\": \"Florida\", \"Faribault\": \"Minnesota\", \"Hawthorne\": \"California\", \"Sanford\": \"Florida\", \"Concord\": \"Missouri\", \"Mount Laurel\": \"New Jersey\", \"Lake Shore\": \"Maryland\", \"Lackawanna\": \"New York\", \"Saint Louis Park\": \"Minnesota\", \"Northport\": \"Alabama\", \"Westchester\": \"Florida\", \"Indianapolis\": \"Indiana\", \"Gardena\": \"California\", \"Country Club Hills\": \"Illinois\", \"Pendleton\": \"Oregon\", \"Peachtree City\": \"Georgia\", \"Landover\": \"Maryland\", \"Paso Robles\": \"California\", \"Hyattsville\": \"Maryland\", \"Port Orange\": \"Florida\", \"Bethlehem\": \"Pennsylvania\", \"Hermosa Beach\": \"California\", \"Indio\": \"California\", \"Riverbank\": \"California\", \"Sacramento\": \"California\", \"Wauwatosa\": \"Wisconsin\", \"Conyers\": \"Georgia\", \"Merced\": \"California\", \"Allendale\": \"Michigan\", \"Elmwood Park\": \"Illinois\", \"Tarpon Springs\": \"Florida\", \"Hialeah\": \"Florida\", \"Richfield\": \"Minnesota\", \"Morristown\": \"New Jersey\", \"Penn Hills\": \"Pennsylvania\", \"Winona\": \"Minnesota\", \"Woodmere\": \"New York\", \"Rutherford\": \"New Jersey\", \"Kannapolis\": \"North Carolina\", \"Bridgeport\": \"Connecticut\", \"Whitehall\": \"Ohio\", \"Ruskin\": \"Florida\", \"Arnold\": \"Missouri\", \"Oakland\": \"California\", \"Leawood\": \"Kansas\", \"Odenton\": \"Maryland\", \"Conroe\": \"Texas\", \"Mira Loma\": \"California\", \"Braintree\": \"Massachusetts\", \"Hurst\": \"Texas\", \"Lubbock\": \"Texas\", \"York\": \"Pennsylvania\", \"Bergenfield\": \"New Jersey\", \"Bethel Park\": \"Pennsylvania\", \"Normal\": \"Illinois\", \"Burnsville\": \"Minnesota\", \"Gilbert\": \"Arizona\", \"Mount Prospect\": \"Illinois\", \"San Clemente\": \"California\", \"Taylorsville\": \"Utah\", \"Kenner\": \"Louisiana\", \"Draper\": \"Utah\", \"Elizabethtown\": \"Kentucky\", \"Lansing\": \"Michigan\", \"Woburn\": \"Massachusetts\", \"Weymouth\": \"Massachusetts\", \"Bismarck\": \"North Dakota\", \"Avon Lake\": \"Ohio\", \"South River\": \"New Jersey\", \"Berea\": \"Ohio\", \"Marina\": \"California\", \"Buffalo\": \"Minnesota\", \"College Park\": \"Maryland\", \"Sylvania\": \"Ohio\", \"Milpitas\": \"California\", \"Reno\": \"Nevada\", \"Seattle\": \"Washington\", \"Jasmine Estates\": \"Florida\", \"Florida Ridge\": \"Florida\", \"Cibolo\": \"Texas\", \"Sulphur\": \"Louisiana\", \"East Ridge\": \"Tennessee\", \"Eagle Mountain\": \"Utah\", \"Spanaway\": \"Washington\", \"El Centro\": \"California\", \"Norco\": \"California\", \"Wekiwa Springs\": \"Florida\", \"Barrington\": \"Rhode Island\", \"Cerritos\": \"California\", \"Vineland\": \"New Jersey\", \"Mokena\": \"Illinois\", \"Belvedere Park\": \"Georgia\", \"Niagara Falls\": \"New York\", \"Green Valley\": \"Arizona\", \"Scotch Plains\": \"New Jersey\", \"Woodstock\": \"Illinois\", \"Hillcrest Heights\": \"Maryland\", \"Lorain\": \"Ohio\", \"Dracut\": \"Massachusetts\", \"Goodyear\": \"Arizona\", \"Wilkinsburg\": \"Pennsylvania\", \"Brookline\": \"Massachusetts\", \"Albany\": \"New York\", \"Madisonville\": \"Kentucky\", \"Carney\": \"Maryland\", \"Aiken\": \"South Carolina\", \"Sedalia\": \"Missouri\", \"Bend\": \"Oregon\", \"Temecula\": \"California\", \"Islip\": \"New York\", \"Wichita\": \"Kansas\", \"Cooper City\": \"Florida\", \"Fort Thomas\": \"Kentucky\", \"Stow\": \"Ohio\", \"Millville\": \"New Jersey\", \"Casper\": \"Wyoming\", \"Camarillo\": \"California\", \"Loma Linda\": \"California\", \"Highland Village\": \"Texas\", \"Miami\": \"Florida\", \"Avenel\": \"New Jersey\", \"Deltona\": \"Florida\", \"Margate\": \"Florida\", \"Sarasota\": \"Florida\", \"Derry\": \"New Hampshire\", \"Echo Park\": \"California\", \"The Bronx\": \"New York\", \"Cortland\": \"New York\", \"Elyria\": \"Ohio\", \"The Hammocks\": \"Florida\", \"Norman\": \"Oklahoma\", \"Cumberland\": \"Maryland\", \"La Crescenta-Montrose\": \"California\", \"Chelsea\": \"Massachusetts\", \"Peabody\": \"Massachusetts\", \"Mesquite\": \"Nevada\", \"Macomb\": \"Illinois\", \"Rowland Heights\": \"California\", \"Marquette\": \"Michigan\", \"Belle Glade\": \"Florida\", \"North Potomac\": \"Maryland\", \"West Islip\": \"New York\", \"Rome\": \"Georgia\", \"Alexandria\": \"Louisiana\", \"Spanish Fork\": \"Utah\", \"Fern Creek\": \"Kentucky\", \"Montgomery Village\": \"Maryland\", \"San Tan Valley\": \"Arizona\", \"Panama City\": \"Florida\", \"Cloverly\": \"Maryland\", \"Los Altos\": \"California\", \"South San Jose Hills\": \"California\", \"Fairhope\": \"Alabama\", \"Allen\": \"Texas\", \"West Mifflin\": \"Pennsylvania\", \"Havelock\": \"North Carolina\", \"Oxford\": \"Mississippi\", \"Provo\": \"Utah\", \"Alum Rock\": \"California\", \"Frisco\": \"Texas\", \"San Gabriel\": \"California\", \"Pleasant Grove\": \"Utah\", \"South Jordan\": \"Utah\", \"Yuba City\": \"California\", \"Rye\": \"New York\", \"Lee's Summit\": \"Missouri\", \"Murrieta\": \"California\", \"Round Lake Beach\": \"Illinois\", \"Newport Beach\": \"California\", \"Rosemount\": \"Minnesota\", \"Stoughton\": \"Massachusetts\", \"Pueblo West\": \"Colorado\", \"Edgewood\": \"Maryland\", \"Gautier\": \"Mississippi\", \"Brenham\": \"Texas\", \"Dumont\": \"New Jersey\", \"Fort Worth\": \"Texas\", \"Tillmans Corner\": \"Alabama\", \"Collinsville\": \"Illinois\", \"Port Charlotte\": \"Florida\", \"Westmont\": \"California\", \"Dover\": \"Delaware\", \"Long Branch\": \"New Jersey\", \"DeLand\": \"Florida\", \"Moline\": \"Illinois\", \"Rossville\": \"Maryland\", \"West Linn\": \"Oregon\", \"Brentwood Estates\": \"Tennessee\", \"Minnetonka\": \"Minnesota\", \"Hanahan\": \"South Carolina\", \"Makakilo City\": \"Hawaii\", \"Pikesville\": \"Maryland\", \"Dubuque\": \"Iowa\", \"Tupelo\": \"Mississippi\", \"West Seneca\": \"New York\", \"Parkville\": \"Maryland\", \"Marlborough\": \"Massachusetts\", \"Long Island City\": \"New York\", \"Mobile\": \"Alabama\", \"Lake Zurich\": \"Illinois\", \"Fort Lee\": \"New Jersey\", \"Merrillville\": \"Indiana\", \"Mason\": \"Ohio\", \"Hilo\": \"Hawaii\", \"Goshen\": \"Indiana\", \"Valdosta\": \"Georgia\", \"Kingman\": \"Arizona\", \"Dyer\": \"Indiana\", \"Cedar City\": \"Utah\", \"Tanque Verde\": \"Arizona\", \"Covina\": \"California\", \"North Canton\": \"Ohio\", \"Saint Andrews\": \"South Carolina\", \"Washington\": \"Illinois\", \"Johnston\": \"Iowa\", \"Yonkers\": \"New York\", \"Perris\": \"California\", \"Apple Valley\": \"Minnesota\", \"Southgate\": \"Michigan\", \"Hilliard\": \"Ohio\", \"Foothill Farms\": \"California\", \"Deer Park\": \"New York\", \"Elmira\": \"New York\", \"Fairhaven\": \"Massachusetts\", \"South Old Bridge\": \"New Jersey\", \"Ewa Gentry\": \"Hawaii\", \"Fort Washington\": \"Maryland\", \"Solon\": \"Ohio\", \"Williamstown\": \"New Jersey\", \"Corcoran\": \"California\", \"Sioux Falls\": \"South Dakota\", \"Elk River\": \"Minnesota\", \"Mauldin\": \"South Carolina\", \"Beltsville\": \"Maryland\", \"McKinleyville\": \"California\", \"Bell\": \"California\", \"Derry Village\": \"New Hampshire\", \"Pittsfield\": \"Massachusetts\", \"Humble\": \"Texas\", \"Andover\": \"Minnesota\", \"Duarte\": \"California\", \"Missoula\": \"Montana\", \"Stockbridge\": \"Georgia\", \"Port Huron\": \"Michigan\", \"Spartanburg\": \"South Carolina\", \"Bayonet Point\": \"Florida\", \"East Concord\": \"New Hampshire\", \"Lealman\": \"Florida\", \"Warner Robins\": \"Georgia\", \"Doral\": \"Florida\", \"Ocoee\": \"Florida\", \"Cuyahoga Falls\": \"Ohio\", \"Oak Creek\": \"Wisconsin\", \"Ballenger Creek\": \"Maryland\", \"North Port\": \"Florida\", \"Idaho Falls\": \"Idaho\", \"Wilmington\": \"North Carolina\", \"Nixa\": \"Missouri\", \"Inglewood\": \"California\", \"Kenmore\": \"Washington\", \"San Diego\": \"California\", \"Elizabeth\": \"New Jersey\", \"Baytown\": \"Texas\", \"Granite Bay\": \"California\", \"Canyon Lake\": \"Texas\", \"Blytheville\": \"Arkansas\", \"Oakley\": \"California\", \"Boca Raton\": \"Florida\", \"Shaker Heights\": \"Ohio\", \"Fairfield\": \"Ohio\", \"Kalamazoo\": \"Michigan\", \"Leisure City\": \"Florida\", \"Moscow\": \"Idaho\", \"Charleston\": \"South Carolina\", \"Kings Park\": \"New York\", \"Kearns\": \"Utah\", \"Cambridge\": \"Massachusetts\", \"Laurinburg\": \"North Carolina\", \"East Northport\": \"New York\", \"Ken Caryl\": \"Colorado\", \"Chapel Hill\": \"North Carolina\", \"Hialeah Gardens\": \"Florida\", \"Rosamond\": \"California\", \"Tucker\": \"Georgia\", \"Sun City\": \"Arizona\", \"South El Monte\": \"California\", \"Amherst\": \"New York\", \"Desert Hot Springs\": \"California\", \"Ronkonkoma\": \"New York\", \"Lyndhurst\": \"New Jersey\", \"Siloam Springs\": \"Arkansas\", \"Watertown\": \"Massachusetts\", \"Middleburg Heights\": \"Ohio\", \"Bell Gardens\": \"California\", \"Hot Springs\": \"Arkansas\", \"West Memphis\": \"Arkansas\", \"West Scarborough\": \"Maine\", \"Holyoke\": \"Massachusetts\", \"Fairwood\": \"Washington\", \"Pittsburg\": \"Kansas\", \"Seabrook\": \"Maryland\", \"Youngstown\": \"Ohio\", \"Redan\": \"Georgia\", \"Atwater\": \"California\", \"Anaheim\": \"California\", \"Bostonia\": \"California\", \"Palm Harbor\": \"Florida\", \"Prescott\": \"Arizona\", \"East Providence\": \"Rhode Island\", \"Edmond\": \"Oklahoma\", \"Ocean Acres\": \"New Jersey\", \"East Florence\": \"Alabama\", \"Hayward\": \"California\", \"Needham\": \"Massachusetts\", \"Dearborn\": \"Michigan\", \"Ramsey\": \"Minnesota\", \"Johns Creek\": \"Georgia\", \"Wallingford Center\": \"Connecticut\", \"Coram\": \"New York\", \"West Coon Rapids\": \"Minnesota\", \"Bakersfield\": \"California\", \"Winston-Salem\": \"North Carolina\", \"Slidell\": \"Louisiana\", \"Riverton\": \"Utah\", \"Ossining\": \"New York\", \"Cookeville\": \"Tennessee\", \"Tewksbury\": \"Massachusetts\", \"Port Chester\": \"New York\", \"Rolla\": \"Missouri\", \"Rock Hill\": \"South Carolina\", \"Graham\": \"Washington\", \"East Brunswick\": \"New Jersey\", \"Greenville\": \"Texas\", \"Fort Collins\": \"Colorado\", \"Suwanee\": \"Georgia\", \"New City\": \"New York\", \"Duncan\": \"Oklahoma\", \"Forest Park\": \"Georgia\", \"Daphne\": \"Alabama\", \"Mountlake Terrace\": \"Washington\", \"Memphis\": \"Tennessee\", \"The Villages\": \"Florida\", \"Nipomo\": \"California\", \"Temple City\": \"California\", \"Alhambra\": \"California\", \"Northfield\": \"Minnesota\", \"Bountiful\": \"Utah\", \"Tooele\": \"Utah\", \"Santa Fe Springs\": \"California\", \"University\": \"Florida\", \"Fresno\": \"Texas\", \"Buckeye\": \"Arizona\", \"Allen Park\": \"Michigan\", \"Mount Lebanon\": \"Pennsylvania\", \"Brook Park\": \"Ohio\", \"North Plainfield\": \"New Jersey\", \"Hoover\": \"Alabama\", \"Benicia\": \"California\", \"Hunt Valley\": \"Maryland\", \"Sumter\": \"South Carolina\", \"Mandan\": \"North Dakota\", \"Biddeford\": \"Maine\", \"Cartersville\": \"Georgia\", \"Bowie\": \"Maryland\", \"Yukon\": \"Oklahoma\", \"Anacortes\": \"Washington\", \"Morton\": \"Illinois\", \"Universal City\": \"California\", \"Hercules\": \"California\", \"Towson\": \"Maryland\", \"Sioux City\": \"Iowa\", \"Brunswick\": \"Georgia\", \"West Hempstead\": \"New York\", \"Auburn Hills\": \"Michigan\", \"Aspen Hill\": \"Maryland\", \"West Hartford\": \"Connecticut\", \"Houma\": \"Louisiana\", \"Jeffersonville\": \"Indiana\", \"Saratoga\": \"California\", \"Delano\": \"California\", \"Sunny Isles Beach\": \"Florida\", \"Saint Peters\": \"Missouri\", \"Oak Ridge\": \"Tennessee\", \"Leesburg\": \"Florida\", \"Florissant\": \"Missouri\", \"Hicksville\": \"New York\", \"Federal Way\": \"Washington\", \"Joplin\": \"Missouri\", \"Weston\": \"Florida\", \"Davenport\": \"Iowa\", \"Abington\": \"Massachusetts\", \"Novato\": \"California\", \"Laplace\": \"Louisiana\", \"Portsmouth\": \"New Hampshire\", \"Eden Prairie\": \"Minnesota\", \"Mableton\": \"Georgia\", \"Sunrise Manor\": \"Nevada\", \"Campbell\": \"California\", \"Waukegan\": \"Illinois\", \"Poplar Bluff\": \"Missouri\", \"Midland\": \"Texas\", \"Pascagoula\": \"Mississippi\", \"Ottumwa\": \"Iowa\", \"Walker\": \"Michigan\", \"Danville\": \"Illinois\", \"West Carson\": \"California\", \"Hereford\": \"Texas\", \"Wilton\": \"Connecticut\", \"San Bernardino\": \"California\", \"Encinitas\": \"California\", \"Los Gatos\": \"California\", \"Sheridan\": \"Wyoming\", \"Burbank\": \"Illinois\", \"Riverdale\": \"Georgia\", \"Savage\": \"Minnesota\", \"Galt\": \"California\", \"Marana\": \"Arizona\", \"Palos Hills\": \"Illinois\", \"Thornton\": \"Colorado\", \"Hermitage\": \"Pennsylvania\", \"McHenry\": \"Illinois\", \"Keene\": \"New Hampshire\", \"Estero\": \"Florida\", \"Cleveland\": \"Ohio\", \"West Lake Sammamish\": \"Washington\", \"Royal Oak\": \"Michigan\", \"Superior\": \"Wisconsin\", \"Lynn Haven\": \"Florida\", \"Green Bay\": \"Wisconsin\", \"Makakilo\": \"Hawaii\", \"Denton\": \"Texas\", \"Euclid\": \"Ohio\", \"Eagan\": \"Minnesota\", \"Northglenn\": \"Colorado\", \"Duncanville\": \"Texas\", \"Bethany\": \"Oklahoma\", \"Oceanside\": \"New York\", \"Pocatello\": \"Idaho\", \"Cicero\": \"Illinois\", \"Keizer\": \"Oregon\", \"El Cerrito\": \"California\", \"New Lenox\": \"Illinois\", \"Bozeman\": \"Montana\", \"Beverly\": \"Massachusetts\", \"Niles\": \"Ohio\", \"Streamwood\": \"Illinois\", \"Kirkland\": \"Washington\", \"West Allis\": \"Wisconsin\", \"Springboro\": \"Ohio\", \"North Druid Hills\": \"Georgia\", \"Durant\": \"Oklahoma\"}"
   ]
  },
  {
   "cell_type": "code",
   "execution_count": 45,
   "id": "36e31dc0-6b92-4cc0-927e-5ff685fc6899",
   "metadata": {
    "tags": []
   },
   "outputs": [],
   "source": [
    "list_ = set(list(city_to_state_dict.keys()) + list(city_to_state_dict.values()))\n",
    "list_ = [place.lower() for place in list_]"
   ]
  },
  {
   "cell_type": "code",
   "execution_count": 46,
   "id": "fc2f6101-103b-4777-b769-293157aee6fd",
   "metadata": {
    "tags": []
   },
   "outputs": [],
   "source": [
    "city_to_state_dict = {k.lower():v.lower() for k,v in city_to_state_dict.items()}"
   ]
  },
  {
   "cell_type": "code",
   "execution_count": 47,
   "id": "0ee2857b-67e4-4a39-b72f-b57c5e16600b",
   "metadata": {
    "tags": []
   },
   "outputs": [],
   "source": [
    "state_list = []\n",
    "for city in df.CITY.to_list():\n",
    "    if city.lower() in city_to_state_dict.keys():\n",
    "        state_list.append(city_to_state_dict[city.lower()])\n",
    "    else:\n",
    "        state_list.append(None)"
   ]
  },
  {
   "cell_type": "code",
   "execution_count": 48,
   "id": "c2aa8799-c4b3-4d2d-a958-c9d8fcf722f7",
   "metadata": {
    "tags": []
   },
   "outputs": [],
   "source": [
    "state_list[3] = \"pennsylvania\"\n",
    "state_list[4] = \"new york\"\n",
    "state_list[5] = \"california\"\n",
    "state_list[6] = \"pennsylvania\"\n",
    "state_list[16] = \"indiana\"\n",
    "state_list[27] = \"pennsylvania\""
   ]
  },
  {
   "cell_type": "code",
   "execution_count": 49,
   "id": "8e0ffddf-e24f-40d4-8d5b-dddf226bf98d",
   "metadata": {
    "tags": []
   },
   "outputs": [
    {
     "data": {
      "text/plain": [
       "Counter({'pennsylvania': 47986,\n",
       "         'california': 41554,\n",
       "         'texas': 23584,\n",
       "         None: 20726,\n",
       "         'indiana': 19332,\n",
       "         'illinois': 18205,\n",
       "         'georgia': 13124,\n",
       "         'florida': 7466,\n",
       "         'michigan': 3984,\n",
       "         'massachusetts': 2111,\n",
       "         'new york': 1482,\n",
       "         'ohio': 1129,\n",
       "         'louisiana': 900,\n",
       "         'colorado': 460,\n",
       "         'kentucky': 396})"
      ]
     },
     "execution_count": 49,
     "metadata": {},
     "output_type": "execute_result"
    }
   ],
   "source": [
    "Counter(state_list)"
   ]
  },
  {
   "cell_type": "code",
   "execution_count": 50,
   "id": "223f0061-6edf-415b-a760-99feae613e18",
   "metadata": {
    "tags": []
   },
   "outputs": [],
   "source": [
    "df['STATE'] = state_list"
   ]
  },
  {
   "cell_type": "code",
   "execution_count": 18,
   "id": "70633780-acc6-4b36-99ac-d2c3eabc66d0",
   "metadata": {
    "tags": []
   },
   "outputs": [],
   "source": [
    "state_to_demo_dict = {\"colorado\" : \"west\", \"pennsylvania\" : \"east\", \"texas\" : \"south\", \"california\" : \"west\", \"indiana\" : \"central\", \n",
    "                      \"illinois\" : \"central\", \"massachusetts\" : \"east\", \"ohio\" : \"central\", \"louisiana\" : \"south\", \"georgia\" : \"south\",\n",
    "                      \"kentucky\" : \"central\", \"michigan\" : \"north\", \"florida\" : \"south\", \"new york\" : \"east\"}"
   ]
  },
  {
   "cell_type": "code",
   "execution_count": 19,
   "id": "7674c18f-568e-4e77-90c7-036dfba552ea",
   "metadata": {
    "tags": []
   },
   "outputs": [],
   "source": [
    "demographics = []\n",
    "for state in df.STATE:\n",
    "    demographics.append(state_to_demo_dict[state])"
   ]
  },
  {
   "cell_type": "code",
   "execution_count": 20,
   "id": "a7cdf756-b456-4916-8f16-897a75e02656",
   "metadata": {
    "tags": []
   },
   "outputs": [],
   "source": [
    "df['DEMO'] = demographics"
   ]
  },
  {
   "cell_type": "code",
   "execution_count": 21,
   "id": "37ac4558-1080-4501-a7dc-780f16eacba1",
   "metadata": {
    "tags": []
   },
   "outputs": [
    {
     "name": "stdout",
     "output_type": "stream",
     "text": [
      "Number of Ads: 145926\n",
      "Number of Images: 3459\n"
     ]
    },
    {
     "data": {
      "text/html": [
       "<div>\n",
       "<style scoped>\n",
       "    .dataframe tbody tr th:only-of-type {\n",
       "        vertical-align: middle;\n",
       "    }\n",
       "\n",
       "    .dataframe tbody tr th {\n",
       "        vertical-align: top;\n",
       "    }\n",
       "\n",
       "    .dataframe thead th {\n",
       "        text-align: right;\n",
       "    }\n",
       "</style>\n",
       "<table border=\"1\" class=\"dataframe\">\n",
       "  <thead>\n",
       "    <tr style=\"text-align: right;\">\n",
       "      <th></th>\n",
       "      <th>CITY</th>\n",
       "      <th>ADS</th>\n",
       "      <th>PHONES</th>\n",
       "      <th>IMAGES</th>\n",
       "      <th>STATE</th>\n",
       "      <th>DEMO</th>\n",
       "    </tr>\n",
       "  </thead>\n",
       "  <tbody>\n",
       "    <tr>\n",
       "      <th>1</th>\n",
       "      <td>Scranton</td>\n",
       "      <td>6063</td>\n",
       "      <td>10969</td>\n",
       "      <td>0</td>\n",
       "      <td>pennsylvania</td>\n",
       "      <td>east</td>\n",
       "    </tr>\n",
       "    <tr>\n",
       "      <th>2</th>\n",
       "      <td>Harrisburg</td>\n",
       "      <td>6055</td>\n",
       "      <td>11682</td>\n",
       "      <td>0</td>\n",
       "      <td>pennsylvania</td>\n",
       "      <td>east</td>\n",
       "    </tr>\n",
       "    <tr>\n",
       "      <th>3</th>\n",
       "      <td>Poconos</td>\n",
       "      <td>2260</td>\n",
       "      <td>4246</td>\n",
       "      <td>0</td>\n",
       "      <td>pennsylvania</td>\n",
       "      <td>east</td>\n",
       "    </tr>\n",
       "    <tr>\n",
       "      <th>4</th>\n",
       "      <td>New York</td>\n",
       "      <td>20273</td>\n",
       "      <td>32129</td>\n",
       "      <td>3459</td>\n",
       "      <td>new york</td>\n",
       "      <td>east</td>\n",
       "    </tr>\n",
       "    <tr>\n",
       "      <th>6</th>\n",
       "      <td>Penn State</td>\n",
       "      <td>1175</td>\n",
       "      <td>2231</td>\n",
       "      <td>0</td>\n",
       "      <td>pennsylvania</td>\n",
       "      <td>east</td>\n",
       "    </tr>\n",
       "    <tr>\n",
       "      <th>9</th>\n",
       "      <td>York</td>\n",
       "      <td>3322</td>\n",
       "      <td>6388</td>\n",
       "      <td>0</td>\n",
       "      <td>pennsylvania</td>\n",
       "      <td>east</td>\n",
       "    </tr>\n",
       "    <tr>\n",
       "      <th>11</th>\n",
       "      <td>Philadelphia</td>\n",
       "      <td>66385</td>\n",
       "      <td>153583</td>\n",
       "      <td>0</td>\n",
       "      <td>pennsylvania</td>\n",
       "      <td>east</td>\n",
       "    </tr>\n",
       "    <tr>\n",
       "      <th>14</th>\n",
       "      <td>Williamsport</td>\n",
       "      <td>993</td>\n",
       "      <td>2279</td>\n",
       "      <td>0</td>\n",
       "      <td>pennsylvania</td>\n",
       "      <td>east</td>\n",
       "    </tr>\n",
       "    <tr>\n",
       "      <th>17</th>\n",
       "      <td>Watertown</td>\n",
       "      <td>1319</td>\n",
       "      <td>2362</td>\n",
       "      <td>0</td>\n",
       "      <td>massachusetts</td>\n",
       "      <td>east</td>\n",
       "    </tr>\n",
       "    <tr>\n",
       "      <th>22</th>\n",
       "      <td>Altoona</td>\n",
       "      <td>1313</td>\n",
       "      <td>2539</td>\n",
       "      <td>0</td>\n",
       "      <td>pennsylvania</td>\n",
       "      <td>east</td>\n",
       "    </tr>\n",
       "    <tr>\n",
       "      <th>24</th>\n",
       "      <td>Reading</td>\n",
       "      <td>6378</td>\n",
       "      <td>12077</td>\n",
       "      <td>0</td>\n",
       "      <td>massachusetts</td>\n",
       "      <td>east</td>\n",
       "    </tr>\n",
       "    <tr>\n",
       "      <th>27</th>\n",
       "      <td>Meadville</td>\n",
       "      <td>587</td>\n",
       "      <td>1103</td>\n",
       "      <td>0</td>\n",
       "      <td>pennsylvania</td>\n",
       "      <td>east</td>\n",
       "    </tr>\n",
       "    <tr>\n",
       "      <th>29</th>\n",
       "      <td>Pittsburgh</td>\n",
       "      <td>16880</td>\n",
       "      <td>32476</td>\n",
       "      <td>0</td>\n",
       "      <td>pennsylvania</td>\n",
       "      <td>east</td>\n",
       "    </tr>\n",
       "    <tr>\n",
       "      <th>34</th>\n",
       "      <td>Allentown</td>\n",
       "      <td>7085</td>\n",
       "      <td>13365</td>\n",
       "      <td>0</td>\n",
       "      <td>pennsylvania</td>\n",
       "      <td>east</td>\n",
       "    </tr>\n",
       "    <tr>\n",
       "      <th>36</th>\n",
       "      <td>Chambersburg</td>\n",
       "      <td>1384</td>\n",
       "      <td>3389</td>\n",
       "      <td>0</td>\n",
       "      <td>pennsylvania</td>\n",
       "      <td>east</td>\n",
       "    </tr>\n",
       "    <tr>\n",
       "      <th>37</th>\n",
       "      <td>Albany</td>\n",
       "      <td>3818</td>\n",
       "      <td>6534</td>\n",
       "      <td>0</td>\n",
       "      <td>new york</td>\n",
       "      <td>east</td>\n",
       "    </tr>\n",
       "    <tr>\n",
       "      <th>38</th>\n",
       "      <td>Binghamton</td>\n",
       "      <td>636</td>\n",
       "      <td>1088</td>\n",
       "      <td>0</td>\n",
       "      <td>new york</td>\n",
       "      <td>east</td>\n",
       "    </tr>\n",
       "  </tbody>\n",
       "</table>\n",
       "</div>"
      ],
      "text/plain": [
       "            CITY    ADS  PHONES  IMAGES          STATE  DEMO\n",
       "1       Scranton   6063   10969       0   pennsylvania  east\n",
       "2     Harrisburg   6055   11682       0   pennsylvania  east\n",
       "3        Poconos   2260    4246       0   pennsylvania  east\n",
       "4       New York  20273   32129    3459       new york  east\n",
       "6     Penn State   1175    2231       0   pennsylvania  east\n",
       "9           York   3322    6388       0   pennsylvania  east\n",
       "11  Philadelphia  66385  153583       0   pennsylvania  east\n",
       "14  Williamsport    993    2279       0   pennsylvania  east\n",
       "17     Watertown   1319    2362       0  massachusetts  east\n",
       "22       Altoona   1313    2539       0   pennsylvania  east\n",
       "24       Reading   6378   12077       0  massachusetts  east\n",
       "27     Meadville    587    1103       0   pennsylvania  east\n",
       "29    Pittsburgh  16880   32476       0   pennsylvania  east\n",
       "34     Allentown   7085   13365       0   pennsylvania  east\n",
       "36  Chambersburg   1384    3389       0   pennsylvania  east\n",
       "37        Albany   3818    6534       0       new york  east\n",
       "38    Binghamton    636    1088       0       new york  east"
      ]
     },
     "execution_count": 21,
     "metadata": {},
     "output_type": "execute_result"
    }
   ],
   "source": [
    "print(\"Number of Ads:\", df[df['DEMO']==\"east\"].ADS.sum())\n",
    "print(\"Number of Images:\", df[df['DEMO']==\"east\"].IMAGES.sum())\n",
    "df[df['DEMO']==\"east\"]"
   ]
  },
  {
   "cell_type": "code",
   "execution_count": 22,
   "id": "cd1a9258-4634-45a0-ac88-14b3d8eb10af",
   "metadata": {
    "tags": []
   },
   "outputs": [
    {
     "name": "stdout",
     "output_type": "stream",
     "text": [
      "Number of Ads: 179599\n",
      "Number of Images: 4262\n"
     ]
    },
    {
     "data": {
      "text/html": [
       "<div>\n",
       "<style scoped>\n",
       "    .dataframe tbody tr th:only-of-type {\n",
       "        vertical-align: middle;\n",
       "    }\n",
       "\n",
       "    .dataframe tbody tr th {\n",
       "        vertical-align: top;\n",
       "    }\n",
       "\n",
       "    .dataframe thead th {\n",
       "        text-align: right;\n",
       "    }\n",
       "</style>\n",
       "<table border=\"1\" class=\"dataframe\">\n",
       "  <thead>\n",
       "    <tr style=\"text-align: right;\">\n",
       "      <th></th>\n",
       "      <th>CITY</th>\n",
       "      <th>ADS</th>\n",
       "      <th>PHONES</th>\n",
       "      <th>IMAGES</th>\n",
       "      <th>STATE</th>\n",
       "      <th>DEMO</th>\n",
       "    </tr>\n",
       "  </thead>\n",
       "  <tbody>\n",
       "    <tr>\n",
       "      <th>0</th>\n",
       "      <td>Erie</td>\n",
       "      <td>3939</td>\n",
       "      <td>7420</td>\n",
       "      <td>0</td>\n",
       "      <td>colorado</td>\n",
       "      <td>west</td>\n",
       "    </tr>\n",
       "    <tr>\n",
       "      <th>5</th>\n",
       "      <td>San Fransisco</td>\n",
       "      <td>15331</td>\n",
       "      <td>20962</td>\n",
       "      <td>4262</td>\n",
       "      <td>california</td>\n",
       "      <td>west</td>\n",
       "    </tr>\n",
       "    <tr>\n",
       "      <th>8</th>\n",
       "      <td>Bakersfield</td>\n",
       "      <td>9380</td>\n",
       "      <td>16949</td>\n",
       "      <td>0</td>\n",
       "      <td>california</td>\n",
       "      <td>west</td>\n",
       "    </tr>\n",
       "    <tr>\n",
       "      <th>21</th>\n",
       "      <td>Chico</td>\n",
       "      <td>2405</td>\n",
       "      <td>4542</td>\n",
       "      <td>0</td>\n",
       "      <td>california</td>\n",
       "      <td>west</td>\n",
       "    </tr>\n",
       "    <tr>\n",
       "      <th>39</th>\n",
       "      <td>Los Angeles</td>\n",
       "      <td>148544</td>\n",
       "      <td>286177</td>\n",
       "      <td>0</td>\n",
       "      <td>california</td>\n",
       "      <td>west</td>\n",
       "    </tr>\n",
       "  </tbody>\n",
       "</table>\n",
       "</div>"
      ],
      "text/plain": [
       "             CITY     ADS  PHONES  IMAGES       STATE  DEMO\n",
       "0            Erie    3939    7420       0    colorado  west\n",
       "5   San Fransisco   15331   20962    4262  california  west\n",
       "8     Bakersfield    9380   16949       0  california  west\n",
       "21          Chico    2405    4542       0  california  west\n",
       "39    Los Angeles  148544  286177       0  california  west"
      ]
     },
     "execution_count": 22,
     "metadata": {},
     "output_type": "execute_result"
    }
   ],
   "source": [
    "print(\"Number of Ads:\", df[df['DEMO']==\"west\"].ADS.sum())\n",
    "print(\"Number of Images:\", df[df['DEMO']==\"west\"].IMAGES.sum())\n",
    "df[df['DEMO']==\"west\"]"
   ]
  },
  {
   "cell_type": "code",
   "execution_count": 23,
   "id": "d5715abf-aca6-4383-a1c8-67f8753825fa",
   "metadata": {
    "tags": []
   },
   "outputs": [
    {
     "name": "stdout",
     "output_type": "stream",
     "text": [
      "Number of Ads: 7472\n",
      "Number of Images: 1874\n"
     ]
    },
    {
     "data": {
      "text/html": [
       "<div>\n",
       "<style scoped>\n",
       "    .dataframe tbody tr th:only-of-type {\n",
       "        vertical-align: middle;\n",
       "    }\n",
       "\n",
       "    .dataframe tbody tr th {\n",
       "        vertical-align: top;\n",
       "    }\n",
       "\n",
       "    .dataframe thead th {\n",
       "        text-align: right;\n",
       "    }\n",
       "</style>\n",
       "<table border=\"1\" class=\"dataframe\">\n",
       "  <thead>\n",
       "    <tr style=\"text-align: right;\">\n",
       "      <th></th>\n",
       "      <th>CITY</th>\n",
       "      <th>ADS</th>\n",
       "      <th>PHONES</th>\n",
       "      <th>IMAGES</th>\n",
       "      <th>STATE</th>\n",
       "      <th>DEMO</th>\n",
       "    </tr>\n",
       "  </thead>\n",
       "  <tbody>\n",
       "    <tr>\n",
       "      <th>33</th>\n",
       "      <td>Detroit</td>\n",
       "      <td>7472</td>\n",
       "      <td>11301</td>\n",
       "      <td>1874</td>\n",
       "      <td>michigan</td>\n",
       "      <td>north</td>\n",
       "    </tr>\n",
       "  </tbody>\n",
       "</table>\n",
       "</div>"
      ],
      "text/plain": [
       "       CITY   ADS  PHONES  IMAGES     STATE   DEMO\n",
       "33  Detroit  7472   11301    1874  michigan  north"
      ]
     },
     "execution_count": 23,
     "metadata": {},
     "output_type": "execute_result"
    }
   ],
   "source": [
    "print(\"Number of Ads:\", df[df['DEMO']==\"north\"].ADS.sum())\n",
    "print(\"Number of Images:\", df[df['DEMO']==\"north\"].IMAGES.sum())\n",
    "df[df['DEMO']==\"north\"]"
   ]
  },
  {
   "cell_type": "code",
   "execution_count": 24,
   "id": "f9768ce9-1a50-4014-a219-702f1f090b43",
   "metadata": {
    "tags": []
   },
   "outputs": [
    {
     "name": "stdout",
     "output_type": "stream",
     "text": [
      "Number of Ads: 95087\n",
      "Number of Images: 17393\n"
     ]
    },
    {
     "data": {
      "text/html": [
       "<div>\n",
       "<style scoped>\n",
       "    .dataframe tbody tr th:only-of-type {\n",
       "        vertical-align: middle;\n",
       "    }\n",
       "\n",
       "    .dataframe tbody tr th {\n",
       "        vertical-align: top;\n",
       "    }\n",
       "\n",
       "    .dataframe thead th {\n",
       "        text-align: right;\n",
       "    }\n",
       "</style>\n",
       "<table border=\"1\" class=\"dataframe\">\n",
       "  <thead>\n",
       "    <tr style=\"text-align: right;\">\n",
       "      <th></th>\n",
       "      <th>CITY</th>\n",
       "      <th>ADS</th>\n",
       "      <th>PHONES</th>\n",
       "      <th>IMAGES</th>\n",
       "      <th>STATE</th>\n",
       "      <th>DEMO</th>\n",
       "    </tr>\n",
       "  </thead>\n",
       "  <tbody>\n",
       "    <tr>\n",
       "      <th>7</th>\n",
       "      <td>Dallas</td>\n",
       "      <td>21324</td>\n",
       "      <td>33705</td>\n",
       "      <td>4872</td>\n",
       "      <td>texas</td>\n",
       "      <td>south</td>\n",
       "    </tr>\n",
       "    <tr>\n",
       "      <th>23</th>\n",
       "      <td>Lafayette</td>\n",
       "      <td>2613</td>\n",
       "      <td>4884</td>\n",
       "      <td>0</td>\n",
       "      <td>louisiana</td>\n",
       "      <td>south</td>\n",
       "    </tr>\n",
       "    <tr>\n",
       "      <th>25</th>\n",
       "      <td>Atlanta</td>\n",
       "      <td>26532</td>\n",
       "      <td>41844</td>\n",
       "      <td>6304</td>\n",
       "      <td>georgia</td>\n",
       "      <td>south</td>\n",
       "    </tr>\n",
       "    <tr>\n",
       "      <th>30</th>\n",
       "      <td>Houston</td>\n",
       "      <td>22964</td>\n",
       "      <td>34896</td>\n",
       "      <td>6217</td>\n",
       "      <td>texas</td>\n",
       "      <td>south</td>\n",
       "    </tr>\n",
       "    <tr>\n",
       "      <th>32</th>\n",
       "      <td>Fresno</td>\n",
       "      <td>1569</td>\n",
       "      <td>2758</td>\n",
       "      <td>0</td>\n",
       "      <td>texas</td>\n",
       "      <td>south</td>\n",
       "    </tr>\n",
       "    <tr>\n",
       "      <th>35</th>\n",
       "      <td>Westchester</td>\n",
       "      <td>20085</td>\n",
       "      <td>37114</td>\n",
       "      <td>0</td>\n",
       "      <td>florida</td>\n",
       "      <td>south</td>\n",
       "    </tr>\n",
       "  </tbody>\n",
       "</table>\n",
       "</div>"
      ],
      "text/plain": [
       "           CITY    ADS  PHONES  IMAGES      STATE   DEMO\n",
       "7        Dallas  21324   33705    4872      texas  south\n",
       "23    Lafayette   2613    4884       0  louisiana  south\n",
       "25      Atlanta  26532   41844    6304    georgia  south\n",
       "30      Houston  22964   34896    6217      texas  south\n",
       "32       Fresno   1569    2758       0      texas  south\n",
       "35  Westchester  20085   37114       0    florida  south"
      ]
     },
     "execution_count": 24,
     "metadata": {},
     "output_type": "execute_result"
    }
   ],
   "source": [
    "print(\"Number of Ads:\", df[df['DEMO']==\"south\"].ADS.sum())\n",
    "print(\"Number of Images:\", df[df['DEMO']==\"south\"].IMAGES.sum())\n",
    "df[df['DEMO']==\"south\"]"
   ]
  },
  {
   "cell_type": "code",
   "execution_count": 25,
   "id": "ec754d7b-ff12-4387-a6c2-0e9048f6d8ef",
   "metadata": {
    "tags": []
   },
   "outputs": [
    {
     "name": "stdout",
     "output_type": "stream",
     "text": [
      "Number of Ads: 85621\n",
      "Number of Images: 8239\n"
     ]
    },
    {
     "data": {
      "text/html": [
       "<div>\n",
       "<style scoped>\n",
       "    .dataframe tbody tr th:only-of-type {\n",
       "        vertical-align: middle;\n",
       "    }\n",
       "\n",
       "    .dataframe tbody tr th {\n",
       "        vertical-align: top;\n",
       "    }\n",
       "\n",
       "    .dataframe thead th {\n",
       "        text-align: right;\n",
       "    }\n",
       "</style>\n",
       "<table border=\"1\" class=\"dataframe\">\n",
       "  <thead>\n",
       "    <tr style=\"text-align: right;\">\n",
       "      <th></th>\n",
       "      <th>CITY</th>\n",
       "      <th>ADS</th>\n",
       "      <th>PHONES</th>\n",
       "      <th>IMAGES</th>\n",
       "      <th>STATE</th>\n",
       "      <th>DEMO</th>\n",
       "    </tr>\n",
       "  </thead>\n",
       "  <tbody>\n",
       "    <tr>\n",
       "      <th>10</th>\n",
       "      <td>Muncie</td>\n",
       "      <td>2282</td>\n",
       "      <td>4152</td>\n",
       "      <td>0</td>\n",
       "      <td>indiana</td>\n",
       "      <td>central</td>\n",
       "    </tr>\n",
       "    <tr>\n",
       "      <th>12</th>\n",
       "      <td>South Bend</td>\n",
       "      <td>6747</td>\n",
       "      <td>12656</td>\n",
       "      <td>0</td>\n",
       "      <td>indiana</td>\n",
       "      <td>central</td>\n",
       "    </tr>\n",
       "    <tr>\n",
       "      <th>13</th>\n",
       "      <td>Terre Haute</td>\n",
       "      <td>1251</td>\n",
       "      <td>2386</td>\n",
       "      <td>0</td>\n",
       "      <td>indiana</td>\n",
       "      <td>central</td>\n",
       "    </tr>\n",
       "    <tr>\n",
       "      <th>15</th>\n",
       "      <td>Chicago</td>\n",
       "      <td>31226</td>\n",
       "      <td>48243</td>\n",
       "      <td>8239</td>\n",
       "      <td>illinois</td>\n",
       "      <td>central</td>\n",
       "    </tr>\n",
       "    <tr>\n",
       "      <th>16</th>\n",
       "      <td>Ft Wayne</td>\n",
       "      <td>7285</td>\n",
       "      <td>13487</td>\n",
       "      <td>0</td>\n",
       "      <td>indiana</td>\n",
       "      <td>central</td>\n",
       "    </tr>\n",
       "    <tr>\n",
       "      <th>18</th>\n",
       "      <td>Indianapolis</td>\n",
       "      <td>25503</td>\n",
       "      <td>58398</td>\n",
       "      <td>0</td>\n",
       "      <td>indiana</td>\n",
       "      <td>central</td>\n",
       "    </tr>\n",
       "    <tr>\n",
       "      <th>19</th>\n",
       "      <td>Kokomo</td>\n",
       "      <td>1631</td>\n",
       "      <td>2978</td>\n",
       "      <td>0</td>\n",
       "      <td>indiana</td>\n",
       "      <td>central</td>\n",
       "    </tr>\n",
       "    <tr>\n",
       "      <th>20</th>\n",
       "      <td>Lancaster</td>\n",
       "      <td>4367</td>\n",
       "      <td>8225</td>\n",
       "      <td>0</td>\n",
       "      <td>ohio</td>\n",
       "      <td>central</td>\n",
       "    </tr>\n",
       "    <tr>\n",
       "      <th>26</th>\n",
       "      <td>Evansville</td>\n",
       "      <td>2974</td>\n",
       "      <td>5406</td>\n",
       "      <td>0</td>\n",
       "      <td>indiana</td>\n",
       "      <td>central</td>\n",
       "    </tr>\n",
       "    <tr>\n",
       "      <th>28</th>\n",
       "      <td>Richmond</td>\n",
       "      <td>622</td>\n",
       "      <td>1211</td>\n",
       "      <td>0</td>\n",
       "      <td>kentucky</td>\n",
       "      <td>central</td>\n",
       "    </tr>\n",
       "    <tr>\n",
       "      <th>31</th>\n",
       "      <td>Bloomington</td>\n",
       "      <td>1733</td>\n",
       "      <td>3270</td>\n",
       "      <td>0</td>\n",
       "      <td>indiana</td>\n",
       "      <td>central</td>\n",
       "    </tr>\n",
       "  </tbody>\n",
       "</table>\n",
       "</div>"
      ],
      "text/plain": [
       "            CITY    ADS  PHONES  IMAGES     STATE     DEMO\n",
       "10        Muncie   2282    4152       0   indiana  central\n",
       "12    South Bend   6747   12656       0   indiana  central\n",
       "13   Terre Haute   1251    2386       0   indiana  central\n",
       "15       Chicago  31226   48243    8239  illinois  central\n",
       "16      Ft Wayne   7285   13487       0   indiana  central\n",
       "18  Indianapolis  25503   58398       0   indiana  central\n",
       "19        Kokomo   1631    2978       0   indiana  central\n",
       "20     Lancaster   4367    8225       0      ohio  central\n",
       "26    Evansville   2974    5406       0   indiana  central\n",
       "28      Richmond    622    1211       0  kentucky  central\n",
       "31   Bloomington   1733    3270       0   indiana  central"
      ]
     },
     "execution_count": 25,
     "metadata": {},
     "output_type": "execute_result"
    }
   ],
   "source": [
    "print(\"Number of Ads:\", df[df['DEMO']==\"central\"].ADS.sum())\n",
    "print(\"Number of Images:\", df[df['DEMO']==\"central\"].IMAGES.sum())\n",
    "df[df['DEMO']==\"central\"]"
   ]
  },
  {
   "cell_type": "markdown",
   "id": "3002dd32-9820-4811-b8d1-c0c171ace69f",
   "metadata": {},
   "source": [
    "# Merging the data based on demographics"
   ]
  },
  {
   "cell_type": "code",
   "execution_count": 17,
   "id": "38182942-4adf-4f7d-8233-9aafb0412503",
   "metadata": {},
   "outputs": [],
   "source": [
    "east = ['Scranton', 'Harrisburg', 'Poconos', 'New York', 'Penn State', 'York', 'Philadelphia', 'Williamsport', 'Watertown', 'Altoona', 'Reading', 'Meadville', 'Pittsburgh', 'Allentown', 'Chambersburg', 'Albany', 'Binghamton']\n",
    "west = ['Erie', 'San Fransisco', 'Bakersfield', 'Chico', 'Los Angeles']\n",
    "north = ['Detroit']\n",
    "south = ['Dallas', 'Lafayette', 'Atlanta', 'Houston', 'Fresno', 'Westchester']\n",
    "central = ['Muncie', 'South Bend', 'Terre Haute', 'Chicago', 'Ft Wayne', 'Indianapolis', 'Kokomo', 'Lancaster', 'Evansville', 'Richmond', 'Bloomington']"
   ]
  },
  {
   "cell_type": "code",
   "execution_count": 18,
   "id": "2ed4a3bc-a133-41d5-84a5-cd239e8e4bfa",
   "metadata": {},
   "outputs": [],
   "source": [
    "def merge_data_based_on_demographics(demography, data_dir):\n",
    "    data_df = []\n",
    "    for city in demography:\n",
    "        df_ = pd.read_csv(os.path.join(data_dir, city + \".csv\")).rename(columns={'body': 'TEXT'})\n",
    "        df_['CITY'] = [city] * df_.shape[0]\n",
    "        if 'IMAGES' in df_.columns:\n",
    "            data_df.append(df_[['TEXT', 'PHONES', 'CITY', 'IMAGES']])\n",
    "        else:\n",
    "            data_df.append(df_[['TEXT', 'PHONES', 'CITY']])\n",
    "    return data_df"
   ]
  },
  {
   "cell_type": "code",
   "execution_count": 19,
   "id": "87a2651b-9a68-4191-97da-a89c1f7e6402",
   "metadata": {},
   "outputs": [],
   "source": [
    "east_df = merge_data_based_on_demographics(east, \"../data/structured/TEXT\")\n",
    "east_df = pd.concat(east_df)\n",
    "\n",
    "west_df = merge_data_based_on_demographics(west, \"../data/structured/TEXT\")\n",
    "west_df = pd.concat(west_df)\n",
    "\n",
    "north_df = merge_data_based_on_demographics(north, \"../data/structured/TEXT\")\n",
    "north_df = pd.concat(north_df)\n",
    "\n",
    "south_df = merge_data_based_on_demographics(south, \"../data/structured/TEXT\")\n",
    "south_df = pd.concat(south_df)\n",
    "\n",
    "central_df = merge_data_based_on_demographics(central, \"../data/structured/TEXT\")\n",
    "central_df = pd.concat(central_df)"
   ]
  },
  {
   "cell_type": "code",
   "execution_count": null,
   "id": "ca6b0289-7aee-4bbd-8296-6e782a9f6682",
   "metadata": {
    "tags": []
   },
   "outputs": [],
   "source": [
    "east_df['DEMO'] = [\"east\"] * east_df.shape[0]\n",
    "west_df['DEMO'] = [\"west\"] * west_df.shape[0]\n",
    "north_df['DEMO'] = [\"north\"] * north_df.shape[0]\n",
    "south_df['DEMO'] = [\"south\"] * south_df.shape[0]\n",
    "central_df['DEMO'] = [\"central\"] * central_df.shape[0]\n",
    "\n",
    "df = pd.concat([east_df, west_df, north_df, south_df, central_df])"
   ]
  },
  {
   "cell_type": "code",
   "execution_count": 21,
   "id": "60042192-ffe7-4718-891f-c55ec8a36994",
   "metadata": {},
   "outputs": [
    {
     "data": {
      "text/html": [
       "<div>\n",
       "<style scoped>\n",
       "    .dataframe tbody tr th:only-of-type {\n",
       "        vertical-align: middle;\n",
       "    }\n",
       "\n",
       "    .dataframe tbody tr th {\n",
       "        vertical-align: top;\n",
       "    }\n",
       "\n",
       "    .dataframe thead th {\n",
       "        text-align: right;\n",
       "    }\n",
       "</style>\n",
       "<table border=\"1\" class=\"dataframe\">\n",
       "  <thead>\n",
       "    <tr style=\"text-align: right;\">\n",
       "      <th></th>\n",
       "      <th>TEXT</th>\n",
       "      <th>PHONES</th>\n",
       "      <th>CITY</th>\n",
       "      <th>IMAGES</th>\n",
       "      <th>DEMO</th>\n",
       "    </tr>\n",
       "  </thead>\n",
       "  <tbody>\n",
       "    <tr>\n",
       "      <th>0</th>\n",
       "      <td>Mixed Goddess looking to pamper and charm you...</td>\n",
       "      <td>['484-838-3573', '(484)838-3573', '484-8332745...</td>\n",
       "      <td>Scranton</td>\n",
       "      <td>NaN</td>\n",
       "      <td>east</td>\n",
       "    </tr>\n",
       "    <tr>\n",
       "      <th>1</th>\n",
       "      <td>Where is the Compassion/Companionship now a d...</td>\n",
       "      <td>['23?? 570-285-4013']</td>\n",
       "      <td>Scranton</td>\n",
       "      <td>NaN</td>\n",
       "      <td>east</td>\n",
       "    </tr>\n",
       "    <tr>\n",
       "      <th>2</th>\n",
       "      <td>My name is Mandy. I am available for upscale ...</td>\n",
       "      <td>['(570)351-2749']</td>\n",
       "      <td>Scranton</td>\n",
       "      <td>NaN</td>\n",
       "      <td>east</td>\n",
       "    </tr>\n",
       "    <tr>\n",
       "      <th>3</th>\n",
       "      <td>Hey Guys?? I offer a completely safe and non-...</td>\n",
       "      <td>['5703903699']</td>\n",
       "      <td>Scranton</td>\n",
       "      <td>NaN</td>\n",
       "      <td>east</td>\n",
       "    </tr>\n",
       "    <tr>\n",
       "      <th>4</th>\n",
       "      <td>barbie 570 814 9924 200 hr flat rate 135 half...</td>\n",
       "      <td>['570 814 9924 200']</td>\n",
       "      <td>Scranton</td>\n",
       "      <td>NaN</td>\n",
       "      <td>east</td>\n",
       "    </tr>\n",
       "    <tr>\n",
       "      <th>...</th>\n",
       "      <td>...</td>\n",
       "      <td>...</td>\n",
       "      <td>...</td>\n",
       "      <td>...</td>\n",
       "      <td>...</td>\n",
       "    </tr>\n",
       "    <tr>\n",
       "      <th>1728</th>\n",
       "      <td>[SEP]  http://posting.bloomington.backpage.co...</td>\n",
       "      <td>['39002999', '39002999']</td>\n",
       "      <td>Bloomington</td>\n",
       "      <td>NaN</td>\n",
       "      <td>central</td>\n",
       "    </tr>\n",
       "    <tr>\n",
       "      <th>1729</th>\n",
       "      <td>[SEP]  http://bloomington.backpage.com/Female...</td>\n",
       "      <td>['3900287139', '287139002999']</td>\n",
       "      <td>Bloomington</td>\n",
       "      <td>NaN</td>\n",
       "      <td>central</td>\n",
       "    </tr>\n",
       "    <tr>\n",
       "      <th>1730</th>\n",
       "      <td>[SEP]  http://bloomington.backpage.com/Female...</td>\n",
       "      <td>['3900287539', '287539002999']</td>\n",
       "      <td>Bloomington</td>\n",
       "      <td>NaN</td>\n",
       "      <td>central</td>\n",
       "    </tr>\n",
       "    <tr>\n",
       "      <th>1731</th>\n",
       "      <td>[SEP]  http://bloomington.backpage.com/Female...</td>\n",
       "      <td>['3900287939', '287939002999']</td>\n",
       "      <td>Bloomington</td>\n",
       "      <td>NaN</td>\n",
       "      <td>central</td>\n",
       "    </tr>\n",
       "    <tr>\n",
       "      <th>1732</th>\n",
       "      <td>[SEP]  http://bloomington.backpage.com/Female...</td>\n",
       "      <td>['3900287939', '287939002999']</td>\n",
       "      <td>Bloomington</td>\n",
       "      <td>NaN</td>\n",
       "      <td>central</td>\n",
       "    </tr>\n",
       "  </tbody>\n",
       "</table>\n",
       "<p>513705 rows × 5 columns</p>\n",
       "</div>"
      ],
      "text/plain": [
       "                                                   TEXT  \\\n",
       "0      Mixed Goddess looking to pamper and charm you...   \n",
       "1      Where is the Compassion/Companionship now a d...   \n",
       "2      My name is Mandy. I am available for upscale ...   \n",
       "3      Hey Guys?? I offer a completely safe and non-...   \n",
       "4      barbie 570 814 9924 200 hr flat rate 135 half...   \n",
       "...                                                 ...   \n",
       "1728   [SEP]  http://posting.bloomington.backpage.co...   \n",
       "1729   [SEP]  http://bloomington.backpage.com/Female...   \n",
       "1730   [SEP]  http://bloomington.backpage.com/Female...   \n",
       "1731   [SEP]  http://bloomington.backpage.com/Female...   \n",
       "1732   [SEP]  http://bloomington.backpage.com/Female...   \n",
       "\n",
       "                                                 PHONES         CITY IMAGES  \\\n",
       "0     ['484-838-3573', '(484)838-3573', '484-8332745...     Scranton    NaN   \n",
       "1                                 ['23?? 570-285-4013']     Scranton    NaN   \n",
       "2                                     ['(570)351-2749']     Scranton    NaN   \n",
       "3                                        ['5703903699']     Scranton    NaN   \n",
       "4                                  ['570 814 9924 200']     Scranton    NaN   \n",
       "...                                                 ...          ...    ...   \n",
       "1728                           ['39002999', '39002999']  Bloomington    NaN   \n",
       "1729                     ['3900287139', '287139002999']  Bloomington    NaN   \n",
       "1730                     ['3900287539', '287539002999']  Bloomington    NaN   \n",
       "1731                     ['3900287939', '287939002999']  Bloomington    NaN   \n",
       "1732                     ['3900287939', '287939002999']  Bloomington    NaN   \n",
       "\n",
       "         DEMO  \n",
       "0        east  \n",
       "1        east  \n",
       "2        east  \n",
       "3        east  \n",
       "4        east  \n",
       "...       ...  \n",
       "1728  central  \n",
       "1729  central  \n",
       "1730  central  \n",
       "1731  central  \n",
       "1732  central  \n",
       "\n",
       "[513705 rows x 5 columns]"
      ]
     },
     "execution_count": 21,
     "metadata": {},
     "output_type": "execute_result"
    }
   ],
   "source": [
    "df"
   ]
  },
  {
   "cell_type": "code",
   "execution_count": null,
   "id": "6a2869c4-e461-4db6-875b-15a8834908d6",
   "metadata": {},
   "outputs": [],
   "source": [
    "east_df.to_csv(\"../data/structured/TEXT/east.csv\")\n",
    "west_df.to_csv(\"../data/structured/TEXT/west.csv\")\n",
    "north_df.to_csv(\"../data/structured/TEXT/north.csv\")\n",
    "south_df.to_csv(\"../data/structured/TEXT/south.csv\")\n",
    "central_df.to_csv(\"../data/structured/TEXT/central.csv\")"
   ]
  },
  {
   "cell_type": "markdown",
   "id": "afe7dbfa-9e48-4e87-a690-45d08fb7b480",
   "metadata": {},
   "source": [
    "# Creating communities based on phone numbers"
   ]
  },
  {
   "cell_type": "code",
   "execution_count": 22,
   "id": "53f8bf29-0bcc-4371-b21d-1d1e44b55529",
   "metadata": {},
   "outputs": [],
   "source": [
    "# Using recursion to merge all sublist having common phones and finding communities.\n",
    "def to_graph(l):\n",
    "    G = networkx.Graph()\n",
    "    for part in l:\n",
    "        # each sublist is a bunch of nodes\n",
    "        G.add_nodes_from(part)\n",
    "        # it also imlies a number of edges:\n",
    "        G.add_edges_from(to_edges(part))\n",
    "    return G\n",
    "\n",
    "def to_edges(l):\n",
    "    \"\"\" \n",
    "        treat `l` as a Graph and returns it's edges \n",
    "        to_edges(['a','b','c','d']) -> [(a,b), (b,c),(c,d)]\n",
    "    \"\"\"\n",
    "    it = iter(l)\n",
    "    last = next(it)\n",
    "\n",
    "    for current in it:\n",
    "        yield last, current\n",
    "        last = current"
   ]
  },
  {
   "cell_type": "code",
   "execution_count": 23,
   "id": "668869e7-2a92-445f-adbf-bfa3afc2b771",
   "metadata": {},
   "outputs": [],
   "source": [
    "def assign_vendor_id_to_ads(data_df):\n",
    "    all_phones = [eval(phones) for phones in data_df['PHONES'].to_list()]\n",
    "    # All phone numbers should be atleast 7 digits long, any US based phone number is atleast 7 digits long \n",
    "    all_phones = [[number for number in numbers if len(number) >= 7] for numbers in all_phones]\n",
    "    all_phones = filter(None, all_phones)\n",
    "\n",
    "    graph = to_graph(all_phones)\n",
    "    communities = connected_components(graph)\n",
    "    phone_communities = [list(i) for i in communities]\n",
    "    return phone_communities"
   ]
  },
  {
   "cell_type": "code",
   "execution_count": 26,
   "id": "dea52fd3-bec9-4592-8d30-aa4bcd61be6d",
   "metadata": {},
   "outputs": [],
   "source": [
    "all_communities = assign_vendor_id_to_ads(df)"
   ]
  },
  {
   "cell_type": "code",
   "execution_count": 27,
   "id": "1364331d-1511-4d8d-8d02-22fd05474484",
   "metadata": {},
   "outputs": [],
   "source": [
    "def assign_phone_to_vendor_ids(phone_communities, df):\n",
    "    # Converting communities of community IDs\n",
    "    community_ids = {}\n",
    "\n",
    "    for index, community in enumerate(phone_communities):\n",
    "        for number in community:\n",
    "            community_ids[number] = index+1\n",
    "    \n",
    "    vendor_id_list = []\n",
    "    for index, row in df.iterrows():\n",
    "        vendor = []\n",
    "        for number in eval(row['PHONES']):\n",
    "            if number in community_ids.keys():\n",
    "                vendor.append(community_ids[number])\n",
    "            else:\n",
    "                vendor.append(0)\n",
    "                \n",
    "        vendor = Counter(vendor).most_common(1)[0][0]\n",
    "        vendor_id_list.append(vendor)\n",
    "    \n",
    "    df['VENDOR'] = vendor_id_list\n",
    "    return df"
   ]
  },
  {
   "cell_type": "code",
   "execution_count": 28,
   "id": "019ca441-bd9b-4ba9-bcac-cd9a2fd96752",
   "metadata": {},
   "outputs": [],
   "source": [
    "df = assign_phone_to_vendor_ids(all_communities, df)"
   ]
  },
  {
   "cell_type": "markdown",
   "id": "b751473c-4bd6-4544-bef3-f7ccc5c1653c",
   "metadata": {},
   "source": [
    "# Visualizing data"
   ]
  },
  {
   "cell_type": "code",
   "execution_count": 32,
   "id": "6301bc4b-1daa-41b0-9e96-2871d0c43726",
   "metadata": {},
   "outputs": [],
   "source": [
    "vendor_dict = {k:v for k,v in dict(Counter(df['VENDOR'])).items() if v>=5}"
   ]
  },
  {
   "cell_type": "code",
   "execution_count": 33,
   "id": "51b391ce-a871-4f62-a785-e01f5b216341",
   "metadata": {},
   "outputs": [],
   "source": [
    "df = df.loc[df['VENDOR'].isin(list(vendor_dict.keys()))]"
   ]
  },
  {
   "cell_type": "code",
   "execution_count": 34,
   "id": "84117db9-dd1e-4f06-bf73-3bcd3ba2a73b",
   "metadata": {},
   "outputs": [
    {
     "name": "stdout",
     "output_type": "stream",
     "text": [
      "202439 12344\n"
     ]
    }
   ],
   "source": [
    "print(df.shape[0], len(set(df.VENDOR.to_list())))"
   ]
  },
  {
   "cell_type": "markdown",
   "id": "4adf6f44-016a-4424-aea4-4a8aa49e19df",
   "metadata": {},
   "source": [
    "# Saving data into east, west, north, south, and central-american demographics"
   ]
  },
  {
   "cell_type": "code",
   "execution_count": 35,
   "id": "4a56c482-d276-42b3-8554-82ef38cf0a06",
   "metadata": {},
   "outputs": [
    {
     "data": {
      "text/plain": [
       "Index(['TEXT', 'PHONES', 'CITY', 'IMAGES', 'DEMO', 'VENDOR'], dtype='object')"
      ]
     },
     "execution_count": 35,
     "metadata": {},
     "output_type": "execute_result"
    }
   ],
   "source": [
    "df.columns"
   ]
  },
  {
   "cell_type": "code",
   "execution_count": 36,
   "id": "e478ceb9-6209-4789-9038-ac54919fa107",
   "metadata": {},
   "outputs": [],
   "source": [
    "east_df = df[df['DEMO']=='east']\n",
    "west_df = df[df['DEMO']=='west']\n",
    "north_df = df[df['DEMO']=='north']\n",
    "south_df = df[df['DEMO']=='south']\n",
    "central_df = df[df['DEMO']=='central']"
   ]
  },
  {
   "cell_type": "code",
   "execution_count": 37,
   "id": "d4ffb4b6-6bc6-4033-a200-e5c039e80a7c",
   "metadata": {},
   "outputs": [
    {
     "data": {
      "text/plain": [
       "((62254, 6), (50593, 6), (3984, 6), (45074, 6), (40534, 6))"
      ]
     },
     "execution_count": 37,
     "metadata": {},
     "output_type": "execute_result"
    }
   ],
   "source": [
    "east_df.shape, west_df.shape, north_df.shape, south_df.shape, central_df.shape"
   ]
  },
  {
   "cell_type": "code",
   "execution_count": 38,
   "id": "5d32554e-a5b0-4ff0-9d73-c28a4ed943e5",
   "metadata": {},
   "outputs": [],
   "source": [
    "east_df.to_csv(\"../data/structured/TEXT/east.csv\")\n",
    "west_df.to_csv(\"../data/structured/TEXT/west.csv\")\n",
    "north_df.to_csv(\"../data/structured/TEXT/north.csv\")\n",
    "south_df.to_csv(\"../data/structured/TEXT/south.csv\")\n",
    "central_df.to_csv(\"../data/structured/TEXT/central.csv\")"
   ]
  },
  {
   "cell_type": "markdown",
   "id": "773047bc-5db5-412e-b73b-d8fa4353c055",
   "metadata": {},
   "source": [
    "# Plotting the US plot for ads density"
   ]
  },
  {
   "cell_type": "code",
   "execution_count": 58,
   "id": "aaa9d6f1-1d9e-4d7d-895c-0b79881a44a1",
   "metadata": {
    "tags": []
   },
   "outputs": [],
   "source": [
    "east_df = pd.read_csv(\"../data/structured/TEXT/east.csv\", low_memory=False)\n",
    "west_df = pd.read_csv(\"../data/structured/TEXT/west.csv\", low_memory=False)\n",
    "north_df = pd.read_csv(\"../data/structured/TEXT/north.csv\", low_memory=False)\n",
    "south_df = pd.read_csv(\"../data/structured/TEXT/south.csv\", low_memory=False)\n",
    "central_df = pd.read_csv(\"../data/structured/TEXT/central.csv\", low_memory=False)\n",
    "\n",
    "df = pd.concat([east_df, west_df, north_df, south_df, central_df])"
   ]
  },
  {
   "cell_type": "code",
   "execution_count": 52,
   "id": "c9bddcdb-f734-4533-9d31-1377d7dda4dd",
   "metadata": {
    "tags": []
   },
   "outputs": [
    {
     "data": {
      "text/plain": [
       "Index(['Unnamed: 0', 'TEXT', 'PHONES', 'CITY', 'IMAGES', 'DEMO', 'VENDOR',\n",
       "       'STATE'],\n",
       "      dtype='object')"
      ]
     },
     "execution_count": 52,
     "metadata": {},
     "output_type": "execute_result"
    }
   ],
   "source": [
    "df.columns"
   ]
  },
  {
   "cell_type": "code",
   "execution_count": 53,
   "id": "8152456c-4cea-4e16-9317-ff4842fe3a97",
   "metadata": {
    "tags": []
   },
   "outputs": [],
   "source": [
    "import pandas as pd\n",
    "\n",
    "df_ = pd.read_csv(r'../data/state_market_tracker.tsv000', sep='\\t', usecols=['state','state_code'])\n",
    "df_['state'] = df_['state'].apply(lambda x: x.lower())"
   ]
  },
  {
   "cell_type": "code",
   "execution_count": 54,
   "id": "f6e19817-e7fb-4001-99a9-f519c920cb40",
   "metadata": {
    "tags": []
   },
   "outputs": [],
   "source": [
    "df_ = df_.set_index('state')\n",
    "df_dict = df_.to_dict()"
   ]
  },
  {
   "cell_type": "code",
   "execution_count": 57,
   "id": "b6eb4650-7f58-4299-84e5-9463469bf5c3",
   "metadata": {
    "tags": []
   },
   "outputs": [
    {
     "data": {
      "text/html": [
       "<div>\n",
       "<style scoped>\n",
       "    .dataframe tbody tr th:only-of-type {\n",
       "        vertical-align: middle;\n",
       "    }\n",
       "\n",
       "    .dataframe tbody tr th {\n",
       "        vertical-align: top;\n",
       "    }\n",
       "\n",
       "    .dataframe thead th {\n",
       "        text-align: right;\n",
       "    }\n",
       "</style>\n",
       "<table border=\"1\" class=\"dataframe\">\n",
       "  <thead>\n",
       "    <tr style=\"text-align: right;\">\n",
       "      <th></th>\n",
       "      <th>state</th>\n",
       "      <th>state_code</th>\n",
       "      <th>ads</th>\n",
       "    </tr>\n",
       "  </thead>\n",
       "  <tbody>\n",
       "    <tr>\n",
       "      <th>0</th>\n",
       "      <td>pennsylvania</td>\n",
       "      <td>NaN</td>\n",
       "      <td>NaN</td>\n",
       "    </tr>\n",
       "  </tbody>\n",
       "</table>\n",
       "</div>"
      ],
      "text/plain": [
       "          state state_code  ads\n",
       "0  pennsylvania        NaN  NaN"
      ]
     },
     "execution_count": 57,
     "metadata": {},
     "output_type": "execute_result"
    }
   ],
   "source": [
    "df"
   ]
  },
  {
   "cell_type": "code",
   "execution_count": 55,
   "id": "8212055e-35be-4e23-b797-918606d6af62",
   "metadata": {
    "tags": []
   },
   "outputs": [
    {
     "ename": "AttributeError",
     "evalue": "'DataFrame' object has no attribute 'ADS'",
     "output_type": "error",
     "traceback": [
      "\u001b[0;31m---------------------------------------------------------------------------\u001b[0m",
      "\u001b[0;31mAttributeError\u001b[0m                            Traceback (most recent call last)",
      "\u001b[0;32m/tmp/ipykernel_10270/2546351985.py\u001b[0m in \u001b[0;36m?\u001b[0;34m()\u001b[0m\n\u001b[1;32m      4\u001b[0m \u001b[0mstate_list\u001b[0m\u001b[0;34m,\u001b[0m \u001b[0mads_list\u001b[0m\u001b[0;34m,\u001b[0m \u001b[0mstate_code_list\u001b[0m \u001b[0;34m=\u001b[0m \u001b[0;34m(\u001b[0m\u001b[0;34m[\u001b[0m\u001b[0;34m]\u001b[0m \u001b[0;32mfor\u001b[0m \u001b[0mi\u001b[0m \u001b[0;32min\u001b[0m \u001b[0mrange\u001b[0m\u001b[0;34m(\u001b[0m\u001b[0;36m3\u001b[0m\u001b[0;34m)\u001b[0m\u001b[0;34m)\u001b[0m\u001b[0;34m\u001b[0m\u001b[0;34m\u001b[0m\u001b[0m\n\u001b[1;32m      5\u001b[0m \u001b[0mall_states\u001b[0m \u001b[0;34m=\u001b[0m \u001b[0mdf\u001b[0m\u001b[0;34m.\u001b[0m\u001b[0mSTATE\u001b[0m\u001b[0;34m.\u001b[0m\u001b[0munique\u001b[0m\u001b[0;34m(\u001b[0m\u001b[0;34m)\u001b[0m\u001b[0;34m\u001b[0m\u001b[0;34m\u001b[0m\u001b[0m\n\u001b[1;32m      6\u001b[0m \u001b[0;34m\u001b[0m\u001b[0m\n\u001b[0;32m----> 7\u001b[0;31m \u001b[0;32mfor\u001b[0m \u001b[0mstate\u001b[0m \u001b[0;32min\u001b[0m \u001b[0mall_states\u001b[0m\u001b[0;34m:\u001b[0m\u001b[0;34m\u001b[0m\u001b[0;34m\u001b[0m\u001b[0m\n\u001b[0m\u001b[1;32m      8\u001b[0m     \u001b[0mtemp_df\u001b[0m \u001b[0;34m=\u001b[0m \u001b[0mdf\u001b[0m\u001b[0;34m[\u001b[0m\u001b[0mdf\u001b[0m\u001b[0;34m[\u001b[0m\u001b[0;34m'STATE'\u001b[0m\u001b[0;34m]\u001b[0m\u001b[0;34m==\u001b[0m\u001b[0mstate\u001b[0m\u001b[0;34m]\u001b[0m\u001b[0;34m\u001b[0m\u001b[0;34m\u001b[0m\u001b[0m\n\u001b[1;32m      9\u001b[0m     \u001b[0mstate_list\u001b[0m\u001b[0;34m.\u001b[0m\u001b[0mappend\u001b[0m\u001b[0;34m(\u001b[0m\u001b[0mstate\u001b[0m\u001b[0;34m)\u001b[0m\u001b[0;34m\u001b[0m\u001b[0;34m\u001b[0m\u001b[0m\n\u001b[1;32m     10\u001b[0m     \u001b[0mads_list\u001b[0m\u001b[0;34m.\u001b[0m\u001b[0mappend\u001b[0m\u001b[0;34m(\u001b[0m\u001b[0mtemp_df\u001b[0m\u001b[0;34m.\u001b[0m\u001b[0mADS\u001b[0m\u001b[0;34m.\u001b[0m\u001b[0msum\u001b[0m\u001b[0;34m(\u001b[0m\u001b[0;34m)\u001b[0m\u001b[0;34m)\u001b[0m\u001b[0;34m\u001b[0m\u001b[0;34m\u001b[0m\u001b[0m\n",
      "\u001b[0;32m~/miniconda3/envs/HT/lib/python3.9/site-packages/pandas/core/generic.py\u001b[0m in \u001b[0;36m?\u001b[0;34m(self, name)\u001b[0m\n\u001b[1;32m   5579\u001b[0m             \u001b[0;32mand\u001b[0m \u001b[0mname\u001b[0m \u001b[0;32mnot\u001b[0m \u001b[0;32min\u001b[0m \u001b[0mself\u001b[0m\u001b[0;34m.\u001b[0m\u001b[0m_accessors\u001b[0m\u001b[0;34m\u001b[0m\u001b[0;34m\u001b[0m\u001b[0m\n\u001b[1;32m   5580\u001b[0m             \u001b[0;32mand\u001b[0m \u001b[0mself\u001b[0m\u001b[0;34m.\u001b[0m\u001b[0m_info_axis\u001b[0m\u001b[0;34m.\u001b[0m\u001b[0m_can_hold_identifiers_and_holds_name\u001b[0m\u001b[0;34m(\u001b[0m\u001b[0mname\u001b[0m\u001b[0;34m)\u001b[0m\u001b[0;34m\u001b[0m\u001b[0;34m\u001b[0m\u001b[0m\n\u001b[1;32m   5581\u001b[0m         ):\n\u001b[1;32m   5582\u001b[0m             \u001b[0;32mreturn\u001b[0m \u001b[0mself\u001b[0m\u001b[0;34m[\u001b[0m\u001b[0mname\u001b[0m\u001b[0;34m]\u001b[0m\u001b[0;34m\u001b[0m\u001b[0;34m\u001b[0m\u001b[0m\n\u001b[0;32m-> 5583\u001b[0;31m         \u001b[0;32mreturn\u001b[0m \u001b[0mobject\u001b[0m\u001b[0;34m.\u001b[0m\u001b[0m__getattribute__\u001b[0m\u001b[0;34m(\u001b[0m\u001b[0mself\u001b[0m\u001b[0;34m,\u001b[0m \u001b[0mname\u001b[0m\u001b[0;34m)\u001b[0m\u001b[0;34m\u001b[0m\u001b[0;34m\u001b[0m\u001b[0m\n\u001b[0m",
      "\u001b[0;31mAttributeError\u001b[0m: 'DataFrame' object has no attribute 'ADS'"
     ]
    }
   ],
   "source": [
    "state_list, ads_list, state_code_list = ([] for i in range(3))\n",
    "all_states = df.STATE.unique()\n",
    "\n",
    "for state in all_states:\n",
    "    temp_df = df[df['STATE']==state]\n",
    "    state_list.append(state)\n",
    "    ads_list.append(temp_df.ADS.sum())\n",
    "    state_code_list.append(df_dict['state_code'][state])"
   ]
  },
  {
   "cell_type": "code",
   "execution_count": 56,
   "id": "108ea36f-2d7b-459f-aebd-7b1b56dea912",
   "metadata": {
    "tags": []
   },
   "outputs": [
    {
     "ename": "ValueError",
     "evalue": "Length of values (0) does not match length of index (1)",
     "output_type": "error",
     "traceback": [
      "\u001b[0;31m---------------------------------------------------------------------------\u001b[0m",
      "\u001b[0;31mValueError\u001b[0m                                Traceback (most recent call last)",
      "Cell \u001b[0;32mIn[56], line 3\u001b[0m\n\u001b[1;32m      1\u001b[0m df \u001b[38;5;241m=\u001b[39m pd\u001b[38;5;241m.\u001b[39mDataFrame(columns\u001b[38;5;241m=\u001b[39m[\u001b[38;5;124m'\u001b[39m\u001b[38;5;124mstate\u001b[39m\u001b[38;5;124m'\u001b[39m,\u001b[38;5;124m'\u001b[39m\u001b[38;5;124mstate_code\u001b[39m\u001b[38;5;124m'\u001b[39m,\u001b[38;5;124m'\u001b[39m\u001b[38;5;124mads\u001b[39m\u001b[38;5;124m'\u001b[39m])\n\u001b[1;32m      2\u001b[0m df[\u001b[38;5;124m'\u001b[39m\u001b[38;5;124mstate\u001b[39m\u001b[38;5;124m'\u001b[39m] \u001b[38;5;241m=\u001b[39m state_list\n\u001b[0;32m----> 3\u001b[0m \u001b[43mdf\u001b[49m\u001b[43m[\u001b[49m\u001b[38;5;124;43m'\u001b[39;49m\u001b[38;5;124;43mstate_code\u001b[39;49m\u001b[38;5;124;43m'\u001b[39;49m\u001b[43m]\u001b[49m \u001b[38;5;241m=\u001b[39m state_code_list\n\u001b[1;32m      4\u001b[0m df[\u001b[38;5;124m'\u001b[39m\u001b[38;5;124mads\u001b[39m\u001b[38;5;124m'\u001b[39m] \u001b[38;5;241m=\u001b[39m ads_list\n",
      "File \u001b[0;32m~/miniconda3/envs/HT/lib/python3.9/site-packages/pandas/core/frame.py:3656\u001b[0m, in \u001b[0;36mDataFrame.__setitem__\u001b[0;34m(self, key, value)\u001b[0m\n\u001b[1;32m   3653\u001b[0m     \u001b[38;5;28mself\u001b[39m\u001b[38;5;241m.\u001b[39m_setitem_array([key], value)\n\u001b[1;32m   3654\u001b[0m \u001b[38;5;28;01melse\u001b[39;00m:\n\u001b[1;32m   3655\u001b[0m     \u001b[38;5;66;03m# set column\u001b[39;00m\n\u001b[0;32m-> 3656\u001b[0m     \u001b[38;5;28;43mself\u001b[39;49m\u001b[38;5;241;43m.\u001b[39;49m\u001b[43m_set_item\u001b[49m\u001b[43m(\u001b[49m\u001b[43mkey\u001b[49m\u001b[43m,\u001b[49m\u001b[43m \u001b[49m\u001b[43mvalue\u001b[49m\u001b[43m)\u001b[49m\n",
      "File \u001b[0;32m~/miniconda3/envs/HT/lib/python3.9/site-packages/pandas/core/frame.py:3833\u001b[0m, in \u001b[0;36mDataFrame._set_item\u001b[0;34m(self, key, value)\u001b[0m\n\u001b[1;32m   3823\u001b[0m \u001b[38;5;28;01mdef\u001b[39;00m \u001b[38;5;21m_set_item\u001b[39m(\u001b[38;5;28mself\u001b[39m, key, value) \u001b[38;5;241m-\u001b[39m\u001b[38;5;241m>\u001b[39m \u001b[38;5;28;01mNone\u001b[39;00m:\n\u001b[1;32m   3824\u001b[0m \u001b[38;5;250m    \u001b[39m\u001b[38;5;124;03m\"\"\"\u001b[39;00m\n\u001b[1;32m   3825\u001b[0m \u001b[38;5;124;03m    Add series to DataFrame in specified column.\u001b[39;00m\n\u001b[1;32m   3826\u001b[0m \n\u001b[0;32m   (...)\u001b[0m\n\u001b[1;32m   3831\u001b[0m \u001b[38;5;124;03m    ensure homogeneity.\u001b[39;00m\n\u001b[1;32m   3832\u001b[0m \u001b[38;5;124;03m    \"\"\"\u001b[39;00m\n\u001b[0;32m-> 3833\u001b[0m     value \u001b[38;5;241m=\u001b[39m \u001b[38;5;28;43mself\u001b[39;49m\u001b[38;5;241;43m.\u001b[39;49m\u001b[43m_sanitize_column\u001b[49m\u001b[43m(\u001b[49m\u001b[43mvalue\u001b[49m\u001b[43m)\u001b[49m\n\u001b[1;32m   3835\u001b[0m     \u001b[38;5;28;01mif\u001b[39;00m (\n\u001b[1;32m   3836\u001b[0m         key \u001b[38;5;129;01min\u001b[39;00m \u001b[38;5;28mself\u001b[39m\u001b[38;5;241m.\u001b[39mcolumns\n\u001b[1;32m   3837\u001b[0m         \u001b[38;5;129;01mand\u001b[39;00m value\u001b[38;5;241m.\u001b[39mndim \u001b[38;5;241m==\u001b[39m \u001b[38;5;241m1\u001b[39m\n\u001b[1;32m   3838\u001b[0m         \u001b[38;5;129;01mand\u001b[39;00m \u001b[38;5;129;01mnot\u001b[39;00m is_extension_array_dtype(value)\n\u001b[1;32m   3839\u001b[0m     ):\n\u001b[1;32m   3840\u001b[0m         \u001b[38;5;66;03m# broadcast across multiple columns if necessary\u001b[39;00m\n\u001b[1;32m   3841\u001b[0m         \u001b[38;5;28;01mif\u001b[39;00m \u001b[38;5;129;01mnot\u001b[39;00m \u001b[38;5;28mself\u001b[39m\u001b[38;5;241m.\u001b[39mcolumns\u001b[38;5;241m.\u001b[39mis_unique \u001b[38;5;129;01mor\u001b[39;00m \u001b[38;5;28misinstance\u001b[39m(\u001b[38;5;28mself\u001b[39m\u001b[38;5;241m.\u001b[39mcolumns, MultiIndex):\n",
      "File \u001b[0;32m~/miniconda3/envs/HT/lib/python3.9/site-packages/pandas/core/frame.py:4537\u001b[0m, in \u001b[0;36mDataFrame._sanitize_column\u001b[0;34m(self, value)\u001b[0m\n\u001b[1;32m   4534\u001b[0m     \u001b[38;5;28;01mreturn\u001b[39;00m _reindex_for_setitem(value, \u001b[38;5;28mself\u001b[39m\u001b[38;5;241m.\u001b[39mindex)\n\u001b[1;32m   4536\u001b[0m \u001b[38;5;28;01mif\u001b[39;00m is_list_like(value):\n\u001b[0;32m-> 4537\u001b[0m     \u001b[43mcom\u001b[49m\u001b[38;5;241;43m.\u001b[39;49m\u001b[43mrequire_length_match\u001b[49m\u001b[43m(\u001b[49m\u001b[43mvalue\u001b[49m\u001b[43m,\u001b[49m\u001b[43m \u001b[49m\u001b[38;5;28;43mself\u001b[39;49m\u001b[38;5;241;43m.\u001b[39;49m\u001b[43mindex\u001b[49m\u001b[43m)\u001b[49m\n\u001b[1;32m   4538\u001b[0m \u001b[38;5;28;01mreturn\u001b[39;00m sanitize_array(value, \u001b[38;5;28mself\u001b[39m\u001b[38;5;241m.\u001b[39mindex, copy\u001b[38;5;241m=\u001b[39m\u001b[38;5;28;01mTrue\u001b[39;00m, allow_2d\u001b[38;5;241m=\u001b[39m\u001b[38;5;28;01mTrue\u001b[39;00m)\n",
      "File \u001b[0;32m~/miniconda3/envs/HT/lib/python3.9/site-packages/pandas/core/common.py:557\u001b[0m, in \u001b[0;36mrequire_length_match\u001b[0;34m(data, index)\u001b[0m\n\u001b[1;32m    553\u001b[0m \u001b[38;5;250m\u001b[39m\u001b[38;5;124;03m\"\"\"\u001b[39;00m\n\u001b[1;32m    554\u001b[0m \u001b[38;5;124;03mCheck the length of data matches the length of the index.\u001b[39;00m\n\u001b[1;32m    555\u001b[0m \u001b[38;5;124;03m\"\"\"\u001b[39;00m\n\u001b[1;32m    556\u001b[0m \u001b[38;5;28;01mif\u001b[39;00m \u001b[38;5;28mlen\u001b[39m(data) \u001b[38;5;241m!=\u001b[39m \u001b[38;5;28mlen\u001b[39m(index):\n\u001b[0;32m--> 557\u001b[0m     \u001b[38;5;28;01mraise\u001b[39;00m \u001b[38;5;167;01mValueError\u001b[39;00m(\n\u001b[1;32m    558\u001b[0m         \u001b[38;5;124m\"\u001b[39m\u001b[38;5;124mLength of values \u001b[39m\u001b[38;5;124m\"\u001b[39m\n\u001b[1;32m    559\u001b[0m         \u001b[38;5;124mf\u001b[39m\u001b[38;5;124m\"\u001b[39m\u001b[38;5;124m(\u001b[39m\u001b[38;5;132;01m{\u001b[39;00m\u001b[38;5;28mlen\u001b[39m(data)\u001b[38;5;132;01m}\u001b[39;00m\u001b[38;5;124m) \u001b[39m\u001b[38;5;124m\"\u001b[39m\n\u001b[1;32m    560\u001b[0m         \u001b[38;5;124m\"\u001b[39m\u001b[38;5;124mdoes not match length of index \u001b[39m\u001b[38;5;124m\"\u001b[39m\n\u001b[1;32m    561\u001b[0m         \u001b[38;5;124mf\u001b[39m\u001b[38;5;124m\"\u001b[39m\u001b[38;5;124m(\u001b[39m\u001b[38;5;132;01m{\u001b[39;00m\u001b[38;5;28mlen\u001b[39m(index)\u001b[38;5;132;01m}\u001b[39;00m\u001b[38;5;124m)\u001b[39m\u001b[38;5;124m\"\u001b[39m\n\u001b[1;32m    562\u001b[0m     )\n",
      "\u001b[0;31mValueError\u001b[0m: Length of values (0) does not match length of index (1)"
     ]
    }
   ],
   "source": [
    "df = pd.DataFrame(columns=['state','state_code','ads'])\n",
    "df['state'] = state_list\n",
    "df['state_code'] = state_code_list\n",
    "df['ads'] = ads_list"
   ]
  },
  {
   "cell_type": "code",
   "execution_count": 31,
   "id": "6659dc5e-bf00-4972-9995-49978f7d31aa",
   "metadata": {
    "tags": []
   },
   "outputs": [],
   "source": [
    "import plotly.io as pio\n",
    "pio.renderers.default = 'iframe'"
   ]
  },
  {
   "cell_type": "code",
   "execution_count": 34,
   "id": "d6391849-d910-46ee-beed-7d003e04a88d",
   "metadata": {
    "tags": []
   },
   "outputs": [
    {
     "data": {
      "text/html": [
       "<iframe\n",
       "    scrolling=\"no\"\n",
       "    width=\"100%\"\n",
       "    height=\"545px\"\n",
       "    src=\"iframe_figures/figure_34.html\"\n",
       "    frameborder=\"0\"\n",
       "    allowfullscreen\n",
       "></iframe>\n"
      ]
     },
     "metadata": {},
     "output_type": "display_data"
    }
   ],
   "source": [
    "import plotly.express as px\n",
    "\n",
    "fig = px.choropleth(df,\n",
    "                    locations='state_code', \n",
    "                    locationmode=\"USA-states\", \n",
    "                    scope=\"usa\",\n",
    "                    color='ads',\n",
    "                    color_continuous_scale=\"Reds\", \n",
    "                    )\n",
    "fig.show()"
   ]
  },
  {
   "cell_type": "code",
   "execution_count": null,
   "id": "8c7352b6-09ce-40aa-8805-3cf5765140f6",
   "metadata": {},
   "outputs": [],
   "source": []
  }
 ],
 "metadata": {
  "kernelspec": {
   "display_name": "HT",
   "language": "python",
   "name": "ht"
  },
  "language_info": {
   "codemirror_mode": {
    "name": "ipython",
    "version": 3
   },
   "file_extension": ".py",
   "mimetype": "text/x-python",
   "name": "python",
   "nbconvert_exporter": "python",
   "pygments_lexer": "ipython3",
   "version": "3.9.16"
  }
 },
 "nbformat": 4,
 "nbformat_minor": 5
}
