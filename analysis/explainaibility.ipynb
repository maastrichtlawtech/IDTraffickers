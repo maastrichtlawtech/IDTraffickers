{
 "cells": [
  {
   "cell_type": "markdown",
   "id": "2a379493-752c-4fc2-92ff-e245948e557e",
   "metadata": {
    "tags": []
   },
   "source": [
    "# Importing Libraries"
   ]
  },
  {
   "cell_type": "code",
   "execution_count": 1,
   "id": "0003b89c-ed8f-45f1-a17a-5079bf0f4b47",
   "metadata": {
    "tags": []
   },
   "outputs": [
    {
     "name": "stderr",
     "output_type": "stream",
     "text": [
      "/root/miniconda3/envs/HT/lib/python3.9/site-packages/tqdm/auto.py:21: TqdmWarning: IProgress not found. Please update jupyter and ipywidgets. See https://ipywidgets.readthedocs.io/en/stable/user_install.html\n",
      "  from .autonotebook import tqdm as notebook_tqdm\n"
     ]
    }
   ],
   "source": [
    "import os\n",
    "import sys\n",
    "import pickle\n",
    "import argparse\n",
    "import time\n",
    "import datetime\n",
    "import random\n",
    "from pathlib import Path\n",
    "\n",
    "from collections import OrderedDict\n",
    "\n",
    "from sklearn.model_selection import train_test_split\n",
    "\n",
    "import pandas as pd\n",
    "import numpy as np\n",
    "from tqdm import tqdm\n",
    "\n",
    "import torch\n",
    "from torch.utils.data import DataLoader, Dataset, RandomSampler, random_split, TensorDataset\n",
    "\n",
    "from pytorch_lightning.loggers import WandbLogger\n",
    "\n",
    "import lightning as L\n",
    "import lightning.pytorch as pl\n",
    "from lightning.pytorch import Trainer, seed_everything\n",
    "from lightning.pytorch.tuner.tuning import Tuner\n",
    "from lightning.pytorch.callbacks import ModelCheckpoint\n",
    "from lightning.pytorch.callbacks.early_stopping import EarlyStopping\n",
    "from lightning.pytorch.strategies import DeepSpeedStrategy\n",
    "from lightning.pytorch.plugins.precision import DeepSpeedPrecisionPlugin\n",
    "\n",
    "# Custom library\n",
    "sys.path.append('../process/')\n",
    "from loadData import HTClassifierDataModule\n",
    "\n",
    "sys.path.append('../architectures/')\n",
    "from HTClassifier import HTClassifierModel\n",
    "from HTTransferClassifier import HTTransferClassifierModel"
   ]
  },
  {
   "cell_type": "code",
   "execution_count": 2,
   "id": "7925fa61-fb63-45b4-8c4c-a0f9929aca2e",
   "metadata": {
    "tags": []
   },
   "outputs": [],
   "source": [
    "import os\n",
    "\n",
    "import numpy as np\n",
    "from itertools import product\n",
    "\n",
    "from collections import Counter\n",
    "from tqdm import tqdm\n",
    "import numpy as np\n",
    "\n",
    "import torch\n",
    "import faiss"
   ]
  },
  {
   "cell_type": "code",
   "execution_count": 3,
   "id": "4ac4bdeb-3187-452a-83af-a5d0e1bba032",
   "metadata": {
    "tags": []
   },
   "outputs": [],
   "source": [
    "os.environ[\"TOKENIZERS_PARALLELISM\"] = \"false\""
   ]
  },
  {
   "cell_type": "markdown",
   "id": "1134c390-6964-4a87-aeb9-b802c7168bd9",
   "metadata": {},
   "source": [
    "# Loading data"
   ]
  },
  {
   "cell_type": "code",
   "execution_count": 4,
   "id": "3044a100-d828-4b46-9d32-f563f08cd981",
   "metadata": {
    "tags": []
   },
   "outputs": [
    {
     "name": "stderr",
     "output_type": "stream",
     "text": [
      "Global seed set to 1111\n"
     ]
    },
    {
     "data": {
      "text/plain": [
       "1111"
      ]
     },
     "execution_count": 4,
     "metadata": {},
     "output_type": "execute_result"
    }
   ],
   "source": [
    "class Arguments():\n",
    "    def __init__(self):\n",
    "        self.model_name_or_path = 'johngiorgi/declutr-small'\n",
    "        self.tokenizer_name_or_path = 'johngiorgi/declutr-small'\n",
    "        self.data_dir = \"../data/processed/TEXT/\"\n",
    "        self.demography = \"merged\"\n",
    "        self.temp = 0.07 # Temperature for softmax\n",
    "        self.max_seq_length = 512\n",
    "        self.learning_rate = 3e-5 \n",
    "        self.adam_epsilon = 1e-6\n",
    "        self.warmup_steps = 0\n",
    "        self.dropout = 0.3\n",
    "        self.weight_decay = 0.01\n",
    "        self.num_train_epochs = 1\n",
    "        self.gradient_accumulation_steps = 4\n",
    "        self.pad_to_max_length = True\n",
    "        self.batch_size = 32\n",
    "        self.output_dir = '../models/text-classifier-baselines/'\n",
    "        self.overwrite = True\n",
    "        self.local_rank = -1\n",
    "        self.no_cuda = False\n",
    "\n",
    "args = Arguments()\n",
    "\n",
    "seed_everything(1111)"
   ]
  },
  {
   "cell_type": "code",
   "execution_count": 5,
   "id": "42de664f-46b1-4120-a993-e0f69551c035",
   "metadata": {
    "tags": []
   },
   "outputs": [
    {
     "name": "stderr",
     "output_type": "stream",
     "text": [
      "../process/loadData.py:179: FutureWarning: The error_bad_lines argument has been deprecated and will be removed in a future version. Use on_bad_lines in the future.\n",
      "\n",
      "\n",
      "  data_df = pd.read_csv(os.path.join(self.args.data_dir, self.args.demography + '.csv'), error_bad_lines=False, warn_bad_lines=False)\n",
      "../process/loadData.py:179: FutureWarning: The warn_bad_lines argument has been deprecated and will be removed in a future version. Use on_bad_lines in the future.\n",
      "\n",
      "\n",
      "  data_df = pd.read_csv(os.path.join(self.args.data_dir, self.args.demography + '.csv'), error_bad_lines=False, warn_bad_lines=False)\n"
     ]
    }
   ],
   "source": [
    "dm = HTClassifierDataModule(args)\n",
    "dm.setup()"
   ]
  },
  {
   "cell_type": "code",
   "execution_count": 6,
   "id": "80fc66c1-79a6-4376-bae5-3adbf7fa46a6",
   "metadata": {
    "tags": []
   },
   "outputs": [
    {
     "name": "stderr",
     "output_type": "stream",
     "text": [
      "/tmp/ipykernel_12190/4083842773.py:1: FutureWarning: The error_bad_lines argument has been deprecated and will be removed in a future version. Use on_bad_lines in the future.\n",
      "\n",
      "\n",
      "  args.num_classes = pd.read_csv(os.path.join(args.data_dir, args.demography + '.csv'), error_bad_lines=False, warn_bad_lines=False).VENDOR.nunique()\n",
      "/tmp/ipykernel_12190/4083842773.py:1: FutureWarning: The warn_bad_lines argument has been deprecated and will be removed in a future version. Use on_bad_lines in the future.\n",
      "\n",
      "\n",
      "  args.num_classes = pd.read_csv(os.path.join(args.data_dir, args.demography + '.csv'), error_bad_lines=False, warn_bad_lines=False).VENDOR.nunique()\n"
     ]
    }
   ],
   "source": [
    "args.num_classes = pd.read_csv(os.path.join(args.data_dir, args.demography + '.csv'), error_bad_lines=False, warn_bad_lines=False).VENDOR.nunique()\n",
    "\n",
    "args.num_training_steps = len(dm.train_dataloader()) * 2\n",
    "# Setting the warmup steps to 1/10th the size of training data\n",
    "args.warmup_steps = int(len(dm.train_dataloader()) * 10/100)"
   ]
  },
  {
   "cell_type": "markdown",
   "id": "08137c01-a5c2-4aaa-a563-2c0485bdec85",
   "metadata": {},
   "source": [
    "# Model Architecture"
   ]
  },
  {
   "cell_type": "code",
   "execution_count": 7,
   "id": "7ca32cf1-afc5-4333-9143-d23c51b6dd3d",
   "metadata": {
    "tags": []
   },
   "outputs": [],
   "source": [
    "\"\"\"\n",
    "Python version: 3.9\n",
    "Description: Contains model architecture of transformer-based NNs for performing multi-class classification on the Backpage advertisements.\n",
    "\"\"\"\n",
    "\n",
    "# %% Importing libraries\n",
    "from sklearn.metrics import f1_score, balanced_accuracy_score\n",
    "\n",
    "import torch\n",
    "import lightning.pytorch as pl\n",
    "\n",
    "from deepspeed.ops.adam import DeepSpeedCPUAdam\n",
    "\n",
    "from transformers import AdamW, get_linear_schedule_with_warmup\n",
    "from transformers import AutoTokenizer, AutoConfig, AutoModelForSequenceClassification\n",
    "\n",
    "import t5_encoder\n",
    "\n",
    "class HTClassifierModel(pl.LightningModule):\n",
    "    def __init__(self, *args, **kwargs):\n",
    "        super().__init__()\n",
    "        \n",
    "        self.save_hyperparameters()\n",
    "        if isinstance(args, tuple) and len(args) > 0: \n",
    "            self.args = args[0]\n",
    "            self.hparams.learning_rate = self.args.learning_rate\n",
    "            self.hparams.eps = self.args.adam_epsilon\n",
    "            self.hparams.weight_decay = self.args.weight_decay\n",
    "            self.hparams.model_name_or_path = self.args.model_name_or_path\n",
    "            self.hparams.num_classes = self.args.num_classes\n",
    "            self.hparams.num_training_steps = self.args.num_training_steps\n",
    "            self.hparams.warmup_steps = self.args.warmup_steps\n",
    "        \n",
    "        # freeze\n",
    "        self._frozen = False\n",
    "\n",
    "        # Handling the padding token in distilgpt2 by substituting it with eos_token_id\n",
    "        if self.hparams.model_name_or_path == \"distilgpt2\":\n",
    "            config = AutoConfig.from_pretrained(self.hparams.model_name_or_path, num_labels=self.hparams.num_classes, output_attentions=True, output_hidden_states=True)\n",
    "            self.model = AutoModelForSequenceClassification.from_pretrained(self.hparams.model_name_or_path, config=config)\n",
    "            self.model.config.pad_token_id = self.model.config.eos_token_id\n",
    "        else:\n",
    "            config = AutoConfig.from_pretrained(self.hparams.model_name_or_path, num_labels=self.hparams.num_classes, output_attentions=True, output_hidden_states=True)\n",
    "            self.model = AutoModelForSequenceClassification.from_pretrained(self.hparams.model_name_or_path, config=config)\n",
    "\n",
    "    def forward(self, batch):\n",
    "        # The batch contains the input_ids, the input_put_mask and the labels (for training)\n",
    "        input_ids = batch[0]\n",
    "        input_mask = batch[1]\n",
    "        labels = batch[2]\n",
    "\n",
    "        outputs = self.model(input_ids, attention_mask=input_mask, labels=labels)\n",
    "        loss = outputs[0]\n",
    "        logits = outputs[1]\n",
    "\n",
    "        return outputs, loss, logits, labels\n",
    "\n",
    "    def training_step(self, batch, batch_nb):\n",
    "        # the training step is a (virtual) method,specified in the interface, that the pl.LightningModule\n",
    "        # class stipulates you to overwrite. This we do here, by virtue of this definition\n",
    "        outputs = self(batch)  # self refers to the model, which in turn acceses the forward method\n",
    "        train_loss = outputs[0]\n",
    "        self.log_dict({\"train_loss\": train_loss, \"learning_rate\":self.hparams.learning_rate}, on_step=False, on_epoch=True, prog_bar=True, logger=True)\n",
    "        return train_loss\n",
    "        # the training_step method expects a dictionary, which should at least contain the loss\n",
    "\n",
    "    def validation_step(self, batch, batch_nb):\n",
    "        # the training step is a (virtual) method,specified in the interface, that the pl.LightningModule\n",
    "        # class  wants you to overwrite, in case you want to do validation. This we do here, by virtue of this definition.\n",
    "\n",
    "        outputs = self(batch)\n",
    "        # self refers to the model, which in turn accesses the forward method\n",
    "\n",
    "        # Apart from the validation loss, we also want to track validation accuracy  to get an idea, what the\n",
    "        # model training has achieved \"in real terms\".\n",
    "        val_loss = outputs[0]\n",
    "        logits = outputs[1]\n",
    "        labels = batch[2]\n",
    "\n",
    "        # Evaluating the performance\n",
    "        predictions = torch.argmax(logits, dim=1)\n",
    "        balanced_accuracy = balanced_accuracy_score(labels.detach().cpu().numpy(), predictions.detach().cpu().numpy(), adjusted=True)\n",
    "        macro_accuracy = f1_score(labels.detach().cpu().numpy(), predictions.detach().cpu().numpy(), average='macro')\n",
    "        micro_accuracy = f1_score(labels.detach().cpu().numpy(), predictions.detach().cpu().numpy(), average='micro')\n",
    "        weighted_accuracy = f1_score(labels.detach().cpu().numpy(), predictions.detach().cpu().numpy(), average='weighted')\n",
    "        \n",
    "        self.log_dict({\"val_loss\": val_loss, 'accuracy': balanced_accuracy, 'macro-F1': macro_accuracy, 'micro-F1': micro_accuracy, 'weighted-F1':weighted_accuracy}, \n",
    "                      on_step=False, on_epoch=True, prog_bar=True, logger=True)\n",
    "        return val_loss\n",
    "    \n",
    "    def test_step(self, batch, batch_nb):\n",
    "        # the training step is a (virtual) method,specified in the interface, that the pl.LightningModule\n",
    "        # class  wants you to overwrite, in case you want to do test. This we do here, by virtue of this definition.\n",
    "\n",
    "        outputs = self(batch)\n",
    "        # self refers to the model, which in turn accesses the forward method\n",
    "\n",
    "        # Apart from the validation loss, we also want to track validation accuracy  to get an idea, what the\n",
    "        # model training has achieved \"in real terms\".\n",
    "        test_loss = outputs[0]\n",
    "        logits = outputs[1]\n",
    "        labels = batch[2]\n",
    "\n",
    "        # Evaluating the performance\n",
    "        predictions = torch.argmax(logits, dim=1)\n",
    "        balanced_accuracy = balanced_accuracy_score(labels.detach().cpu().numpy(), predictions.detach().cpu().numpy(), adjusted=True)\n",
    "        macro_accuracy = f1_score(labels.detach().cpu().numpy(), predictions.detach().cpu().numpy(), average='macro')\n",
    "        micro_accuracy = f1_score(labels.detach().cpu().numpy(), predictions.detach().cpu().numpy(), average='micro')\n",
    "        weighted_accuracy = f1_score(labels.detach().cpu().numpy(), predictions.detach().cpu().numpy(), average='weighted')\n",
    "        \n",
    "        self.log_dict({\"test_loss\": test_loss, 'accuracy': balanced_accuracy, 'macro-F1': macro_accuracy, 'micro-F1': micro_accuracy, 'weighted-F1':weighted_accuracy}, \n",
    "                      on_step=True, on_epoch=True, prog_bar=True, logger=True)\n",
    "    \n",
    "    def predict_step(self, batch, batch_nb):\n",
    "        # the training step is a (virtual) method,specified in the interface, that the pl.LightningModule\n",
    "        # class  wants you to overwrite, in case you want to do validation. This we do here, by virtue of this definition.\n",
    "\n",
    "        outputs = self(batch)\n",
    "        # self refers to the model, which in turn accesses the forward method\n",
    "\n",
    "        # Apart from the validation loss, we also want to track validation accuracy  to get an idea, what the\n",
    "        # model training has achieved \"in real terms\".\n",
    "        val_loss = outputs[0]\n",
    "        logits = outputs[1]\n",
    "        labels = batch[2]\n",
    "\n",
    "        predictions = torch.argmax(logits, dim=1)\n",
    "        return predictions.detach().cpu().numpy()\n",
    "\n",
    "    def configure_optimizers(self):\n",
    "        # The configure_optimizers is a (virtual) method, specified in the interface, that the\n",
    "        # pl.LightningModule class wants you to overwrite.\n",
    "\n",
    "        # In this case we define that some parameters are optimized in a different way than others. In\n",
    "        # particular we single out parameters that have 'bias', 'LayerNorm.weight' in their names. For those\n",
    "        # we do not use an optimization technique called weight decay.\n",
    "\n",
    "        no_decay = ['bias', 'LayerNorm.weight']\n",
    "\n",
    "        optimizer_grouped_parameters = [{'params': [p for n, p in self.named_parameters() if not any(nd in n for nd in no_decay)], 'weight_decay':self.hparams.weight_decay}, \n",
    "                                        {'params': [p for n, p in self.named_parameters() if any(nd in n for nd in no_decay)], 'weight_decay': 0.0}]\n",
    "        # optimizer = AdamW(optimizer_grouped_parameters, lr=self.hparams.learning_rate, eps=self.hparams.eps)\n",
    "        optimizer = DeepSpeedCPUAdam(optimizer_grouped_parameters, adamw_mode=True, lr=self.hparams.learning_rate, betas=(0.9, 0.999), eps=self.hparams.eps)\n",
    "\n",
    "        # We also use a scheduler that is supplied by transformers.\n",
    "        scheduler = get_linear_schedule_with_warmup(optimizer, num_warmup_steps=self.hparams.warmup_steps, num_training_steps=self.hparams.num_training_steps)\n",
    "        scheduler = {\"scheduler\": scheduler, \"interval\": \"step\", \"frequency\": 1}\n",
    "\n",
    "        return [optimizer], [scheduler]\n",
    "\n",
    "    def freeze(self) -> None:\n",
    "        # freeze all layers, except the final classifier layers\n",
    "        for name, param in self.model.named_parameters():\n",
    "            if 'classifier' not in name:  # classifier layer\n",
    "                param.requires_grad = False\n",
    "\n",
    "        self._frozen = True\n",
    "\n",
    "    def unfreeze(self) -> None:\n",
    "        if self._frozen:\n",
    "            for name, param in self.model.named_parameters():\n",
    "                if 'classifier' not in name:  # classifier layer\n",
    "                    param.requires_grad = True\n",
    "\n",
    "        self._frozen = False\n",
    "\n",
    "    def train_epoch_start(self):\n",
    "        \"\"\"pytorch lightning hook\"\"\"\n",
    "        if self.current_epoch < self.hparams.nr_frozen_epochs:\n",
    "            self.freeze()\n",
    "\n",
    "        if self.current_epoch >= self.hparams.nr_frozen_epochs:\n",
    "            self.unfreeze() "
   ]
  },
  {
   "cell_type": "code",
   "execution_count": 8,
   "id": "84506edd-55ab-40f9-8b4d-bde1976e417c",
   "metadata": {
    "tags": []
   },
   "outputs": [
    {
     "name": "stderr",
     "output_type": "stream",
     "text": [
      "Some weights of the model checkpoint at johngiorgi/declutr-small were not used when initializing RobertaForSequenceClassification: ['lm_head.decoder.weight', 'lm_head.decoder.bias', 'lm_head.dense.bias', 'lm_head.dense.weight', 'lm_head.layer_norm.bias', 'lm_head.bias', 'roberta.pooler.dense.weight', 'roberta.pooler.dense.bias', 'lm_head.layer_norm.weight']\n",
      "- This IS expected if you are initializing RobertaForSequenceClassification from the checkpoint of a model trained on another task or with another architecture (e.g. initializing a BertForSequenceClassification model from a BertForPreTraining model).\n",
      "- This IS NOT expected if you are initializing RobertaForSequenceClassification from the checkpoint of a model that you expect to be exactly identical (initializing a BertForSequenceClassification model from a BertForSequenceClassification model).\n",
      "Some weights of RobertaForSequenceClassification were not initialized from the model checkpoint at johngiorgi/declutr-small and are newly initialized: ['classifier.dense.weight', 'classifier.out_proj.weight', 'classifier.dense.bias', 'classifier.out_proj.bias']\n",
      "You should probably TRAIN this model on a down-stream task to be able to use it for predictions and inference.\n",
      "Some weights of the model checkpoint at AnnaWegmann/Style-Embedding were not used when initializing RobertaForSequenceClassification: ['pooler.dense.bias', 'pooler.dense.weight']\n",
      "- This IS expected if you are initializing RobertaForSequenceClassification from the checkpoint of a model trained on another task or with another architecture (e.g. initializing a BertForSequenceClassification model from a BertForPreTraining model).\n",
      "- This IS NOT expected if you are initializing RobertaForSequenceClassification from the checkpoint of a model that you expect to be exactly identical (initializing a BertForSequenceClassification model from a BertForSequenceClassification model).\n",
      "Some weights of RobertaForSequenceClassification were not initialized from the model checkpoint at AnnaWegmann/Style-Embedding and are newly initialized: ['classifier.dense.weight', 'classifier.out_proj.weight', 'classifier.dense.bias', 'classifier.out_proj.bias']\n",
      "You should probably TRAIN this model on a down-stream task to be able to use it for predictions and inference.\n"
     ]
    }
   ],
   "source": [
    "model = HTClassifierModel(args).load_from_checkpoint(\"/workspace/persistent/human-trafficking/models/text-classifier-baselines/seed:1111/merged/Style-Embedding/final_model_new.pt\").eval()"
   ]
  },
  {
   "cell_type": "code",
   "execution_count": 9,
   "id": "1cbbf2e5-5652-4ad8-8106-6c2f4aaa49a3",
   "metadata": {
    "tags": []
   },
   "outputs": [
    {
     "data": {
      "text/plain": [
       "RobertaForSequenceClassification(\n",
       "  (roberta): RobertaModel(\n",
       "    (embeddings): RobertaEmbeddings(\n",
       "      (word_embeddings): Embedding(50265, 768, padding_idx=1)\n",
       "      (position_embeddings): Embedding(514, 768, padding_idx=1)\n",
       "      (token_type_embeddings): Embedding(1, 768)\n",
       "      (LayerNorm): LayerNorm((768,), eps=1e-05, elementwise_affine=True)\n",
       "      (dropout): Dropout(p=0.1, inplace=False)\n",
       "    )\n",
       "    (encoder): RobertaEncoder(\n",
       "      (layer): ModuleList(\n",
       "        (0-11): 12 x RobertaLayer(\n",
       "          (attention): RobertaAttention(\n",
       "            (self): RobertaSelfAttention(\n",
       "              (query): Linear(in_features=768, out_features=768, bias=True)\n",
       "              (key): Linear(in_features=768, out_features=768, bias=True)\n",
       "              (value): Linear(in_features=768, out_features=768, bias=True)\n",
       "              (dropout): Dropout(p=0.1, inplace=False)\n",
       "            )\n",
       "            (output): RobertaSelfOutput(\n",
       "              (dense): Linear(in_features=768, out_features=768, bias=True)\n",
       "              (LayerNorm): LayerNorm((768,), eps=1e-05, elementwise_affine=True)\n",
       "              (dropout): Dropout(p=0.1, inplace=False)\n",
       "            )\n",
       "          )\n",
       "          (intermediate): RobertaIntermediate(\n",
       "            (dense): Linear(in_features=768, out_features=3072, bias=True)\n",
       "            (intermediate_act_fn): GELUActivation()\n",
       "          )\n",
       "          (output): RobertaOutput(\n",
       "            (dense): Linear(in_features=3072, out_features=768, bias=True)\n",
       "            (LayerNorm): LayerNorm((768,), eps=1e-05, elementwise_affine=True)\n",
       "            (dropout): Dropout(p=0.1, inplace=False)\n",
       "          )\n",
       "        )\n",
       "      )\n",
       "    )\n",
       "  )\n",
       "  (classifier): RobertaClassificationHead(\n",
       "    (dense): Linear(in_features=768, out_features=768, bias=True)\n",
       "    (dropout): Dropout(p=0.1, inplace=False)\n",
       "    (out_proj): Linear(in_features=768, out_features=5244, bias=True)\n",
       "  )\n",
       ")"
      ]
     },
     "execution_count": 9,
     "metadata": {},
     "output_type": "execute_result"
    }
   ],
   "source": [
    "model.model"
   ]
  },
  {
   "cell_type": "markdown",
   "id": "2b7ced2f-7029-485e-873a-7d132d026a10",
   "metadata": {
    "tags": []
   },
   "source": [
    "# Loading up the data"
   ]
  },
  {
   "cell_type": "code",
   "execution_count": 60,
   "id": "a97a1e53-e507-46db-a0d4-892aa954f8b0",
   "metadata": {
    "tags": []
   },
   "outputs": [],
   "source": [
    "df = pd.read_csv(\"../data/processed/TEXT/merged.csv\")\n",
    "\n",
    "text = df.TEXT.values.tolist()\n",
    "vendors = df.VENDOR.values.tolist()\n",
    "\n",
    "# Since the vendor IDs are not the current representations of the class labels, we remap these label IDs to avoid falling into out-of-bounds problem\n",
    "vendors_dict = {}\n",
    "i = 0\n",
    "for vendor in vendors:\n",
    "    if vendor not in vendors_dict.keys():\n",
    "        vendors_dict[vendor] = i\n",
    "        i += 1\n",
    "        \n",
    "train_df, test_df = train_test_split(df, test_size=0.20, random_state=1111)"
   ]
  },
  {
   "cell_type": "code",
   "execution_count": 11,
   "id": "331b3dd4-6745-449d-80ff-f90d0cd043d4",
   "metadata": {
    "tags": []
   },
   "outputs": [],
   "source": [
    "test_df = test_df[[\"TEXT\", \"VENDOR\"]]"
   ]
  },
  {
   "cell_type": "markdown",
   "id": "db9c9ea4-8db4-4d16-b30b-d48e3a6fcc54",
   "metadata": {},
   "source": [
    "# Getting the predictions"
   ]
  },
  {
   "cell_type": "code",
   "execution_count": 12,
   "id": "4cfb36d1-9817-4bee-8009-4e51eba567f5",
   "metadata": {
    "tags": []
   },
   "outputs": [],
   "source": [
    "from transformers import AutoTokenizer\n",
    "tokenizer = AutoTokenizer.from_pretrained(args.tokenizer_name_or_path)"
   ]
  },
  {
   "cell_type": "code",
   "execution_count": 18,
   "id": "e69e9c87-b44e-4a23-be64-9c4f5c9e432a",
   "metadata": {
    "tags": []
   },
   "outputs": [],
   "source": [
    "def retrieve_predictions(data_test, demo=\"north\"):\n",
    "    # data_test = test_df[test_df.DEMO==demo]\n",
    "    data_test.replace({\"VENDOR\": vendors_dict},inplace=True)\n",
    "\n",
    "    text = data_test.TEXT.values.tolist()\n",
    "    vendors = data_test.VENDOR.values.tolist()\n",
    "\n",
    "    # Tokenizing the data with padding and truncation\n",
    "    encodings = tokenizer(text, add_special_tokens=True, max_length=512, padding='max_length', return_token_type_ids=False, truncation=True, \n",
    "                               return_attention_mask=True, return_tensors='pt') \n",
    "\n",
    "    # Convert the lists into tensors.\n",
    "    input_ids = encodings['input_ids']\n",
    "    attention_mask = encodings['attention_mask']\n",
    "\n",
    "    labels = torch.tensor(vendors)\n",
    "\n",
    "    # Combine the inputs into a TensorDataset.\n",
    "    dataset = TensorDataset(input_ids, attention_mask, labels)\n",
    "    test_dataloader = DataLoader(dataset, batch_size=32)\n",
    "    \n",
    "    label_list, prediction_list  = ([] for i in range(2))\n",
    "\n",
    "    pbar = tqdm(total=len(test_dataloader))\n",
    "    for batch in test_dataloader:\n",
    "        outputs, _, _, labels = model(batch)\n",
    "        \n",
    "        test_loss = outputs[0]\n",
    "        logits = outputs[1]\n",
    "        # labels = batch[2]\n",
    "        predictions = torch.argmax(logits, dim=1)\n",
    "        label_list.append(labels.tolist())\n",
    "        prediction_list.append(predictions.tolist())\n",
    "        pbar.update(1)\n",
    "    pbar.close()\n",
    "\n",
    "    label_list = [item for sublist in label_list for item in sublist]\n",
    "    prediction_list = [item for sublist in prediction_list for item in sublist]\n",
    "    \n",
    "    return label_list, prediction_list"
   ]
  },
  {
   "cell_type": "code",
   "execution_count": 19,
   "id": "ca2ca972-4bbf-4214-9313-56c755ee01b2",
   "metadata": {
    "tags": []
   },
   "outputs": [
    {
     "name": "stderr",
     "output_type": "stream",
     "text": [
      "100%|██████████| 548/548 [38:32<00:00,  4.22s/it]\n"
     ]
    }
   ],
   "source": [
    "label_list, prediction_list = retrieve_predictions(test_df)"
   ]
  },
  {
   "cell_type": "code",
   "execution_count": 20,
   "id": "43e0598a-91e3-415e-9333-222f0170fcfb",
   "metadata": {
    "tags": []
   },
   "outputs": [],
   "source": [
    "with open('../pickled/label_list.pkl', 'wb') as f:\n",
    "    pickle.dump(label_list, f)\n",
    "    \n",
    "with open('../pickled/prediction_list.pkl', 'wb') as f:\n",
    "    pickle.dump(prediction_list, f)"
   ]
  },
  {
   "cell_type": "markdown",
   "id": "d5451163-0eab-4d57-be3b-bbb0e622ccf7",
   "metadata": {},
   "source": [
    "# Finding True Positives and False Positives"
   ]
  },
  {
   "cell_type": "code",
   "execution_count": 33,
   "id": "1b1bf449-3d70-4863-8b8e-56241ab9ff3f",
   "metadata": {
    "tags": []
   },
   "outputs": [],
   "source": [
    "with open('../pickled/label_list.pkl', 'rb') as handle:\n",
    "    label_list = pickle.load(handle)\n",
    "\n",
    "with open('../pickled/prediction_list.pkl', 'rb') as handle:\n",
    "    prediction_list = pickle.load(handle)"
   ]
  },
  {
   "cell_type": "code",
   "execution_count": 34,
   "id": "12c2a54d-e3b8-4e9c-9a2f-20ceabdd87e3",
   "metadata": {
    "tags": []
   },
   "outputs": [],
   "source": [
    "if_match = [True if label_list[index] == prediction_list[index] else False for index, value in enumerate(label_list)]"
   ]
  },
  {
   "cell_type": "code",
   "execution_count": 35,
   "id": "a1ccf6de-5012-4a86-8932-789f31af9988",
   "metadata": {
    "tags": []
   },
   "outputs": [],
   "source": [
    "test_df[\"MATCH\"] = if_match"
   ]
  },
  {
   "cell_type": "code",
   "execution_count": 74,
   "id": "fffb2859-6356-4e5b-9657-d9b81df7b5d8",
   "metadata": {
    "tags": []
   },
   "outputs": [],
   "source": [
    "train_df.reset_index(inplace=True)\n",
    "test_df.reset_index(inplace=True)"
   ]
  },
  {
   "cell_type": "code",
   "execution_count": 36,
   "id": "b71a356a-df4f-412b-84a9-e12dabf56edb",
   "metadata": {
    "tags": []
   },
   "outputs": [],
   "source": [
    "tp = test_df[test_df.MATCH == True]\n",
    "fp = test_df[test_df.MATCH != True]"
   ]
  },
  {
   "cell_type": "code",
   "execution_count": 170,
   "id": "4c7d884c-94e3-4170-9f91-45e5b949ec22",
   "metadata": {
    "tags": []
   },
   "outputs": [
    {
     "name": "stdout",
     "output_type": "stream",
     "text": [
      "[2602, 285, 4298, 1352, 1258, 3299, 4712, 4808, 412, 309, 2164, 4734, 1543, 544, 5116, 4717, 351, 381, 3275, 3773, 459, 781, 1056, 1424, 2676, 424, 3108, 0, 1025, 3256, 1082, 425, 409, 3467, 3249, 827, 1579, 3737, 2533, 1199, 1690, 432, 3195, 1435, 3310, 3087, 3301, 4616, 431, 274]\n"
     ]
    }
   ],
   "source": [
    "print(list(fp.VENDOR.unique())[:50])"
   ]
  },
  {
   "cell_type": "markdown",
   "id": "2f626c47-80f3-4ead-b320-6caa61ace127",
   "metadata": {},
   "source": [
    "# Loading trained embeddings"
   ]
  },
  {
   "cell_type": "code",
   "execution_count": 73,
   "id": "ca5be8e6-0600-4106-aa1e-5b9c5ded90ec",
   "metadata": {
    "tags": []
   },
   "outputs": [],
   "source": [
    "model = \"declutr\"\n",
    "train_embedding_filename = \"trained_traindata_\" + model + \"_mean.pt\"    \n",
    "train_label_filename = \"trained_trainlabels_\" + model + \"_mean.pt\"\n",
    "    \n",
    "test_embedding_filename = \"trained_testdata_\" + model + \"_mean.pt\"\n",
    "test_label_filename = \"trained_testlabels_\" + model + \"_mean.pt\"\n",
    "\n",
    "train_embeddings = torch.load(os.path.join(os.getcwd(), \"../pickled/embeddings/\", train_embedding_filename), map_location=torch.device('cpu'))\n",
    "train_labels = torch.load(os.path.join(os.getcwd(), \"../pickled/embeddings/\", train_label_filename), map_location=torch.device('cpu')).detach().numpy()\n",
    "\n",
    "test_embeddings = torch.load(os.path.join(os.getcwd(), \"../pickled/embeddings/\", test_embedding_filename), map_location=torch.device('cpu'))\n",
    "test_labels = torch.load(os.path.join(os.getcwd(), \"../pickled/embeddings/\", test_label_filename), map_location=torch.device('cpu')).detach().numpy()"
   ]
  },
  {
   "cell_type": "code",
   "execution_count": 78,
   "id": "e7600b3b-28bb-4873-bab9-8cb13d267ba0",
   "metadata": {
    "tags": []
   },
   "outputs": [],
   "source": [
    "res = faiss.StandardGpuResources()  # use a single GPU\n",
    "\n",
    "dim = train_embeddings.shape[1]\n",
    "nb = train_embeddings.shape[0]\n",
    "nq = train_embeddings.shape[0]\n",
    "\n",
    "index = faiss.IndexFlatIP(dim)\n",
    "# make it a flat GPU index\n",
    "gpu_index_flat = faiss.index_cpu_to_gpu(res, 0, index)\n",
    "gpu_index_flat.add(train_embeddings) # add vectors to the index"
   ]
  },
  {
   "cell_type": "code",
   "execution_count": 93,
   "id": "efaf579d-4a70-43a7-be1a-42c5e0daa801",
   "metadata": {
    "tags": []
   },
   "outputs": [],
   "source": [
    "k = 25"
   ]
  },
  {
   "cell_type": "markdown",
   "id": "44aa4d09-e821-4b27-b4cf-41c1c74be9a3",
   "metadata": {},
   "source": [
    "# Generating Explainaitions"
   ]
  },
  {
   "cell_type": "code",
   "execution_count": 286,
   "id": "bc066d1e-ed8d-46d8-8390-b97330f62978",
   "metadata": {
    "tags": []
   },
   "outputs": [
    {
     "data": {
      "text/html": [
       "<div>\n",
       "<style scoped>\n",
       "    .dataframe tbody tr th:only-of-type {\n",
       "        vertical-align: middle;\n",
       "    }\n",
       "\n",
       "    .dataframe tbody tr th {\n",
       "        vertical-align: top;\n",
       "    }\n",
       "\n",
       "    .dataframe thead th {\n",
       "        text-align: right;\n",
       "    }\n",
       "</style>\n",
       "<table border=\"1\" class=\"dataframe\">\n",
       "  <thead>\n",
       "    <tr style=\"text-align: right;\">\n",
       "      <th></th>\n",
       "      <th>TEXT</th>\n",
       "      <th>VENDOR</th>\n",
       "      <th>MATCH</th>\n",
       "    </tr>\n",
       "  </thead>\n",
       "  <tbody>\n",
       "    <tr>\n",
       "      <th>33104</th>\n",
       "      <td>Available now NNNNNNNNNN Posters age: &lt;AGE&gt; • ...</td>\n",
       "      <td>309</td>\n",
       "      <td>True</td>\n",
       "    </tr>\n",
       "    <tr>\n",
       "      <th>33185</th>\n",
       "      <td>Your tasty caramel treat ???? Im the one and o...</td>\n",
       "      <td>309</td>\n",
       "      <td>True</td>\n",
       "    </tr>\n",
       "    <tr>\n",
       "      <th>33137</th>\n",
       "      <td>NNN NNN NNNN Michelle Posters age: &lt;AGE&gt; • Loc...</td>\n",
       "      <td>309</td>\n",
       "      <td>True</td>\n",
       "    </tr>\n",
       "    <tr>\n",
       "      <th>33158</th>\n",
       "      <td>NNN NNN NNNN Michelle Posters age: &lt;AGE&gt; • Loc...</td>\n",
       "      <td>309</td>\n",
       "      <td>True</td>\n",
       "    </tr>\n",
       "    <tr>\n",
       "      <th>4680</th>\n",
       "      <td>?NNN-NNN-NNNN?\"Good morning \"gentlemen come an...</td>\n",
       "      <td>309</td>\n",
       "      <td>True</td>\n",
       "    </tr>\n",
       "    <tr>\n",
       "      <th>...</th>\n",
       "      <td>...</td>\n",
       "      <td>...</td>\n",
       "      <td>...</td>\n",
       "    </tr>\n",
       "    <tr>\n",
       "      <th>33106</th>\n",
       "      <td>?Thick?Tight?Hazel Eyes?Long Brown Hair?NN DDs...</td>\n",
       "      <td>309</td>\n",
       "      <td>True</td>\n",
       "    </tr>\n",
       "    <tr>\n",
       "      <th>33124</th>\n",
       "      <td>Im not really one to talk you see baby I rathe...</td>\n",
       "      <td>309</td>\n",
       "      <td>True</td>\n",
       "    </tr>\n",
       "    <tr>\n",
       "      <th>32951</th>\n",
       "      <td>????Bright, ambitious and highly sensual young...</td>\n",
       "      <td>309</td>\n",
       "      <td>True</td>\n",
       "    </tr>\n",
       "    <tr>\n",
       "      <th>32993</th>\n",
       "      <td>???? I AIM ??N PLEASE ??NEVER N TEASE???? ?? ?...</td>\n",
       "      <td>309</td>\n",
       "      <td>True</td>\n",
       "    </tr>\n",
       "    <tr>\n",
       "      <th>33227</th>\n",
       "      <td>NN young thick and full of tricks!! Im descret...</td>\n",
       "      <td>309</td>\n",
       "      <td>True</td>\n",
       "    </tr>\n",
       "  </tbody>\n",
       "</table>\n",
       "<p>66 rows × 3 columns</p>\n",
       "</div>"
      ],
      "text/plain": [
       "                                                    TEXT  VENDOR  MATCH\n",
       "33104  Available now NNNNNNNNNN Posters age: <AGE> • ...     309   True\n",
       "33185  Your tasty caramel treat ???? Im the one and o...     309   True\n",
       "33137  NNN NNN NNNN Michelle Posters age: <AGE> • Loc...     309   True\n",
       "33158  NNN NNN NNNN Michelle Posters age: <AGE> • Loc...     309   True\n",
       "4680   ?NNN-NNN-NNNN?\"Good morning \"gentlemen come an...     309   True\n",
       "...                                                  ...     ...    ...\n",
       "33106  ?Thick?Tight?Hazel Eyes?Long Brown Hair?NN DDs...     309   True\n",
       "33124  Im not really one to talk you see baby I rathe...     309   True\n",
       "32951  ????Bright, ambitious and highly sensual young...     309   True\n",
       "32993  ???? I AIM ??N PLEASE ??NEVER N TEASE???? ?? ?...     309   True\n",
       "33227  NN young thick and full of tricks!! Im descret...     309   True\n",
       "\n",
       "[66 rows x 3 columns]"
      ]
     },
     "execution_count": 286,
     "metadata": {},
     "output_type": "execute_result"
    }
   ],
   "source": [
    "samples = tp[tp.VENDOR == 309].drop_duplicates()\n",
    "samples"
   ]
  },
  {
   "cell_type": "code",
   "execution_count": 241,
   "id": "16b07efa-2c67-4f90-963a-fa67dd2e2d83",
   "metadata": {
    "tags": []
   },
   "outputs": [],
   "source": [
    "anchor = samples.TEXT.iloc[0]\n",
    "anchor_index = test_df[test_df.TEXT == anchor].index[0]\n",
    "\n",
    "D, I = gpu_index_flat.search(test_embeddings[anchor_index:anchor_index+1], k)"
   ]
  },
  {
   "cell_type": "code",
   "execution_count": 242,
   "id": "9140d7a4-34ef-4920-9e43-91f3fc47594d",
   "metadata": {
    "tags": []
   },
   "outputs": [
    {
     "data": {
      "text/plain": [
       "array([[12146, 57395, 25974, 24405, 12187, 48568,  5131, 26171, 46190,\n",
       "        27582, 52929,  8896, 65446, 28292, 19409, 52334, 61431,  7818,\n",
       "        65330,  3609, 56363,  1509,  1402, 32969, 38755]])"
      ]
     },
     "execution_count": 242,
     "metadata": {},
     "output_type": "execute_result"
    }
   ],
   "source": [
    "I"
   ]
  },
  {
   "cell_type": "code",
   "execution_count": null,
   "id": "869a812f-6686-4fa1-a899-7938de988686",
   "metadata": {
    "tags": []
   },
   "outputs": [],
   "source": [
    "exp1 = anchor\n",
    "exp2 = train_df.iloc[36442].TEXT"
   ]
  },
  {
   "cell_type": "markdown",
   "id": "1551b9fe-d5b1-486d-8c41-448aa8efdf81",
   "metadata": {},
   "source": [
    "# Interpret transformers"
   ]
  },
  {
   "cell_type": "code",
   "execution_count": 13,
   "id": "e7539987-5e3c-4bfa-864d-d167ad678f44",
   "metadata": {
    "tags": []
   },
   "outputs": [],
   "source": [
    "from transformers_interpret import SequenceClassificationExplainer"
   ]
  },
  {
   "cell_type": "code",
   "execution_count": 14,
   "id": "5ed6e1d0-c59a-4caa-b733-6af9273c1c46",
   "metadata": {
    "tags": []
   },
   "outputs": [],
   "source": [
    "cls_explainer = SequenceClassificationExplainer(\n",
    "    model.model,\n",
    "    tokenizer)"
   ]
  },
  {
   "cell_type": "code",
   "execution_count": 247,
   "id": "d69bb792-c22b-488d-964f-d190daf0b821",
   "metadata": {
    "tags": []
   },
   "outputs": [],
   "source": [
    "word_attributions = cls_explainer(exp1, class_name='LABEL_742')"
   ]
  },
  {
   "cell_type": "code",
   "execution_count": 248,
   "id": "88569eb7-615f-48c0-881f-c85ab1be1276",
   "metadata": {
    "tags": []
   },
   "outputs": [
    {
     "data": {
      "text/plain": [
       "'LABEL_4310'"
      ]
     },
     "execution_count": 248,
     "metadata": {},
     "output_type": "execute_result"
    }
   ],
   "source": [
    "cls_explainer.predicted_class_name"
   ]
  },
  {
   "cell_type": "code",
   "execution_count": 249,
   "id": "f315514f-e461-475c-848a-05d477c69589",
   "metadata": {
    "tags": []
   },
   "outputs": [
    {
     "data": {
      "text/html": [
       "<table width: 100%><div style=\"border-top: 1px solid; margin-top: 5px;             padding-top: 5px; display: inline-block\"><b>Legend: </b><span style=\"display: inline-block; width: 10px; height: 10px;                 border: 1px solid; background-color:                 hsl(0, 75%, 60%)\"></span> Negative  <span style=\"display: inline-block; width: 10px; height: 10px;                 border: 1px solid; background-color:                 hsl(0, 75%, 100%)\"></span> Neutral  <span style=\"display: inline-block; width: 10px; height: 10px;                 border: 1px solid; background-color:                 hsl(120, 75%, 50%)\"></span> Positive  </div><tr><th>True Label</th><th>Predicted Label</th><th>Attribution Label</th><th>Attribution Score</th><th>Word Importance</th><tr><td><text style=\"padding-right:2em\"><b>742</b></text></td><td><text style=\"padding-right:2em\"><b>LABEL_4310 (0.06)</b></text></td><td><text style=\"padding-right:2em\"><b>LABEL_742</b></text></td><td><text style=\"padding-right:2em\"><b>0.34</b></text></td><td><mark style=\"background-color: hsl(0, 75%, 100%); opacity:1.0;                     line-height:1.75\"><font color=\"black\"> #s                    </font></mark><mark style=\"background-color: hsl(120, 75%, 99%); opacity:1.0;                     line-height:1.75\"><font color=\"black\"> [                    </font></mark><mark style=\"background-color: hsl(120, 75%, 98%); opacity:1.0;                     line-height:1.75\"><font color=\"black\"> SE                    </font></mark><mark style=\"background-color: hsl(120, 75%, 100%); opacity:1.0;                     line-height:1.75\"><font color=\"black\"> P                    </font></mark><mark style=\"background-color: hsl(120, 75%, 100%); opacity:1.0;                     line-height:1.75\"><font color=\"black\"> ]                    </font></mark><mark style=\"background-color: hsl(120, 75%, 99%); opacity:1.0;                     line-height:1.75\"><font color=\"black\"> <                    </font></mark><mark style=\"background-color: hsl(120, 75%, 99%); opacity:1.0;                     line-height:1.75\"><font color=\"black\"> L                    </font></mark><mark style=\"background-color: hsl(120, 75%, 99%); opacity:1.0;                     line-height:1.75\"><font color=\"black\"> INK                    </font></mark><mark style=\"background-color: hsl(120, 75%, 97%); opacity:1.0;                     line-height:1.75\"><font color=\"black\"> >                    </font></mark><mark style=\"background-color: hsl(120, 75%, 100%); opacity:1.0;                     line-height:1.75\"><font color=\"black\"> [                    </font></mark><mark style=\"background-color: hsl(120, 75%, 97%); opacity:1.0;                     line-height:1.75\"><font color=\"black\"> SE                    </font></mark><mark style=\"background-color: hsl(120, 75%, 98%); opacity:1.0;                     line-height:1.75\"><font color=\"black\"> P                    </font></mark><mark style=\"background-color: hsl(120, 75%, 98%); opacity:1.0;                     line-height:1.75\"><font color=\"black\"> ]                    </font></mark><mark style=\"background-color: hsl(0, 75%, 100%); opacity:1.0;                     line-height:1.75\"><font color=\"black\"> ?                    </font></mark><mark style=\"background-color: hsl(0, 75%, 100%); opacity:1.0;                     line-height:1.75\"><font color=\"black\"> ?                    </font></mark><mark style=\"background-color: hsl(120, 75%, 100%); opacity:1.0;                     line-height:1.75\"><font color=\"black\"> ?                    </font></mark><mark style=\"background-color: hsl(120, 75%, 100%); opacity:1.0;                     line-height:1.75\"><font color=\"black\"> ?                    </font></mark><mark style=\"background-color: hsl(120, 75%, 100%); opacity:1.0;                     line-height:1.75\"><font color=\"black\"> ?                    </font></mark><mark style=\"background-color: hsl(0, 75%, 100%); opacity:1.0;                     line-height:1.75\"><font color=\"black\"> ?                    </font></mark><mark style=\"background-color: hsl(120, 75%, 99%); opacity:1.0;                     line-height:1.75\"><font color=\"black\"> ?                    </font></mark><mark style=\"background-color: hsl(0, 75%, 99%); opacity:1.0;                     line-height:1.75\"><font color=\"black\"> ?                    </font></mark><mark style=\"background-color: hsl(0, 75%, 98%); opacity:1.0;                     line-height:1.75\"><font color=\"black\"> ?                    </font></mark><mark style=\"background-color: hsl(0, 75%, 100%); opacity:1.0;                     line-height:1.75\"><font color=\"black\"> ?                    </font></mark><mark style=\"background-color: hsl(0, 75%, 97%); opacity:1.0;                     line-height:1.75\"><font color=\"black\"> ?                    </font></mark><mark style=\"background-color: hsl(0, 75%, 87%); opacity:1.0;                     line-height:1.75\"><font color=\"black\"> NEW                    </font></mark><mark style=\"background-color: hsl(120, 75%, 97%); opacity:1.0;                     line-height:1.75\"><font color=\"black\"> Japanese                    </font></mark><mark style=\"background-color: hsl(120, 75%, 91%); opacity:1.0;                     line-height:1.75\"><font color=\"black\"> -                    </font></mark><mark style=\"background-color: hsl(120, 75%, 90%); opacity:1.0;                     line-height:1.75\"><font color=\"black\"> N                    </font></mark><mark style=\"background-color: hsl(0, 75%, 85%); opacity:1.0;                     line-height:1.75\"><font color=\"black\"> uru                    </font></mark><mark style=\"background-color: hsl(0, 75%, 96%); opacity:1.0;                     line-height:1.75\"><font color=\"black\"> ?                    </font></mark><mark style=\"background-color: hsl(0, 75%, 98%); opacity:1.0;                     line-height:1.75\"><font color=\"black\"> ?                    </font></mark><mark style=\"background-color: hsl(0, 75%, 98%); opacity:1.0;                     line-height:1.75\"><font color=\"black\"> ?                    </font></mark><mark style=\"background-color: hsl(0, 75%, 96%); opacity:1.0;                     line-height:1.75\"><font color=\"black\"> ?                    </font></mark><mark style=\"background-color: hsl(0, 75%, 97%); opacity:1.0;                     line-height:1.75\"><font color=\"black\"> ?                    </font></mark><mark style=\"background-color: hsl(0, 75%, 98%); opacity:1.0;                     line-height:1.75\"><font color=\"black\"> ?                    </font></mark><mark style=\"background-color: hsl(0, 75%, 98%); opacity:1.0;                     line-height:1.75\"><font color=\"black\"> ?                    </font></mark><mark style=\"background-color: hsl(0, 75%, 99%); opacity:1.0;                     line-height:1.75\"><font color=\"black\"> ?                    </font></mark><mark style=\"background-color: hsl(120, 75%, 100%); opacity:1.0;                     line-height:1.75\"><font color=\"black\"> ?                    </font></mark><mark style=\"background-color: hsl(0, 75%, 99%); opacity:1.0;                     line-height:1.75\"><font color=\"black\"> ?                    </font></mark><mark style=\"background-color: hsl(0, 75%, 98%); opacity:1.0;                     line-height:1.75\"><font color=\"black\"> ?                    </font></mark><mark style=\"background-color: hsl(120, 75%, 97%); opacity:1.0;                     line-height:1.75\"><font color=\"black\"> N                    </font></mark><mark style=\"background-color: hsl(0, 75%, 100%); opacity:1.0;                     line-height:1.75\"><font color=\"black\"> NN                    </font></mark><mark style=\"background-color: hsl(0, 75%, 98%); opacity:1.0;                     line-height:1.75\"><font color=\"black\"> -                    </font></mark><mark style=\"background-color: hsl(0, 75%, 97%); opacity:1.0;                     line-height:1.75\"><font color=\"black\"> NN                    </font></mark><mark style=\"background-color: hsl(120, 75%, 94%); opacity:1.0;                     line-height:1.75\"><font color=\"black\"> N                    </font></mark><mark style=\"background-color: hsl(0, 75%, 99%); opacity:1.0;                     line-height:1.75\"><font color=\"black\"> -                    </font></mark><mark style=\"background-color: hsl(0, 75%, 96%); opacity:1.0;                     line-height:1.75\"><font color=\"black\"> NN                    </font></mark><mark style=\"background-color: hsl(0, 75%, 99%); opacity:1.0;                     line-height:1.75\"><font color=\"black\"> NN                    </font></mark><mark style=\"background-color: hsl(0, 75%, 96%); opacity:1.0;                     line-height:1.75\"><font color=\"black\"> ?                    </font></mark><mark style=\"background-color: hsl(0, 75%, 100%); opacity:1.0;                     line-height:1.75\"><font color=\"black\"> ?                    </font></mark><mark style=\"background-color: hsl(0, 75%, 100%); opacity:1.0;                     line-height:1.75\"><font color=\"black\"> ?                    </font></mark><mark style=\"background-color: hsl(120, 75%, 100%); opacity:1.0;                     line-height:1.75\"><font color=\"black\"> ?                    </font></mark><mark style=\"background-color: hsl(0, 75%, 100%); opacity:1.0;                     line-height:1.75\"><font color=\"black\"> ?                    </font></mark><mark style=\"background-color: hsl(120, 75%, 100%); opacity:1.0;                     line-height:1.75\"><font color=\"black\"> ?                    </font></mark><mark style=\"background-color: hsl(0, 75%, 100%); opacity:1.0;                     line-height:1.75\"><font color=\"black\"> ?                    </font></mark><mark style=\"background-color: hsl(0, 75%, 100%); opacity:1.0;                     line-height:1.75\"><font color=\"black\"> ?                    </font></mark><mark style=\"background-color: hsl(120, 75%, 98%); opacity:1.0;                     line-height:1.75\"><font color=\"black\"> ?                    </font></mark><mark style=\"background-color: hsl(0, 75%, 100%); opacity:1.0;                     line-height:1.75\"><font color=\"black\"> ?                    </font></mark><mark style=\"background-color: hsl(0, 75%, 100%); opacity:1.0;                     line-height:1.75\"><font color=\"black\"> ?                    </font></mark><mark style=\"background-color: hsl(0, 75%, 93%); opacity:1.0;                     line-height:1.75\"><font color=\"black\"> White                    </font></mark><mark style=\"background-color: hsl(0, 75%, 97%); opacity:1.0;                     line-height:1.75\"><font color=\"black\"> Plains                    </font></mark><mark style=\"background-color: hsl(0, 75%, 99%); opacity:1.0;                     line-height:1.75\"><font color=\"black\"> ?                    </font></mark><mark style=\"background-color: hsl(0, 75%, 99%); opacity:1.0;                     line-height:1.75\"><font color=\"black\"> ?                    </font></mark><mark style=\"background-color: hsl(120, 75%, 100%); opacity:1.0;                     line-height:1.75\"><font color=\"black\"> ?                    </font></mark><mark style=\"background-color: hsl(120, 75%, 99%); opacity:1.0;                     line-height:1.75\"><font color=\"black\"> ?                    </font></mark><mark style=\"background-color: hsl(120, 75%, 100%); opacity:1.0;                     line-height:1.75\"><font color=\"black\"> ?                    </font></mark><mark style=\"background-color: hsl(120, 75%, 99%); opacity:1.0;                     line-height:1.75\"><font color=\"black\"> ?                    </font></mark><mark style=\"background-color: hsl(120, 75%, 99%); opacity:1.0;                     line-height:1.75\"><font color=\"black\"> ?                    </font></mark><mark style=\"background-color: hsl(120, 75%, 97%); opacity:1.0;                     line-height:1.75\"><font color=\"black\"> ?                    </font></mark><mark style=\"background-color: hsl(120, 75%, 99%); opacity:1.0;                     line-height:1.75\"><font color=\"black\"> ?                    </font></mark><mark style=\"background-color: hsl(120, 75%, 99%); opacity:1.0;                     line-height:1.75\"><font color=\"black\"> ?                    </font></mark><mark style=\"background-color: hsl(0, 75%, 99%); opacity:1.0;                     line-height:1.75\"><font color=\"black\"> ?                    </font></mark><mark style=\"background-color: hsl(0, 75%, 99%); opacity:1.0;                     line-height:1.75\"><font color=\"black\"> In                    </font></mark><mark style=\"background-color: hsl(0, 75%, 99%); opacity:1.0;                     line-height:1.75\"><font color=\"black\"> -                    </font></mark><mark style=\"background-color: hsl(0, 75%, 97%); opacity:1.0;                     line-height:1.75\"><font color=\"black\"> Call                    </font></mark><mark style=\"background-color: hsl(120, 75%, 89%); opacity:1.0;                     line-height:1.75\"><font color=\"black\"> -                    </font></mark><mark style=\"background-color: hsl(120, 75%, 77%); opacity:1.0;                     line-height:1.75\"><font color=\"black\"> West                    </font></mark><mark style=\"background-color: hsl(120, 75%, 89%); opacity:1.0;                     line-height:1.75\"><font color=\"black\"> chester                    </font></mark><mark style=\"background-color: hsl(120, 75%, 94%); opacity:1.0;                     line-height:1.75\"><font color=\"black\"> esc                    </font></mark><mark style=\"background-color: hsl(120, 75%, 89%); opacity:1.0;                     line-height:1.75\"><font color=\"black\"> orts                    </font></mark><mark style=\"background-color: hsl(120, 75%, 97%); opacity:1.0;                     line-height:1.75\"><font color=\"black\"> -                    </font></mark><mark style=\"background-color: hsl(120, 75%, 92%); opacity:1.0;                     line-height:1.75\"><font color=\"black\"> <                    </font></mark><mark style=\"background-color: hsl(120, 75%, 99%); opacity:1.0;                     line-height:1.75\"><font color=\"black\"> L                    </font></mark><mark style=\"background-color: hsl(120, 75%, 99%); opacity:1.0;                     line-height:1.75\"><font color=\"black\"> INK                    </font></mark><mark style=\"background-color: hsl(120, 75%, 100%); opacity:1.0;                     line-height:1.75\"><font color=\"black\"> >                    </font></mark><mark style=\"background-color: hsl(0, 75%, 100%); opacity:1.0;                     line-height:1.75\"><font color=\"black\"> #/s                    </font></mark></td><tr></table>"
      ],
      "text/plain": [
       "<IPython.core.display.HTML object>"
      ]
     },
     "metadata": {},
     "output_type": "display_data"
    },
    {
     "data": {
      "text/html": [
       "<table width: 100%><div style=\"border-top: 1px solid; margin-top: 5px;             padding-top: 5px; display: inline-block\"><b>Legend: </b><span style=\"display: inline-block; width: 10px; height: 10px;                 border: 1px solid; background-color:                 hsl(0, 75%, 60%)\"></span> Negative  <span style=\"display: inline-block; width: 10px; height: 10px;                 border: 1px solid; background-color:                 hsl(0, 75%, 100%)\"></span> Neutral  <span style=\"display: inline-block; width: 10px; height: 10px;                 border: 1px solid; background-color:                 hsl(120, 75%, 50%)\"></span> Positive  </div><tr><th>True Label</th><th>Predicted Label</th><th>Attribution Label</th><th>Attribution Score</th><th>Word Importance</th><tr><td><text style=\"padding-right:2em\"><b>742</b></text></td><td><text style=\"padding-right:2em\"><b>LABEL_4310 (0.06)</b></text></td><td><text style=\"padding-right:2em\"><b>LABEL_742</b></text></td><td><text style=\"padding-right:2em\"><b>0.34</b></text></td><td><mark style=\"background-color: hsl(0, 75%, 100%); opacity:1.0;                     line-height:1.75\"><font color=\"black\"> #s                    </font></mark><mark style=\"background-color: hsl(120, 75%, 99%); opacity:1.0;                     line-height:1.75\"><font color=\"black\"> [                    </font></mark><mark style=\"background-color: hsl(120, 75%, 98%); opacity:1.0;                     line-height:1.75\"><font color=\"black\"> SE                    </font></mark><mark style=\"background-color: hsl(120, 75%, 100%); opacity:1.0;                     line-height:1.75\"><font color=\"black\"> P                    </font></mark><mark style=\"background-color: hsl(120, 75%, 100%); opacity:1.0;                     line-height:1.75\"><font color=\"black\"> ]                    </font></mark><mark style=\"background-color: hsl(120, 75%, 99%); opacity:1.0;                     line-height:1.75\"><font color=\"black\"> <                    </font></mark><mark style=\"background-color: hsl(120, 75%, 99%); opacity:1.0;                     line-height:1.75\"><font color=\"black\"> L                    </font></mark><mark style=\"background-color: hsl(120, 75%, 99%); opacity:1.0;                     line-height:1.75\"><font color=\"black\"> INK                    </font></mark><mark style=\"background-color: hsl(120, 75%, 97%); opacity:1.0;                     line-height:1.75\"><font color=\"black\"> >                    </font></mark><mark style=\"background-color: hsl(120, 75%, 100%); opacity:1.0;                     line-height:1.75\"><font color=\"black\"> [                    </font></mark><mark style=\"background-color: hsl(120, 75%, 97%); opacity:1.0;                     line-height:1.75\"><font color=\"black\"> SE                    </font></mark><mark style=\"background-color: hsl(120, 75%, 98%); opacity:1.0;                     line-height:1.75\"><font color=\"black\"> P                    </font></mark><mark style=\"background-color: hsl(120, 75%, 98%); opacity:1.0;                     line-height:1.75\"><font color=\"black\"> ]                    </font></mark><mark style=\"background-color: hsl(0, 75%, 100%); opacity:1.0;                     line-height:1.75\"><font color=\"black\"> ?                    </font></mark><mark style=\"background-color: hsl(0, 75%, 100%); opacity:1.0;                     line-height:1.75\"><font color=\"black\"> ?                    </font></mark><mark style=\"background-color: hsl(120, 75%, 100%); opacity:1.0;                     line-height:1.75\"><font color=\"black\"> ?                    </font></mark><mark style=\"background-color: hsl(120, 75%, 100%); opacity:1.0;                     line-height:1.75\"><font color=\"black\"> ?                    </font></mark><mark style=\"background-color: hsl(120, 75%, 100%); opacity:1.0;                     line-height:1.75\"><font color=\"black\"> ?                    </font></mark><mark style=\"background-color: hsl(0, 75%, 100%); opacity:1.0;                     line-height:1.75\"><font color=\"black\"> ?                    </font></mark><mark style=\"background-color: hsl(120, 75%, 99%); opacity:1.0;                     line-height:1.75\"><font color=\"black\"> ?                    </font></mark><mark style=\"background-color: hsl(0, 75%, 99%); opacity:1.0;                     line-height:1.75\"><font color=\"black\"> ?                    </font></mark><mark style=\"background-color: hsl(0, 75%, 98%); opacity:1.0;                     line-height:1.75\"><font color=\"black\"> ?                    </font></mark><mark style=\"background-color: hsl(0, 75%, 100%); opacity:1.0;                     line-height:1.75\"><font color=\"black\"> ?                    </font></mark><mark style=\"background-color: hsl(0, 75%, 97%); opacity:1.0;                     line-height:1.75\"><font color=\"black\"> ?                    </font></mark><mark style=\"background-color: hsl(0, 75%, 87%); opacity:1.0;                     line-height:1.75\"><font color=\"black\"> NEW                    </font></mark><mark style=\"background-color: hsl(120, 75%, 97%); opacity:1.0;                     line-height:1.75\"><font color=\"black\"> Japanese                    </font></mark><mark style=\"background-color: hsl(120, 75%, 91%); opacity:1.0;                     line-height:1.75\"><font color=\"black\"> -                    </font></mark><mark style=\"background-color: hsl(120, 75%, 90%); opacity:1.0;                     line-height:1.75\"><font color=\"black\"> N                    </font></mark><mark style=\"background-color: hsl(0, 75%, 85%); opacity:1.0;                     line-height:1.75\"><font color=\"black\"> uru                    </font></mark><mark style=\"background-color: hsl(0, 75%, 96%); opacity:1.0;                     line-height:1.75\"><font color=\"black\"> ?                    </font></mark><mark style=\"background-color: hsl(0, 75%, 98%); opacity:1.0;                     line-height:1.75\"><font color=\"black\"> ?                    </font></mark><mark style=\"background-color: hsl(0, 75%, 98%); opacity:1.0;                     line-height:1.75\"><font color=\"black\"> ?                    </font></mark><mark style=\"background-color: hsl(0, 75%, 96%); opacity:1.0;                     line-height:1.75\"><font color=\"black\"> ?                    </font></mark><mark style=\"background-color: hsl(0, 75%, 97%); opacity:1.0;                     line-height:1.75\"><font color=\"black\"> ?                    </font></mark><mark style=\"background-color: hsl(0, 75%, 98%); opacity:1.0;                     line-height:1.75\"><font color=\"black\"> ?                    </font></mark><mark style=\"background-color: hsl(0, 75%, 98%); opacity:1.0;                     line-height:1.75\"><font color=\"black\"> ?                    </font></mark><mark style=\"background-color: hsl(0, 75%, 99%); opacity:1.0;                     line-height:1.75\"><font color=\"black\"> ?                    </font></mark><mark style=\"background-color: hsl(120, 75%, 100%); opacity:1.0;                     line-height:1.75\"><font color=\"black\"> ?                    </font></mark><mark style=\"background-color: hsl(0, 75%, 99%); opacity:1.0;                     line-height:1.75\"><font color=\"black\"> ?                    </font></mark><mark style=\"background-color: hsl(0, 75%, 98%); opacity:1.0;                     line-height:1.75\"><font color=\"black\"> ?                    </font></mark><mark style=\"background-color: hsl(120, 75%, 97%); opacity:1.0;                     line-height:1.75\"><font color=\"black\"> N                    </font></mark><mark style=\"background-color: hsl(0, 75%, 100%); opacity:1.0;                     line-height:1.75\"><font color=\"black\"> NN                    </font></mark><mark style=\"background-color: hsl(0, 75%, 98%); opacity:1.0;                     line-height:1.75\"><font color=\"black\"> -                    </font></mark><mark style=\"background-color: hsl(0, 75%, 97%); opacity:1.0;                     line-height:1.75\"><font color=\"black\"> NN                    </font></mark><mark style=\"background-color: hsl(120, 75%, 94%); opacity:1.0;                     line-height:1.75\"><font color=\"black\"> N                    </font></mark><mark style=\"background-color: hsl(0, 75%, 99%); opacity:1.0;                     line-height:1.75\"><font color=\"black\"> -                    </font></mark><mark style=\"background-color: hsl(0, 75%, 96%); opacity:1.0;                     line-height:1.75\"><font color=\"black\"> NN                    </font></mark><mark style=\"background-color: hsl(0, 75%, 99%); opacity:1.0;                     line-height:1.75\"><font color=\"black\"> NN                    </font></mark><mark style=\"background-color: hsl(0, 75%, 96%); opacity:1.0;                     line-height:1.75\"><font color=\"black\"> ?                    </font></mark><mark style=\"background-color: hsl(0, 75%, 100%); opacity:1.0;                     line-height:1.75\"><font color=\"black\"> ?                    </font></mark><mark style=\"background-color: hsl(0, 75%, 100%); opacity:1.0;                     line-height:1.75\"><font color=\"black\"> ?                    </font></mark><mark style=\"background-color: hsl(120, 75%, 100%); opacity:1.0;                     line-height:1.75\"><font color=\"black\"> ?                    </font></mark><mark style=\"background-color: hsl(0, 75%, 100%); opacity:1.0;                     line-height:1.75\"><font color=\"black\"> ?                    </font></mark><mark style=\"background-color: hsl(120, 75%, 100%); opacity:1.0;                     line-height:1.75\"><font color=\"black\"> ?                    </font></mark><mark style=\"background-color: hsl(0, 75%, 100%); opacity:1.0;                     line-height:1.75\"><font color=\"black\"> ?                    </font></mark><mark style=\"background-color: hsl(0, 75%, 100%); opacity:1.0;                     line-height:1.75\"><font color=\"black\"> ?                    </font></mark><mark style=\"background-color: hsl(120, 75%, 98%); opacity:1.0;                     line-height:1.75\"><font color=\"black\"> ?                    </font></mark><mark style=\"background-color: hsl(0, 75%, 100%); opacity:1.0;                     line-height:1.75\"><font color=\"black\"> ?                    </font></mark><mark style=\"background-color: hsl(0, 75%, 100%); opacity:1.0;                     line-height:1.75\"><font color=\"black\"> ?                    </font></mark><mark style=\"background-color: hsl(0, 75%, 93%); opacity:1.0;                     line-height:1.75\"><font color=\"black\"> White                    </font></mark><mark style=\"background-color: hsl(0, 75%, 97%); opacity:1.0;                     line-height:1.75\"><font color=\"black\"> Plains                    </font></mark><mark style=\"background-color: hsl(0, 75%, 99%); opacity:1.0;                     line-height:1.75\"><font color=\"black\"> ?                    </font></mark><mark style=\"background-color: hsl(0, 75%, 99%); opacity:1.0;                     line-height:1.75\"><font color=\"black\"> ?                    </font></mark><mark style=\"background-color: hsl(120, 75%, 100%); opacity:1.0;                     line-height:1.75\"><font color=\"black\"> ?                    </font></mark><mark style=\"background-color: hsl(120, 75%, 99%); opacity:1.0;                     line-height:1.75\"><font color=\"black\"> ?                    </font></mark><mark style=\"background-color: hsl(120, 75%, 100%); opacity:1.0;                     line-height:1.75\"><font color=\"black\"> ?                    </font></mark><mark style=\"background-color: hsl(120, 75%, 99%); opacity:1.0;                     line-height:1.75\"><font color=\"black\"> ?                    </font></mark><mark style=\"background-color: hsl(120, 75%, 99%); opacity:1.0;                     line-height:1.75\"><font color=\"black\"> ?                    </font></mark><mark style=\"background-color: hsl(120, 75%, 97%); opacity:1.0;                     line-height:1.75\"><font color=\"black\"> ?                    </font></mark><mark style=\"background-color: hsl(120, 75%, 99%); opacity:1.0;                     line-height:1.75\"><font color=\"black\"> ?                    </font></mark><mark style=\"background-color: hsl(120, 75%, 99%); opacity:1.0;                     line-height:1.75\"><font color=\"black\"> ?                    </font></mark><mark style=\"background-color: hsl(0, 75%, 99%); opacity:1.0;                     line-height:1.75\"><font color=\"black\"> ?                    </font></mark><mark style=\"background-color: hsl(0, 75%, 99%); opacity:1.0;                     line-height:1.75\"><font color=\"black\"> In                    </font></mark><mark style=\"background-color: hsl(0, 75%, 99%); opacity:1.0;                     line-height:1.75\"><font color=\"black\"> -                    </font></mark><mark style=\"background-color: hsl(0, 75%, 97%); opacity:1.0;                     line-height:1.75\"><font color=\"black\"> Call                    </font></mark><mark style=\"background-color: hsl(120, 75%, 89%); opacity:1.0;                     line-height:1.75\"><font color=\"black\"> -                    </font></mark><mark style=\"background-color: hsl(120, 75%, 77%); opacity:1.0;                     line-height:1.75\"><font color=\"black\"> West                    </font></mark><mark style=\"background-color: hsl(120, 75%, 89%); opacity:1.0;                     line-height:1.75\"><font color=\"black\"> chester                    </font></mark><mark style=\"background-color: hsl(120, 75%, 94%); opacity:1.0;                     line-height:1.75\"><font color=\"black\"> esc                    </font></mark><mark style=\"background-color: hsl(120, 75%, 89%); opacity:1.0;                     line-height:1.75\"><font color=\"black\"> orts                    </font></mark><mark style=\"background-color: hsl(120, 75%, 97%); opacity:1.0;                     line-height:1.75\"><font color=\"black\"> -                    </font></mark><mark style=\"background-color: hsl(120, 75%, 92%); opacity:1.0;                     line-height:1.75\"><font color=\"black\"> <                    </font></mark><mark style=\"background-color: hsl(120, 75%, 99%); opacity:1.0;                     line-height:1.75\"><font color=\"black\"> L                    </font></mark><mark style=\"background-color: hsl(120, 75%, 99%); opacity:1.0;                     line-height:1.75\"><font color=\"black\"> INK                    </font></mark><mark style=\"background-color: hsl(120, 75%, 100%); opacity:1.0;                     line-height:1.75\"><font color=\"black\"> >                    </font></mark><mark style=\"background-color: hsl(0, 75%, 100%); opacity:1.0;                     line-height:1.75\"><font color=\"black\"> #/s                    </font></mark></td><tr></table>"
      ],
      "text/plain": [
       "<IPython.core.display.HTML object>"
      ]
     },
     "execution_count": 249,
     "metadata": {},
     "output_type": "execute_result"
    }
   ],
   "source": [
    "cls_explainer.visualize(\"../plots/vendor827_exp1.pdf\")"
   ]
  },
  {
   "cell_type": "code",
   "execution_count": 250,
   "id": "7f4dd470-724b-49aa-9ecf-24c6b9021a61",
   "metadata": {
    "tags": []
   },
   "outputs": [],
   "source": [
    "word_attributions = cls_explainer(exp2)"
   ]
  },
  {
   "cell_type": "code",
   "execution_count": 251,
   "id": "6e1a930d-3351-4688-960e-2f40aa7576c2",
   "metadata": {
    "tags": []
   },
   "outputs": [
    {
     "data": {
      "text/html": [
       "<table width: 100%><div style=\"border-top: 1px solid; margin-top: 5px;             padding-top: 5px; display: inline-block\"><b>Legend: </b><span style=\"display: inline-block; width: 10px; height: 10px;                 border: 1px solid; background-color:                 hsl(0, 75%, 60%)\"></span> Negative  <span style=\"display: inline-block; width: 10px; height: 10px;                 border: 1px solid; background-color:                 hsl(0, 75%, 100%)\"></span> Neutral  <span style=\"display: inline-block; width: 10px; height: 10px;                 border: 1px solid; background-color:                 hsl(120, 75%, 50%)\"></span> Positive  </div><tr><th>True Label</th><th>Predicted Label</th><th>Attribution Label</th><th>Attribution Score</th><th>Word Importance</th><tr><td><text style=\"padding-right:2em\"><b>4310</b></text></td><td><text style=\"padding-right:2em\"><b>LABEL_4310 (0.65)</b></text></td><td><text style=\"padding-right:2em\"><b>LABEL_4310</b></text></td><td><text style=\"padding-right:2em\"><b>1.89</b></text></td><td><mark style=\"background-color: hsl(0, 75%, 100%); opacity:1.0;                     line-height:1.75\"><font color=\"black\"> #s                    </font></mark><mark style=\"background-color: hsl(120, 75%, 100%); opacity:1.0;                     line-height:1.75\"><font color=\"black\"> [                    </font></mark><mark style=\"background-color: hsl(0, 75%, 100%); opacity:1.0;                     line-height:1.75\"><font color=\"black\"> SE                    </font></mark><mark style=\"background-color: hsl(120, 75%, 100%); opacity:1.0;                     line-height:1.75\"><font color=\"black\"> P                    </font></mark><mark style=\"background-color: hsl(120, 75%, 100%); opacity:1.0;                     line-height:1.75\"><font color=\"black\"> ]                    </font></mark><mark style=\"background-color: hsl(0, 75%, 100%); opacity:1.0;                     line-height:1.75\"><font color=\"black\"> <                    </font></mark><mark style=\"background-color: hsl(120, 75%, 100%); opacity:1.0;                     line-height:1.75\"><font color=\"black\"> L                    </font></mark><mark style=\"background-color: hsl(120, 75%, 99%); opacity:1.0;                     line-height:1.75\"><font color=\"black\"> INK                    </font></mark><mark style=\"background-color: hsl(0, 75%, 100%); opacity:1.0;                     line-height:1.75\"><font color=\"black\"> >                    </font></mark><mark style=\"background-color: hsl(120, 75%, 100%); opacity:1.0;                     line-height:1.75\"><font color=\"black\"> [                    </font></mark><mark style=\"background-color: hsl(0, 75%, 100%); opacity:1.0;                     line-height:1.75\"><font color=\"black\"> SE                    </font></mark><mark style=\"background-color: hsl(120, 75%, 100%); opacity:1.0;                     line-height:1.75\"><font color=\"black\"> P                    </font></mark><mark style=\"background-color: hsl(0, 75%, 99%); opacity:1.0;                     line-height:1.75\"><font color=\"black\"> ]                    </font></mark><mark style=\"background-color: hsl(120, 75%, 99%); opacity:1.0;                     line-height:1.75\"><font color=\"black\"> ?                    </font></mark><mark style=\"background-color: hsl(120, 75%, 100%); opacity:1.0;                     line-height:1.75\"><font color=\"black\"> ?                    </font></mark><mark style=\"background-color: hsl(120, 75%, 100%); opacity:1.0;                     line-height:1.75\"><font color=\"black\"> ?                    </font></mark><mark style=\"background-color: hsl(0, 75%, 100%); opacity:1.0;                     line-height:1.75\"><font color=\"black\"> ?                    </font></mark><mark style=\"background-color: hsl(0, 75%, 100%); opacity:1.0;                     line-height:1.75\"><font color=\"black\"> ?                    </font></mark><mark style=\"background-color: hsl(0, 75%, 100%); opacity:1.0;                     line-height:1.75\"><font color=\"black\"> ?                    </font></mark><mark style=\"background-color: hsl(120, 75%, 100%); opacity:1.0;                     line-height:1.75\"><font color=\"black\"> ?                    </font></mark><mark style=\"background-color: hsl(0, 75%, 99%); opacity:1.0;                     line-height:1.75\"><font color=\"black\"> Japanese                    </font></mark><mark style=\"background-color: hsl(0, 75%, 100%); opacity:1.0;                     line-height:1.75\"><font color=\"black\"> ?                    </font></mark><mark style=\"background-color: hsl(120, 75%, 100%); opacity:1.0;                     line-height:1.75\"><font color=\"black\"> ?                    </font></mark><mark style=\"background-color: hsl(0, 75%, 100%); opacity:1.0;                     line-height:1.75\"><font color=\"black\"> ?                    </font></mark><mark style=\"background-color: hsl(120, 75%, 100%); opacity:1.0;                     line-height:1.75\"><font color=\"black\"> ?                    </font></mark><mark style=\"background-color: hsl(120, 75%, 99%); opacity:1.0;                     line-height:1.75\"><font color=\"black\"> ?                    </font></mark><mark style=\"background-color: hsl(120, 75%, 99%); opacity:1.0;                     line-height:1.75\"><font color=\"black\"> ?                    </font></mark><mark style=\"background-color: hsl(120, 75%, 100%); opacity:1.0;                     line-height:1.75\"><font color=\"black\"> ?                    </font></mark><mark style=\"background-color: hsl(120, 75%, 100%); opacity:1.0;                     line-height:1.75\"><font color=\"black\"> ?                    </font></mark><mark style=\"background-color: hsl(0, 75%, 100%); opacity:1.0;                     line-height:1.75\"><font color=\"black\"> ?                    </font></mark><mark style=\"background-color: hsl(120, 75%, 99%); opacity:1.0;                     line-height:1.75\"><font color=\"black\"> ?                    </font></mark><mark style=\"background-color: hsl(0, 75%, 100%); opacity:1.0;                     line-height:1.75\"><font color=\"black\"> ?                    </font></mark><mark style=\"background-color: hsl(0, 75%, 96%); opacity:1.0;                     line-height:1.75\"><font color=\"black\"> Hot                    </font></mark><mark style=\"background-color: hsl(120, 75%, 97%); opacity:1.0;                     line-height:1.75\"><font color=\"black\"> ?                    </font></mark><mark style=\"background-color: hsl(120, 75%, 99%); opacity:1.0;                     line-height:1.75\"><font color=\"black\"> ?                    </font></mark><mark style=\"background-color: hsl(120, 75%, 99%); opacity:1.0;                     line-height:1.75\"><font color=\"black\"> ?                    </font></mark><mark style=\"background-color: hsl(120, 75%, 99%); opacity:1.0;                     line-height:1.75\"><font color=\"black\"> ?                    </font></mark><mark style=\"background-color: hsl(120, 75%, 100%); opacity:1.0;                     line-height:1.75\"><font color=\"black\"> ?                    </font></mark><mark style=\"background-color: hsl(120, 75%, 100%); opacity:1.0;                     line-height:1.75\"><font color=\"black\"> ?                    </font></mark><mark style=\"background-color: hsl(120, 75%, 100%); opacity:1.0;                     line-height:1.75\"><font color=\"black\"> ?                    </font></mark><mark style=\"background-color: hsl(120, 75%, 99%); opacity:1.0;                     line-height:1.75\"><font color=\"black\"> ?                    </font></mark><mark style=\"background-color: hsl(120, 75%, 100%); opacity:1.0;                     line-height:1.75\"><font color=\"black\"> ?                    </font></mark><mark style=\"background-color: hsl(120, 75%, 99%); opacity:1.0;                     line-height:1.75\"><font color=\"black\"> ?                    </font></mark><mark style=\"background-color: hsl(0, 75%, 99%); opacity:1.0;                     line-height:1.75\"><font color=\"black\"> ?                    </font></mark><mark style=\"background-color: hsl(120, 75%, 100%); opacity:1.0;                     line-height:1.75\"><font color=\"black\"> Sexy                    </font></mark><mark style=\"background-color: hsl(120, 75%, 98%); opacity:1.0;                     line-height:1.75\"><font color=\"black\"> ?                    </font></mark><mark style=\"background-color: hsl(0, 75%, 100%); opacity:1.0;                     line-height:1.75\"><font color=\"black\"> ?                    </font></mark><mark style=\"background-color: hsl(120, 75%, 100%); opacity:1.0;                     line-height:1.75\"><font color=\"black\"> ?                    </font></mark><mark style=\"background-color: hsl(0, 75%, 100%); opacity:1.0;                     line-height:1.75\"><font color=\"black\"> ?                    </font></mark><mark style=\"background-color: hsl(120, 75%, 99%); opacity:1.0;                     line-height:1.75\"><font color=\"black\"> ?                    </font></mark><mark style=\"background-color: hsl(120, 75%, 99%); opacity:1.0;                     line-height:1.75\"><font color=\"black\"> ?                    </font></mark><mark style=\"background-color: hsl(120, 75%, 99%); opacity:1.0;                     line-height:1.75\"><font color=\"black\"> ?                    </font></mark><mark style=\"background-color: hsl(120, 75%, 99%); opacity:1.0;                     line-height:1.75\"><font color=\"black\"> ?                    </font></mark><mark style=\"background-color: hsl(120, 75%, 99%); opacity:1.0;                     line-height:1.75\"><font color=\"black\"> ?                    </font></mark><mark style=\"background-color: hsl(120, 75%, 94%); opacity:1.0;                     line-height:1.75\"><font color=\"black\"> ?                    </font></mark><mark style=\"background-color: hsl(120, 75%, 97%); opacity:1.0;                     line-height:1.75\"><font color=\"black\"> Bust                    </font></mark><mark style=\"background-color: hsl(120, 75%, 96%); opacity:1.0;                     line-height:1.75\"><font color=\"black\"> y                    </font></mark><mark style=\"background-color: hsl(0, 75%, 100%); opacity:1.0;                     line-height:1.75\"><font color=\"black\"> ?                    </font></mark><mark style=\"background-color: hsl(120, 75%, 97%); opacity:1.0;                     line-height:1.75\"><font color=\"black\"> ?                    </font></mark><mark style=\"background-color: hsl(120, 75%, 98%); opacity:1.0;                     line-height:1.75\"><font color=\"black\"> ?                    </font></mark><mark style=\"background-color: hsl(120, 75%, 98%); opacity:1.0;                     line-height:1.75\"><font color=\"black\"> ?                    </font></mark><mark style=\"background-color: hsl(120, 75%, 98%); opacity:1.0;                     line-height:1.75\"><font color=\"black\"> ?                    </font></mark><mark style=\"background-color: hsl(120, 75%, 99%); opacity:1.0;                     line-height:1.75\"><font color=\"black\"> ?                    </font></mark><mark style=\"background-color: hsl(120, 75%, 98%); opacity:1.0;                     line-height:1.75\"><font color=\"black\"> ?                    </font></mark><mark style=\"background-color: hsl(120, 75%, 99%); opacity:1.0;                     line-height:1.75\"><font color=\"black\"> ?                    </font></mark><mark style=\"background-color: hsl(120, 75%, 97%); opacity:1.0;                     line-height:1.75\"><font color=\"black\"> ?                    </font></mark><mark style=\"background-color: hsl(120, 75%, 93%); opacity:1.0;                     line-height:1.75\"><font color=\"black\"> ?                    </font></mark><mark style=\"background-color: hsl(0, 75%, 98%); opacity:1.0;                     line-height:1.75\"><font color=\"black\"> Sweet                    </font></mark><mark style=\"background-color: hsl(120, 75%, 100%); opacity:1.0;                     line-height:1.75\"><font color=\"black\"> ?                    </font></mark><mark style=\"background-color: hsl(120, 75%, 100%); opacity:1.0;                     line-height:1.75\"><font color=\"black\"> ?                    </font></mark><mark style=\"background-color: hsl(120, 75%, 98%); opacity:1.0;                     line-height:1.75\"><font color=\"black\"> ?                    </font></mark><mark style=\"background-color: hsl(120, 75%, 99%); opacity:1.0;                     line-height:1.75\"><font color=\"black\"> ?                    </font></mark><mark style=\"background-color: hsl(120, 75%, 98%); opacity:1.0;                     line-height:1.75\"><font color=\"black\"> ?                    </font></mark><mark style=\"background-color: hsl(120, 75%, 97%); opacity:1.0;                     line-height:1.75\"><font color=\"black\"> ?                    </font></mark><mark style=\"background-color: hsl(120, 75%, 92%); opacity:1.0;                     line-height:1.75\"><font color=\"black\"> ?                    </font></mark><mark style=\"background-color: hsl(120, 75%, 97%); opacity:1.0;                     line-height:1.75\"><font color=\"black\"> N                    </font></mark><mark style=\"background-color: hsl(0, 75%, 93%); opacity:1.0;                     line-height:1.75\"><font color=\"black\"> NN                    </font></mark><mark style=\"background-color: hsl(120, 75%, 81%); opacity:1.0;                     line-height:1.75\"><font color=\"black\"> N                    </font></mark><mark style=\"background-color: hsl(0, 75%, 96%); opacity:1.0;                     line-height:1.75\"><font color=\"black\"> NN                    </font></mark><mark style=\"background-color: hsl(120, 75%, 70%); opacity:1.0;                     line-height:1.75\"><font color=\"black\"> N                    </font></mark><mark style=\"background-color: hsl(0, 75%, 95%); opacity:1.0;                     line-height:1.75\"><font color=\"black\"> NN                    </font></mark><mark style=\"background-color: hsl(0, 75%, 100%); opacity:1.0;                     line-height:1.75\"><font color=\"black\"> N                    </font></mark><mark style=\"background-color: hsl(120, 75%, 93%); opacity:1.0;                     line-height:1.75\"><font color=\"black\"> ?                    </font></mark><mark style=\"background-color: hsl(120, 75%, 94%); opacity:1.0;                     line-height:1.75\"><font color=\"black\"> ?                    </font></mark><mark style=\"background-color: hsl(120, 75%, 86%); opacity:1.0;                     line-height:1.75\"><font color=\"black\"> ?                    </font></mark><mark style=\"background-color: hsl(0, 75%, 92%); opacity:1.0;                     line-height:1.75\"><font color=\"black\"> -                    </font></mark><mark style=\"background-color: hsl(0, 75%, 98%); opacity:1.0;                     line-height:1.75\"><font color=\"black\"> West                    </font></mark><mark style=\"background-color: hsl(0, 75%, 96%); opacity:1.0;                     line-height:1.75\"><font color=\"black\"> chester                    </font></mark><mark style=\"background-color: hsl(0, 75%, 96%); opacity:1.0;                     line-height:1.75\"><font color=\"black\"> esc                    </font></mark><mark style=\"background-color: hsl(0, 75%, 97%); opacity:1.0;                     line-height:1.75\"><font color=\"black\"> orts                    </font></mark><mark style=\"background-color: hsl(0, 75%, 94%); opacity:1.0;                     line-height:1.75\"><font color=\"black\"> -                    </font></mark><mark style=\"background-color: hsl(120, 75%, 98%); opacity:1.0;                     line-height:1.75\"><font color=\"black\"> <                    </font></mark><mark style=\"background-color: hsl(0, 75%, 99%); opacity:1.0;                     line-height:1.75\"><font color=\"black\"> L                    </font></mark><mark style=\"background-color: hsl(0, 75%, 100%); opacity:1.0;                     line-height:1.75\"><font color=\"black\"> INK                    </font></mark><mark style=\"background-color: hsl(0, 75%, 97%); opacity:1.0;                     line-height:1.75\"><font color=\"black\"> >                    </font></mark><mark style=\"background-color: hsl(0, 75%, 100%); opacity:1.0;                     line-height:1.75\"><font color=\"black\"> #/s                    </font></mark></td><tr></table>"
      ],
      "text/plain": [
       "<IPython.core.display.HTML object>"
      ]
     },
     "metadata": {},
     "output_type": "display_data"
    },
    {
     "data": {
      "text/html": [
       "<table width: 100%><div style=\"border-top: 1px solid; margin-top: 5px;             padding-top: 5px; display: inline-block\"><b>Legend: </b><span style=\"display: inline-block; width: 10px; height: 10px;                 border: 1px solid; background-color:                 hsl(0, 75%, 60%)\"></span> Negative  <span style=\"display: inline-block; width: 10px; height: 10px;                 border: 1px solid; background-color:                 hsl(0, 75%, 100%)\"></span> Neutral  <span style=\"display: inline-block; width: 10px; height: 10px;                 border: 1px solid; background-color:                 hsl(120, 75%, 50%)\"></span> Positive  </div><tr><th>True Label</th><th>Predicted Label</th><th>Attribution Label</th><th>Attribution Score</th><th>Word Importance</th><tr><td><text style=\"padding-right:2em\"><b>4310</b></text></td><td><text style=\"padding-right:2em\"><b>LABEL_4310 (0.65)</b></text></td><td><text style=\"padding-right:2em\"><b>LABEL_4310</b></text></td><td><text style=\"padding-right:2em\"><b>1.89</b></text></td><td><mark style=\"background-color: hsl(0, 75%, 100%); opacity:1.0;                     line-height:1.75\"><font color=\"black\"> #s                    </font></mark><mark style=\"background-color: hsl(120, 75%, 100%); opacity:1.0;                     line-height:1.75\"><font color=\"black\"> [                    </font></mark><mark style=\"background-color: hsl(0, 75%, 100%); opacity:1.0;                     line-height:1.75\"><font color=\"black\"> SE                    </font></mark><mark style=\"background-color: hsl(120, 75%, 100%); opacity:1.0;                     line-height:1.75\"><font color=\"black\"> P                    </font></mark><mark style=\"background-color: hsl(120, 75%, 100%); opacity:1.0;                     line-height:1.75\"><font color=\"black\"> ]                    </font></mark><mark style=\"background-color: hsl(0, 75%, 100%); opacity:1.0;                     line-height:1.75\"><font color=\"black\"> <                    </font></mark><mark style=\"background-color: hsl(120, 75%, 100%); opacity:1.0;                     line-height:1.75\"><font color=\"black\"> L                    </font></mark><mark style=\"background-color: hsl(120, 75%, 99%); opacity:1.0;                     line-height:1.75\"><font color=\"black\"> INK                    </font></mark><mark style=\"background-color: hsl(0, 75%, 100%); opacity:1.0;                     line-height:1.75\"><font color=\"black\"> >                    </font></mark><mark style=\"background-color: hsl(120, 75%, 100%); opacity:1.0;                     line-height:1.75\"><font color=\"black\"> [                    </font></mark><mark style=\"background-color: hsl(0, 75%, 100%); opacity:1.0;                     line-height:1.75\"><font color=\"black\"> SE                    </font></mark><mark style=\"background-color: hsl(120, 75%, 100%); opacity:1.0;                     line-height:1.75\"><font color=\"black\"> P                    </font></mark><mark style=\"background-color: hsl(0, 75%, 99%); opacity:1.0;                     line-height:1.75\"><font color=\"black\"> ]                    </font></mark><mark style=\"background-color: hsl(120, 75%, 99%); opacity:1.0;                     line-height:1.75\"><font color=\"black\"> ?                    </font></mark><mark style=\"background-color: hsl(120, 75%, 100%); opacity:1.0;                     line-height:1.75\"><font color=\"black\"> ?                    </font></mark><mark style=\"background-color: hsl(120, 75%, 100%); opacity:1.0;                     line-height:1.75\"><font color=\"black\"> ?                    </font></mark><mark style=\"background-color: hsl(0, 75%, 100%); opacity:1.0;                     line-height:1.75\"><font color=\"black\"> ?                    </font></mark><mark style=\"background-color: hsl(0, 75%, 100%); opacity:1.0;                     line-height:1.75\"><font color=\"black\"> ?                    </font></mark><mark style=\"background-color: hsl(0, 75%, 100%); opacity:1.0;                     line-height:1.75\"><font color=\"black\"> ?                    </font></mark><mark style=\"background-color: hsl(120, 75%, 100%); opacity:1.0;                     line-height:1.75\"><font color=\"black\"> ?                    </font></mark><mark style=\"background-color: hsl(0, 75%, 99%); opacity:1.0;                     line-height:1.75\"><font color=\"black\"> Japanese                    </font></mark><mark style=\"background-color: hsl(0, 75%, 100%); opacity:1.0;                     line-height:1.75\"><font color=\"black\"> ?                    </font></mark><mark style=\"background-color: hsl(120, 75%, 100%); opacity:1.0;                     line-height:1.75\"><font color=\"black\"> ?                    </font></mark><mark style=\"background-color: hsl(0, 75%, 100%); opacity:1.0;                     line-height:1.75\"><font color=\"black\"> ?                    </font></mark><mark style=\"background-color: hsl(120, 75%, 100%); opacity:1.0;                     line-height:1.75\"><font color=\"black\"> ?                    </font></mark><mark style=\"background-color: hsl(120, 75%, 99%); opacity:1.0;                     line-height:1.75\"><font color=\"black\"> ?                    </font></mark><mark style=\"background-color: hsl(120, 75%, 99%); opacity:1.0;                     line-height:1.75\"><font color=\"black\"> ?                    </font></mark><mark style=\"background-color: hsl(120, 75%, 100%); opacity:1.0;                     line-height:1.75\"><font color=\"black\"> ?                    </font></mark><mark style=\"background-color: hsl(120, 75%, 100%); opacity:1.0;                     line-height:1.75\"><font color=\"black\"> ?                    </font></mark><mark style=\"background-color: hsl(0, 75%, 100%); opacity:1.0;                     line-height:1.75\"><font color=\"black\"> ?                    </font></mark><mark style=\"background-color: hsl(120, 75%, 99%); opacity:1.0;                     line-height:1.75\"><font color=\"black\"> ?                    </font></mark><mark style=\"background-color: hsl(0, 75%, 100%); opacity:1.0;                     line-height:1.75\"><font color=\"black\"> ?                    </font></mark><mark style=\"background-color: hsl(0, 75%, 96%); opacity:1.0;                     line-height:1.75\"><font color=\"black\"> Hot                    </font></mark><mark style=\"background-color: hsl(120, 75%, 97%); opacity:1.0;                     line-height:1.75\"><font color=\"black\"> ?                    </font></mark><mark style=\"background-color: hsl(120, 75%, 99%); opacity:1.0;                     line-height:1.75\"><font color=\"black\"> ?                    </font></mark><mark style=\"background-color: hsl(120, 75%, 99%); opacity:1.0;                     line-height:1.75\"><font color=\"black\"> ?                    </font></mark><mark style=\"background-color: hsl(120, 75%, 99%); opacity:1.0;                     line-height:1.75\"><font color=\"black\"> ?                    </font></mark><mark style=\"background-color: hsl(120, 75%, 100%); opacity:1.0;                     line-height:1.75\"><font color=\"black\"> ?                    </font></mark><mark style=\"background-color: hsl(120, 75%, 100%); opacity:1.0;                     line-height:1.75\"><font color=\"black\"> ?                    </font></mark><mark style=\"background-color: hsl(120, 75%, 100%); opacity:1.0;                     line-height:1.75\"><font color=\"black\"> ?                    </font></mark><mark style=\"background-color: hsl(120, 75%, 99%); opacity:1.0;                     line-height:1.75\"><font color=\"black\"> ?                    </font></mark><mark style=\"background-color: hsl(120, 75%, 100%); opacity:1.0;                     line-height:1.75\"><font color=\"black\"> ?                    </font></mark><mark style=\"background-color: hsl(120, 75%, 99%); opacity:1.0;                     line-height:1.75\"><font color=\"black\"> ?                    </font></mark><mark style=\"background-color: hsl(0, 75%, 99%); opacity:1.0;                     line-height:1.75\"><font color=\"black\"> ?                    </font></mark><mark style=\"background-color: hsl(120, 75%, 100%); opacity:1.0;                     line-height:1.75\"><font color=\"black\"> Sexy                    </font></mark><mark style=\"background-color: hsl(120, 75%, 98%); opacity:1.0;                     line-height:1.75\"><font color=\"black\"> ?                    </font></mark><mark style=\"background-color: hsl(0, 75%, 100%); opacity:1.0;                     line-height:1.75\"><font color=\"black\"> ?                    </font></mark><mark style=\"background-color: hsl(120, 75%, 100%); opacity:1.0;                     line-height:1.75\"><font color=\"black\"> ?                    </font></mark><mark style=\"background-color: hsl(0, 75%, 100%); opacity:1.0;                     line-height:1.75\"><font color=\"black\"> ?                    </font></mark><mark style=\"background-color: hsl(120, 75%, 99%); opacity:1.0;                     line-height:1.75\"><font color=\"black\"> ?                    </font></mark><mark style=\"background-color: hsl(120, 75%, 99%); opacity:1.0;                     line-height:1.75\"><font color=\"black\"> ?                    </font></mark><mark style=\"background-color: hsl(120, 75%, 99%); opacity:1.0;                     line-height:1.75\"><font color=\"black\"> ?                    </font></mark><mark style=\"background-color: hsl(120, 75%, 99%); opacity:1.0;                     line-height:1.75\"><font color=\"black\"> ?                    </font></mark><mark style=\"background-color: hsl(120, 75%, 99%); opacity:1.0;                     line-height:1.75\"><font color=\"black\"> ?                    </font></mark><mark style=\"background-color: hsl(120, 75%, 94%); opacity:1.0;                     line-height:1.75\"><font color=\"black\"> ?                    </font></mark><mark style=\"background-color: hsl(120, 75%, 97%); opacity:1.0;                     line-height:1.75\"><font color=\"black\"> Bust                    </font></mark><mark style=\"background-color: hsl(120, 75%, 96%); opacity:1.0;                     line-height:1.75\"><font color=\"black\"> y                    </font></mark><mark style=\"background-color: hsl(0, 75%, 100%); opacity:1.0;                     line-height:1.75\"><font color=\"black\"> ?                    </font></mark><mark style=\"background-color: hsl(120, 75%, 97%); opacity:1.0;                     line-height:1.75\"><font color=\"black\"> ?                    </font></mark><mark style=\"background-color: hsl(120, 75%, 98%); opacity:1.0;                     line-height:1.75\"><font color=\"black\"> ?                    </font></mark><mark style=\"background-color: hsl(120, 75%, 98%); opacity:1.0;                     line-height:1.75\"><font color=\"black\"> ?                    </font></mark><mark style=\"background-color: hsl(120, 75%, 98%); opacity:1.0;                     line-height:1.75\"><font color=\"black\"> ?                    </font></mark><mark style=\"background-color: hsl(120, 75%, 99%); opacity:1.0;                     line-height:1.75\"><font color=\"black\"> ?                    </font></mark><mark style=\"background-color: hsl(120, 75%, 98%); opacity:1.0;                     line-height:1.75\"><font color=\"black\"> ?                    </font></mark><mark style=\"background-color: hsl(120, 75%, 99%); opacity:1.0;                     line-height:1.75\"><font color=\"black\"> ?                    </font></mark><mark style=\"background-color: hsl(120, 75%, 97%); opacity:1.0;                     line-height:1.75\"><font color=\"black\"> ?                    </font></mark><mark style=\"background-color: hsl(120, 75%, 93%); opacity:1.0;                     line-height:1.75\"><font color=\"black\"> ?                    </font></mark><mark style=\"background-color: hsl(0, 75%, 98%); opacity:1.0;                     line-height:1.75\"><font color=\"black\"> Sweet                    </font></mark><mark style=\"background-color: hsl(120, 75%, 100%); opacity:1.0;                     line-height:1.75\"><font color=\"black\"> ?                    </font></mark><mark style=\"background-color: hsl(120, 75%, 100%); opacity:1.0;                     line-height:1.75\"><font color=\"black\"> ?                    </font></mark><mark style=\"background-color: hsl(120, 75%, 98%); opacity:1.0;                     line-height:1.75\"><font color=\"black\"> ?                    </font></mark><mark style=\"background-color: hsl(120, 75%, 99%); opacity:1.0;                     line-height:1.75\"><font color=\"black\"> ?                    </font></mark><mark style=\"background-color: hsl(120, 75%, 98%); opacity:1.0;                     line-height:1.75\"><font color=\"black\"> ?                    </font></mark><mark style=\"background-color: hsl(120, 75%, 97%); opacity:1.0;                     line-height:1.75\"><font color=\"black\"> ?                    </font></mark><mark style=\"background-color: hsl(120, 75%, 92%); opacity:1.0;                     line-height:1.75\"><font color=\"black\"> ?                    </font></mark><mark style=\"background-color: hsl(120, 75%, 97%); opacity:1.0;                     line-height:1.75\"><font color=\"black\"> N                    </font></mark><mark style=\"background-color: hsl(0, 75%, 93%); opacity:1.0;                     line-height:1.75\"><font color=\"black\"> NN                    </font></mark><mark style=\"background-color: hsl(120, 75%, 81%); opacity:1.0;                     line-height:1.75\"><font color=\"black\"> N                    </font></mark><mark style=\"background-color: hsl(0, 75%, 96%); opacity:1.0;                     line-height:1.75\"><font color=\"black\"> NN                    </font></mark><mark style=\"background-color: hsl(120, 75%, 70%); opacity:1.0;                     line-height:1.75\"><font color=\"black\"> N                    </font></mark><mark style=\"background-color: hsl(0, 75%, 95%); opacity:1.0;                     line-height:1.75\"><font color=\"black\"> NN                    </font></mark><mark style=\"background-color: hsl(0, 75%, 100%); opacity:1.0;                     line-height:1.75\"><font color=\"black\"> N                    </font></mark><mark style=\"background-color: hsl(120, 75%, 93%); opacity:1.0;                     line-height:1.75\"><font color=\"black\"> ?                    </font></mark><mark style=\"background-color: hsl(120, 75%, 94%); opacity:1.0;                     line-height:1.75\"><font color=\"black\"> ?                    </font></mark><mark style=\"background-color: hsl(120, 75%, 86%); opacity:1.0;                     line-height:1.75\"><font color=\"black\"> ?                    </font></mark><mark style=\"background-color: hsl(0, 75%, 92%); opacity:1.0;                     line-height:1.75\"><font color=\"black\"> -                    </font></mark><mark style=\"background-color: hsl(0, 75%, 98%); opacity:1.0;                     line-height:1.75\"><font color=\"black\"> West                    </font></mark><mark style=\"background-color: hsl(0, 75%, 96%); opacity:1.0;                     line-height:1.75\"><font color=\"black\"> chester                    </font></mark><mark style=\"background-color: hsl(0, 75%, 96%); opacity:1.0;                     line-height:1.75\"><font color=\"black\"> esc                    </font></mark><mark style=\"background-color: hsl(0, 75%, 97%); opacity:1.0;                     line-height:1.75\"><font color=\"black\"> orts                    </font></mark><mark style=\"background-color: hsl(0, 75%, 94%); opacity:1.0;                     line-height:1.75\"><font color=\"black\"> -                    </font></mark><mark style=\"background-color: hsl(120, 75%, 98%); opacity:1.0;                     line-height:1.75\"><font color=\"black\"> <                    </font></mark><mark style=\"background-color: hsl(0, 75%, 99%); opacity:1.0;                     line-height:1.75\"><font color=\"black\"> L                    </font></mark><mark style=\"background-color: hsl(0, 75%, 100%); opacity:1.0;                     line-height:1.75\"><font color=\"black\"> INK                    </font></mark><mark style=\"background-color: hsl(0, 75%, 97%); opacity:1.0;                     line-height:1.75\"><font color=\"black\"> >                    </font></mark><mark style=\"background-color: hsl(0, 75%, 100%); opacity:1.0;                     line-height:1.75\"><font color=\"black\"> #/s                    </font></mark></td><tr></table>"
      ],
      "text/plain": [
       "<IPython.core.display.HTML object>"
      ]
     },
     "execution_count": 251,
     "metadata": {},
     "output_type": "execute_result"
    }
   ],
   "source": [
    "cls_explainer.visualize(\"../plots/vendor827_exp2.pdf\")"
   ]
  },
  {
   "cell_type": "markdown",
   "id": "fa0f1f3b-8c96-4f78-a8e3-94cf7b72e48e",
   "metadata": {},
   "source": [
    "# Generating the POS plot"
   ]
  },
  {
   "cell_type": "code",
   "execution_count": 15,
   "id": "f093cec6-d55e-445d-92d4-cf54d79bb418",
   "metadata": {
    "tags": []
   },
   "outputs": [],
   "source": [
    "import re"
   ]
  },
  {
   "cell_type": "code",
   "execution_count": 16,
   "id": "71d22fdd-f1f0-4048-9d15-fb6cc06b046f",
   "metadata": {
    "tags": []
   },
   "outputs": [],
   "source": [
    "def extract_word_attribution(df, vendor_id):\n",
    "    attribution_list = []\n",
    "    df_ = df[df.VENDOR == vendor_id]\n",
    "    \n",
    "    for text in df_.TEXT.to_list():\n",
    "        encoded_sent = tokenizer.encode(text)\n",
    "        decoded_sent = tokenizer.decode(encoded_sent)\n",
    "\n",
    "        decoded_sent = decoded_sent.replace(\"<s>\", \"\").replace(\"</s>\", \"\").replace(\"[SEP]\",\"\")\n",
    "        word_attributions = cls_explainer(decoded_sent)[1:-1]\n",
    "        decoded_sent = re.findall(r'\\w+|[^\\w \\t\\u00A0\\u1680\\u2000-\\u200A\\u202F\\u205F\\u3000]', decoded_sent)\n",
    "\n",
    "        returned_index = 0\n",
    "        for index, token  in enumerate(decoded_sent):\n",
    "            word = \"\"\n",
    "            score = 0.0\n",
    "            if token  == word_attributions[index][0]:\n",
    "                word = token \n",
    "                returned_index += 1\n",
    "            else:\n",
    "                while len(token ) > len(word):\n",
    "                    word += word_attributions[returned_index][0]\n",
    "                    score += word_attributions[returned_index][1]\n",
    "                    returned_index += 1\n",
    "            attribution_list.append((word, score))\n",
    "    \n",
    "    return attribution_list"
   ]
  },
  {
   "cell_type": "code",
   "execution_count": 17,
   "id": "3f0664cc-9b7b-489b-8456-a72da94ececa",
   "metadata": {
    "tags": []
   },
   "outputs": [],
   "source": [
    "def convert_attribution_list_to_dict(attribution_list):\n",
    "    attribution_dict = {}\n",
    "    \n",
    "    for index, (token, score) in enumerate(attribution_list):\n",
    "        if token in attribution_dict.keys():\n",
    "            attribution_dict[token] += score\n",
    "        else:\n",
    "            attribution_dict[token] = score\n",
    "            \n",
    "    attribution_dict = {k:v/np.sum(list(attribution_dict.values())) for k,v in attribution_dict.items() if v > 0}\n",
    "            \n",
    "    return attribution_dict"
   ]
  },
  {
   "cell_type": "code",
   "execution_count": 19,
   "id": "10146eea-025b-4f1c-b903-fcc356bc92bc",
   "metadata": {
    "tags": []
   },
   "outputs": [],
   "source": [
    "attribution_list_1 = extract_word_attribution(df, 11178)\n",
    "attribution_list_2 = extract_word_attribution(df, 11189)"
   ]
  },
  {
   "cell_type": "code",
   "execution_count": 20,
   "id": "d1bddbc3-827e-47b0-adf2-7b6c2252846a",
   "metadata": {
    "tags": []
   },
   "outputs": [],
   "source": [
    "attribution_dict1 = convert_attribution_list_to_dict(attribution_list_1)\n",
    "attribution_dict2 = convert_attribution_list_to_dict(attribution_list_2)"
   ]
  },
  {
   "cell_type": "markdown",
   "id": "bc4045ca-c068-4ade-8a42-48a85ce9e2c5",
   "metadata": {
    "tags": []
   },
   "source": [
    "# Plotting data"
   ]
  },
  {
   "cell_type": "code",
   "execution_count": 21,
   "id": "d07c53d5-9d5c-49b2-8077-3ca7f559ca67",
   "metadata": {
    "tags": []
   },
   "outputs": [],
   "source": [
    "import spacy\n",
    "from collections import defaultdict\n",
    "\n",
    "import heapq\n",
    "\n",
    "import plotly\n",
    "import plotly.express as px\n",
    "import plotly.graph_objects as go\n",
    "\n",
    "import plotly.io as pio\n",
    "pio.renderers.default = 'iframe'"
   ]
  },
  {
   "cell_type": "code",
   "execution_count": 22,
   "id": "3f950392-73dc-4e4a-805a-9b120f72ac64",
   "metadata": {
    "tags": []
   },
   "outputs": [],
   "source": [
    "nlp = spacy.load(\"en_core_web_trf\")"
   ]
  },
  {
   "cell_type": "code",
   "execution_count": 23,
   "id": "d827a3c3-f3e8-4309-b492-eee2f46eb12d",
   "metadata": {
    "tags": []
   },
   "outputs": [],
   "source": [
    "def assign_pos_to_tokens(attr_dict, k):\n",
    "    value_index = 1\n",
    "\n",
    "    pos_dict = defaultdict(list)\n",
    "    for text in attr_dict.keys():\n",
    "        doc = nlp(text)\n",
    "        for token in doc:\n",
    "            pos_dict[token.pos_].append((text, attr_dict[text]))\n",
    "            \n",
    "    # Sort the defaultdict and retrieve the top K entries based on the specified index\n",
    "    top_k_entries = {\n",
    "        key: sorted(values, key=lambda x: x[value_index], reverse=True)[:k]\n",
    "        for key, values in pos_dict.items()\n",
    "    }\n",
    "    \n",
    "    pos_dist = {}\n",
    "    for key, value in pos_dict.items():\n",
    "        pos_dist[key] = len(pos_dict[key])\n",
    "        \n",
    "    pos_dist = {k:v/np.sum(list(pos_dist.values())) for k,v in pos_dist.items()}\n",
    "    \n",
    "    return dict(top_k_entries), pos_dist"
   ]
  },
  {
   "cell_type": "code",
   "execution_count": 24,
   "id": "5c877c99-52fe-495f-8161-2f90db63cbfd",
   "metadata": {
    "tags": []
   },
   "outputs": [],
   "source": [
    "pos_dict1, pos_dist1 = assign_pos_to_tokens(attribution_dict1, k=2)\n",
    "pos_dict2, pos_dist2 = assign_pos_to_tokens(attribution_dict2, k=2)"
   ]
  },
  {
   "cell_type": "code",
   "execution_count": 54,
   "id": "2d507355-347c-402c-9777-cd455e1dc1cd",
   "metadata": {
    "tags": []
   },
   "outputs": [
    {
     "data": {
      "text/html": [
       "<iframe\n",
       "    scrolling=\"no\"\n",
       "    width=\"100%\"\n",
       "    height=\"545px\"\n",
       "    src=\"iframe_figures/figure_54.html\"\n",
       "    frameborder=\"0\"\n",
       "    allowfullscreen\n",
       "></iframe>\n"
      ]
     },
     "metadata": {},
     "output_type": "display_data"
    }
   ],
   "source": [
    "fig = go.Figure()\n",
    "# Plotting the bar plot\n",
    "\n",
    "fig.add_trace(go.Bar(x=list(pos_dist1.keys()), y=list(pos_dist1.values()), \n",
    "                     name=\"VENDOR 11178\", marker_color=\"red\", opacity=0.3))\n",
    "\n",
    "pos_list, token_list, attr_list = ([] for i in range(3))\n",
    "for pos, token_attr_pair in pos_dict1.items():\n",
    "    for token, attr in token_attr_pair:\n",
    "        pos_list.append(pos)\n",
    "        token_list.append(token)\n",
    "        attr_list.append(attr)\n",
    "        \n",
    "fig.add_trace(go.Scatter(x=pos_list, y=attr_list, text=token_list, \n",
    "                                 mode='text', marker_color=\"red\", name=\"VENDOR 11178\", \n",
    "                                 textfont={'color':\"red\", \"size\":18}))\n",
    "fig.update_layout(showlegend=False)\n",
    "# plotly.offline.plot(fig, filename = os.path.join(\"../plots/data_pos_dist.pdf\"), auto_open=False)\n",
    "fig.write_image(\"../plots/vendor_11178_pos_dist.pdf\", engine=\"kaleido\")\n",
    "\n",
    "fig.show()"
   ]
  },
  {
   "cell_type": "code",
   "execution_count": 55,
   "id": "86f54c1a-b628-4ee4-88cc-4bf767f9db0b",
   "metadata": {
    "tags": []
   },
   "outputs": [
    {
     "data": {
      "text/html": [
       "<iframe\n",
       "    scrolling=\"no\"\n",
       "    width=\"100%\"\n",
       "    height=\"545px\"\n",
       "    src=\"iframe_figures/figure_55.html\"\n",
       "    frameborder=\"0\"\n",
       "    allowfullscreen\n",
       "></iframe>\n"
      ]
     },
     "metadata": {},
     "output_type": "display_data"
    }
   ],
   "source": [
    "fig = go.Figure()\n",
    "# Plotting the bar plot\n",
    "\n",
    "fig.add_trace(go.Bar(x=list(pos_dist2.keys()), y=list(pos_dist2.values()), \n",
    "                     name=\"VENDOR 11189\", marker_color=\"green\", opacity=0.3))\n",
    "\n",
    "pos_list, token_list, attr_list = ([] for i in range(3))\n",
    "for pos, token_attr_pair in pos_dict2.items():\n",
    "    for token, attr in token_attr_pair:\n",
    "        pos_list.append(pos)\n",
    "        token_list.append(token)\n",
    "        attr_list.append(attr)\n",
    "        \n",
    "fig.add_trace(go.Scatter(x=pos_list, y=attr_list, text=token_list, \n",
    "                                 mode='text', marker_color=\"green\", name=\"VENDOR 11189\", \n",
    "                                 textfont={'color':\"green\", \"size\":18}))\n",
    "fig.update_layout(showlegend=False)\n",
    "# plotly.offline.plot(fig, filename = os.path.join(\"../plots/data_pos_dist.pdf\"), auto_open=False)\n",
    "fig.write_image(\"../plots/vendor_11189_pos_dist.pdf\", engine=\"kaleido\")\n",
    "\n",
    "fig.show()"
   ]
  },
  {
   "cell_type": "code",
   "execution_count": null,
   "id": "59595d7e-a0c2-4af8-8b1c-d8fc24b9b0fb",
   "metadata": {
    "tags": []
   },
   "outputs": [],
   "source": [
    "import plotly.graph_objects as go\n",
    "\n",
    "# Example dictionary\n",
    "my_dict = {\n",
    "    'Noun': [('apple', 0.5), ('banana', 0.8), ('orange', 0.6)],\n",
    "    'Verb': [('run', 0.9), ('jump', 0.7), ('swim', 0.5)],\n",
    "    'Adjective': [('big', 0.3), ('small', 0.4), ('fast', 0.6)]\n",
    "}\n",
    "\n",
    "# Create the bar plot for POS density\n",
    "bar_data = [\n",
    "    go.Bar(\n",
    "        x=list(my_dict.keys()),\n",
    "        y=[len(values) for values in my_dict.values()],\n",
    "        name='POS Density'\n",
    "    )\n",
    "]\n",
    "\n",
    "# Create the scatter plot for word attribution\n",
    "scatter_data = [\n",
    "    go.Scatter(\n",
    "        x=[pos_tag for pos_tag in my_dict.keys() for _ in range(len(my_dict[pos_tag]))],\n",
    "        y=[attribution for values in my_dict.values() for _, attribution in values],\n",
    "        mode='markers+text',\n",
    "        marker=dict(size=10, color='red'),\n",
    "        text=[word for values in my_dict.values() for word, _ in values],\n",
    "        hovertemplate='%{text}<br>Attribution: %{y}',\n",
    "        name='Word Attribution',\n",
    "        textposition='top center',\n",
    "        textfont=dict(size=14)\n",
    "    )\n",
    "]\n",
    "\n",
    "# Create the layout for the combined plot\n",
    "layout = go.Layout(\n",
    "    title='POS Density and Word Attribution',\n",
    "    xaxis=dict(title='POS Tags'),\n",
    "    yaxis=dict(title='Attribution Score'),\n",
    "    barmode='stack'\n",
    ")\n",
    "\n",
    "# Combine the bar plot and scatter plot\n",
    "fig = go.Figure(data=bar_data + scatter_data, layout=layout)\n",
    "\n",
    "# Add arrows to prevent scatter point overlap\n",
    "annotations = []\n",
    "for pos_tag, values in my_dict.items():\n",
    "    for word, attribution in values:\n",
    "        annotation = dict(\n",
    "            x=pos_tag,\n",
    "            y=attribution,\n",
    "            xref='x',\n",
    "            yref='y',\n",
    "            text=word,\n",
    "            showarrow=True,\n",
    "            arrowhead=2,\n",
    "            arrowsize=1,\n",
    "            arrowwidth=2,\n",
    "            arrowcolor='black',\n",
    "            ax=0,\n",
    "            ay=-30\n",
    "        )\n",
    "        annotations.append(annotation)\n",
    "\n",
    "fig.update_layout(annotations=annotations)\n",
    "\n",
    "# Display the plot\n",
    "fig.show()"
   ]
  }
 ],
 "metadata": {
  "kernelspec": {
   "display_name": "Python 3 (ipykernel)",
   "language": "python",
   "name": "python3"
  },
  "language_info": {
   "codemirror_mode": {
    "name": "ipython",
    "version": 3
   },
   "file_extension": ".py",
   "mimetype": "text/x-python",
   "name": "python",
   "nbconvert_exporter": "python",
   "pygments_lexer": "ipython3",
   "version": "3.8.10"
  }
 },
 "nbformat": 4,
 "nbformat_minor": 5
}
