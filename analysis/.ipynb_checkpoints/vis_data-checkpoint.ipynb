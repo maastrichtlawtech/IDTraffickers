{
 "cells": [
  {
   "cell_type": "markdown",
   "id": "1717540e-8d62-472f-96a9-4bc93702bf9e",
   "metadata": {},
   "source": [
    "# Importing libraires"
   ]
  },
  {
   "cell_type": "code",
   "execution_count": null,
   "id": "9fabdfbe-b55e-4e3b-a36b-d7e81deba4b6",
   "metadata": {
    "tags": []
   },
   "outputs": [],
   "source": [
    "import os\n",
    "from collections import Counter, defaultdict\n",
    "\n",
    "import pandas as pd\n",
    "from tqdm import tqdm\n",
    "\n",
    "import pickle\n",
    "\n",
    "import networkx \n",
    "from networkx.algorithms.components.connected import connected_components\n",
    "\n",
    "import scipy\n",
    "import spacy\n",
    "\n",
    "import plotly.graph_objects as go\n",
    "import plotly.express as px"
   ]
  },
  {
   "cell_type": "code",
   "execution_count": null,
   "id": "b16724c6-0453-499b-b70f-c2b1552d88cf",
   "metadata": {
    "tags": []
   },
   "outputs": [],
   "source": [
    "import plotly.io as pio\n",
    "pio.renderers.default = 'iframe'"
   ]
  },
  {
   "cell_type": "code",
   "execution_count": null,
   "id": "c606653a-c034-461d-a90b-fbffd850cb75",
   "metadata": {
    "tags": []
   },
   "outputs": [],
   "source": [
    "nlp = spacy.load(\"en_core_web_trf\")"
   ]
  },
  {
   "cell_type": "markdown",
   "id": "5fba3597-dc74-48d1-a9e2-15404e3448ba",
   "metadata": {},
   "source": [
    "# Importing structured data"
   ]
  },
  {
   "cell_type": "code",
   "execution_count": 8,
   "id": "ba7fda0c-8fe8-41e2-8e74-eebda7ed821a",
   "metadata": {
    "tags": []
   },
   "outputs": [],
   "source": [
    "east_df = pd.read_csv(\"../data/structured/TEXT/east.csv\", low_memory=False)\n",
    "west_df = pd.read_csv(\"../data/structured/TEXT/west.csv\", low_memory=False)\n",
    "north_df = pd.read_csv(\"../data/structured/TEXT/north.csv\", low_memory=False)\n",
    "south_df = pd.read_csv(\"../data/structured/TEXT/south.csv\", low_memory=False)\n",
    "central_df = pd.read_csv(\"../data/structured/TEXT/central.csv\", low_memory=False)"
   ]
  },
  {
   "cell_type": "markdown",
   "id": "907d9682-5a73-4c90-bf13-72312c1c9259",
   "metadata": {},
   "source": [
    "# Visualizing data"
   ]
  },
  {
   "cell_type": "code",
   "execution_count": 5,
   "id": "d914f534-a775-4e1f-a8b5-393ce625ad61",
   "metadata": {},
   "outputs": [],
   "source": [
    "def get_image_count(df):\n",
    "    images = df[df['IMAGES'].notnull()]['IMAGES'].to_list()\n",
    "    images = [eval(image) for image in images]\n",
    "    images = [item for items in images for item in items]\n",
    "    return len(set(images))"
   ]
  },
  {
   "cell_type": "code",
   "execution_count": 6,
   "id": "c5269430-adfb-4a45-bf93-db75bc255d55",
   "metadata": {},
   "outputs": [],
   "source": [
    "east_df = east_df[east_df.VENDOR != 0][[\"TEXT\", \"IMAGES\", \"PHONES\", \"CITY\", \"VENDOR\"]].drop_duplicates()\n",
    "west_df = west_df[west_df.VENDOR != 0][[\"TEXT\", \"IMAGES\", \"PHONES\", \"CITY\", \"VENDOR\"]].drop_duplicates()\n",
    "north_df = north_df[north_df.VENDOR != 0][[\"TEXT\", \"IMAGES\", \"PHONES\", \"CITY\", \"VENDOR\"]].drop_duplicates()\n",
    "south_df = south_df[south_df.VENDOR != 0][[\"TEXT\", \"IMAGES\", \"PHONES\", \"CITY\", \"VENDOR\"]].drop_duplicates()\n",
    "central_df = central_df[central_df.VENDOR != 0][[\"TEXT\", \"IMAGES\", \"PHONES\", \"CITY\", \"VENDOR\"]].drop_duplicates()"
   ]
  },
  {
   "cell_type": "code",
   "execution_count": 17,
   "id": "6b1fa38b-ab5a-4aca-b26a-0cbda41f4377",
   "metadata": {},
   "outputs": [
    {
     "data": {
      "text/plain": [
       "' Hey Fellas Im Jovi Im Available From Now Until Whenever My Rates Are Very Reasonable Im Available For In-Call In Hazleton Only Pictures Sent As Requested, Very Clean Private And Discrete Location Call Or Text For More Info 570-710-1502 Posters age: 21 • Location: Hazleton \"In-Call\" Only, Scranton • Post ID: 32881137 scranton email to friend [SEP]  Young Hot And Ready For Fun  [SEP]  Come Spend Time With Little Fun-Sized Jovi?????? - Scranton escorts - backpage.com'"
      ]
     },
     "execution_count": 17,
     "metadata": {},
     "output_type": "execute_result"
    }
   ],
   "source": [
    "east_df['TEXT'][764]"
   ]
  },
  {
   "cell_type": "code",
   "execution_count": 7,
   "id": "4c8f7624-b16d-4fdb-a312-17e608814022",
   "metadata": {},
   "outputs": [],
   "source": [
    "stat_dict = {\"Demographics\" : ['east', 'west', 'north', 'south', 'central'],\n",
    "             \"TEXT ADS\" : [east_df.shape[0], west_df.shape[0], north_df.shape[0], south_df.shape[0], central_df.shape[0]],\n",
    "             \"Vendors\" : [east_df.VENDOR.nunique(), west_df.VENDOR.nunique(), north_df.VENDOR.nunique(), south_df.VENDOR.nunique(), central_df.VENDOR.nunique()],\n",
    "             \"IMAGES\" : [get_image_count(east_df), get_image_count(west_df), get_image_count(north_df), get_image_count(south_df), get_image_count(central_df)],\n",
    "             \"Multimodal\" : [east_df.dropna().shape[0], west_df.dropna().shape[0], north_df.dropna().shape[0], south_df.dropna().shape[0], central_df.dropna().shape[0]]\n",
    "            }"
   ]
  },
  {
   "cell_type": "code",
   "execution_count": 8,
   "id": "969150e6-55b4-4f77-b829-18c0a0ca04f9",
   "metadata": {},
   "outputs": [
    {
     "data": {
      "text/html": [
       "<div>\n",
       "<style scoped>\n",
       "    .dataframe tbody tr th:only-of-type {\n",
       "        vertical-align: middle;\n",
       "    }\n",
       "\n",
       "    .dataframe tbody tr th {\n",
       "        vertical-align: top;\n",
       "    }\n",
       "\n",
       "    .dataframe thead th {\n",
       "        text-align: right;\n",
       "    }\n",
       "</style>\n",
       "<table border=\"1\" class=\"dataframe\">\n",
       "  <thead>\n",
       "    <tr style=\"text-align: right;\">\n",
       "      <th></th>\n",
       "      <th>Demographics</th>\n",
       "      <th>TEXT ADS</th>\n",
       "      <th>Vendors</th>\n",
       "      <th>IMAGES</th>\n",
       "      <th>Multimodal</th>\n",
       "    </tr>\n",
       "  </thead>\n",
       "  <tbody>\n",
       "    <tr>\n",
       "      <th>0</th>\n",
       "      <td>east</td>\n",
       "      <td>60814</td>\n",
       "      <td>5028</td>\n",
       "      <td>14212</td>\n",
       "      <td>2319</td>\n",
       "    </tr>\n",
       "    <tr>\n",
       "      <th>1</th>\n",
       "      <td>west</td>\n",
       "      <td>48625</td>\n",
       "      <td>2575</td>\n",
       "      <td>12664</td>\n",
       "      <td>2740</td>\n",
       "    </tr>\n",
       "    <tr>\n",
       "      <th>2</th>\n",
       "      <td>north</td>\n",
       "      <td>3581</td>\n",
       "      <td>253</td>\n",
       "      <td>5552</td>\n",
       "      <td>1251</td>\n",
       "    </tr>\n",
       "    <tr>\n",
       "      <th>3</th>\n",
       "      <td>south</td>\n",
       "      <td>39426</td>\n",
       "      <td>2290</td>\n",
       "      <td>59294</td>\n",
       "      <td>11786</td>\n",
       "    </tr>\n",
       "    <tr>\n",
       "      <th>4</th>\n",
       "      <td>central</td>\n",
       "      <td>38571</td>\n",
       "      <td>2927</td>\n",
       "      <td>28739</td>\n",
       "      <td>6024</td>\n",
       "    </tr>\n",
       "  </tbody>\n",
       "</table>\n",
       "</div>"
      ],
      "text/plain": [
       "  Demographics  TEXT ADS  Vendors  IMAGES  Multimodal\n",
       "0         east     60814     5028   14212        2319\n",
       "1         west     48625     2575   12664        2740\n",
       "2        north      3581      253    5552        1251\n",
       "3        south     39426     2290   59294       11786\n",
       "4      central     38571     2927   28739        6024"
      ]
     },
     "execution_count": 8,
     "metadata": {},
     "output_type": "execute_result"
    }
   ],
   "source": [
    "df = pd.DataFrame(stat_dict)\n",
    "df"
   ]
  },
  {
   "cell_type": "code",
   "execution_count": 7,
   "id": "85ed8761-8818-4a84-a1d6-c15873859565",
   "metadata": {},
   "outputs": [
    {
     "data": {
      "text/plain": [
       "'east_df.to_csv(\"../data/structured/TEXT/east.csv\")\\nwest_df.to_csv(\"../data/structured/TEXT/west.csv\")\\nnorth_df.to_csv(\"../data/structured/TEXT/north.csv\")\\nsouth_df.to_csv(\"../data/structured/TEXT/south.csv\")\\ncentral_df.to_csv(\"../data/structured/TEXT/central.csv\")'"
      ]
     },
     "execution_count": 7,
     "metadata": {},
     "output_type": "execute_result"
    }
   ],
   "source": [
    "\"\"\"east_df.to_csv(\"../data/structured/TEXT/east.csv\")\n",
    "west_df.to_csv(\"../data/structured/TEXT/west.csv\")\n",
    "north_df.to_csv(\"../data/structured/TEXT/north.csv\")\n",
    "south_df.to_csv(\"../data/structured/TEXT/south.csv\")\n",
    "central_df.to_csv(\"../data/structured/TEXT/central.csv\")\"\"\""
   ]
  },
  {
   "cell_type": "code",
   "execution_count": 8,
   "id": "fcc07b31-4750-4dee-bf73-1eeab7623d32",
   "metadata": {},
   "outputs": [],
   "source": [
    "def generate_violin_plot(data_df_dict, visualize=\"class-freq\"):\n",
    "    \"\"\"\n",
    "    param data_df_dict : Dictionary of all dataframes\n",
    "                       : should have east, west, north, south, and central as the keys to the associated dataframes\n",
    "    param visualize : Can be class-freq for visualizing number of ads/vendor and len-dist for length of the text ad\n",
    "    \"\"\"\n",
    "    # Extracting class frequencies\n",
    "    east_class_freq = list(dict(sorted(dict(Counter(data_df_dict[\"east\"].VENDOR)).items())).values())\n",
    "    west_class_freq = list(dict(sorted(dict(Counter(data_df_dict[\"west\"].VENDOR)).items())).values())\n",
    "    north_class_freq = list(dict(sorted(dict(Counter(data_df_dict[\"north\"].VENDOR)).items())).values())\n",
    "    south_class_freq = list(dict(sorted(dict(Counter(data_df_dict[\"south\"].VENDOR)).items())).values())\n",
    "    central_class_freq = list(dict(sorted(dict(Counter(data_df_dict[\"central\"].VENDOR)).items())).values())\n",
    "    \n",
    "    # Extracting length of the sentences\n",
    "    east_sen_len = [len(sent.split(\" \")) for sent in data_df_dict[\"east\"].TEXT.to_list()]\n",
    "    west_sen_len = [len(sent.split(\" \")) for sent in data_df_dict[\"west\"].TEXT.to_list()]\n",
    "    north_sen_len = [len(sent.split(\" \")) for sent in data_df_dict[\"north\"].TEXT.to_list()]\n",
    "    south_sen_len = [len(sent.split(\" \")) for sent in data_df_dict[\"south\"].TEXT.to_list()]\n",
    "    central_sen_len = [len(sent.split(\" \")) for sent in data_df_dict[\"central\"].TEXT.to_list()]\n",
    "    \n",
    "    value = east_class_freq + east_sen_len + west_class_freq + west_sen_len + north_class_freq + north_sen_len + south_class_freq + south_sen_len + central_class_freq + central_sen_len \n",
    "    \n",
    "    east_feature = [\"class-freq\"] * len(east_class_freq) + [\"sent-len\"] * len(east_sen_len)\n",
    "    west_feature = [\"class-freq\"] * len(west_class_freq) + [\"sent-len\"] * len(west_sen_len)\n",
    "    north_feature = [\"class-freq\"] * len(north_class_freq) + [\"sent-len\"] * len(north_sen_len)\n",
    "    south_feature = [\"class-freq\"] * len(south_class_freq) + [\"sent-len\"] * len(south_sen_len)\n",
    "    central_feature = [\"class-freq\"] * len(central_class_freq) + [\"sent-len\"] * len(central_sen_len)\n",
    "    features = east_feature + west_feature + north_feature + south_feature + central_feature\n",
    "    \n",
    "    demographics = [\"East\"] * len(east_feature) + [\"West\"] * len(west_feature) + [\"North\"] * len(north_feature) + [\"South\"] * len(south_feature) + [\"Central\"] * len(central_feature) \n",
    "    \n",
    "    # Creating an empty dataframe with 'demographics', 'feature', and 'value' as the column names\n",
    "    df = pd.DataFrame({\"demo\": demographics, \"features\": features, \"value\": value})\n",
    "    \n",
    "    # Plotting figure\n",
    "    fig = go.Figure()\n",
    "    fig.add_trace(go.Violin(x=df['demo'][ df['features'] == 'class-freq'],\n",
    "                            y=df['value'][ df['features'] == 'class-freq'],\n",
    "                            legendgroup='Yes', scalegroup='Yes', name='class-freq',\n",
    "                            side='negative',\n",
    "                            line_color='red')\n",
    "                 )\n",
    "    fig.add_trace(go.Violin(x=df['demo'][ df['features'] == 'sent-len'],\n",
    "                            y=df['value'][ df['features'] == 'sent-len'],\n",
    "                            legendgroup='No', scalegroup='No', name='sent-len',\n",
    "                            side='positive',\n",
    "                            line_color='green')\n",
    "                 )\n",
    "    fig.update_traces(meanline_visible=True)\n",
    "    fig.update_layout(violingap=0, violinmode='overlay')\n",
    "    \n",
    "    fig.update_layout(\n",
    "    title= \"Box plot inidicating class-frequency and sentence-len distributions for all datasets\",\n",
    "    xaxis_title=\"Demographics\",\n",
    "    yaxis_title=\"Frequency\",\n",
    "    font=dict(\n",
    "        family=\"Courier New, monospace\",\n",
    "        size=18,\n",
    "        color=\"Black\"\n",
    "    ))\n",
    "    \n",
    "    fig.show('iframe')"
   ]
  },
  {
   "cell_type": "code",
   "execution_count": 9,
   "id": "c80256a0-4d41-4be6-9266-8a852bc613f2",
   "metadata": {},
   "outputs": [
    {
     "data": {
      "text/html": [
       "<iframe\n",
       "    scrolling=\"no\"\n",
       "    width=\"100%\"\n",
       "    height=\"545px\"\n",
       "    src=\"iframe_figures/figure_9.html\"\n",
       "    frameborder=\"0\"\n",
       "    allowfullscreen\n",
       "></iframe>\n"
      ]
     },
     "metadata": {},
     "output_type": "display_data"
    }
   ],
   "source": [
    "generate_violin_plot({\"east\": east_df, \"west\" : west_df, \"north\": north_df, \"south\": south_df, \"central\": central_df})"
   ]
  },
  {
   "cell_type": "markdown",
   "id": "310f2943-df03-4dfa-85ff-cf53875a7059",
   "metadata": {},
   "source": [
    "# Finding common vendors"
   ]
  },
  {
   "cell_type": "code",
   "execution_count": 10,
   "id": "715b0dae-f7ed-414b-bd6c-0f6861c53738",
   "metadata": {},
   "outputs": [],
   "source": [
    "def find_common_vendors(data1_df, data2_df):\n",
    "    return set(data1_df.VENDOR.to_list()) & set(data2_df.VENDOR.to_list())"
   ]
  },
  {
   "cell_type": "code",
   "execution_count": 11,
   "id": "4296257a-03ab-4021-9fc9-5c721fb83541",
   "metadata": {},
   "outputs": [],
   "source": [
    "all_data = [east_df, west_df, north_df, south_df, central_df]\n",
    "\n",
    "outer_list = []\n",
    "for index1, data1 in enumerate(all_data):\n",
    "    inner_list = []\n",
    "    for index2, data2 in enumerate(all_data):\n",
    "        inner_list.append(len(find_common_vendors(data1, data2)))\n",
    "    outer_list.append(inner_list)"
   ]
  },
  {
   "cell_type": "code",
   "execution_count": 12,
   "id": "32d163e1-f945-4902-8324-28f096a2bed5",
   "metadata": {},
   "outputs": [
    {
     "data": {
      "text/html": [
       "<iframe\n",
       "    scrolling=\"no\"\n",
       "    width=\"100%\"\n",
       "    height=\"545px\"\n",
       "    src=\"iframe_figures/figure_12.html\"\n",
       "    frameborder=\"0\"\n",
       "    allowfullscreen\n",
       "></iframe>\n"
      ]
     },
     "metadata": {},
     "output_type": "display_data"
    }
   ],
   "source": [
    "fig = px.imshow(outer_list, text_auto=True, aspect=\"auto\", labels=dict(x=\"Demographics\", y=\"Demographics\", color=\"Productivity\"),\n",
    "                x=['EAST', 'WEST', 'NORTH', 'SOUTH', 'CENTRAL'],\n",
    "                y=['EAST', 'WEST', 'NORTH', 'SOUTH', 'CENTRAL']\n",
    "               )\n",
    "\n",
    "fig.show('iframe')"
   ]
  },
  {
   "cell_type": "markdown",
   "id": "3792d282-7203-467c-b516-19e5574eb2bb",
   "metadata": {},
   "source": [
    "# Loading Processed data"
   ]
  },
  {
   "cell_type": "code",
   "execution_count": 10,
   "id": "b112b3f6-a41e-401f-94d1-51c402805ca1",
   "metadata": {},
   "outputs": [],
   "source": [
    "east_df = pd.read_csv(\"../data/processed/TEXT/east.csv\", low_memory=False)\n",
    "west_df = pd.read_csv(\"../data/processed/TEXT/west.csv\", low_memory=False)\n",
    "north_df = pd.read_csv(\"../data/processed/TEXT/north.csv\", low_memory=False)\n",
    "south_df = pd.read_csv(\"../data/processed/TEXT/south.csv\", low_memory=False)\n",
    "central_df = pd.read_csv(\"../data/processed/TEXT/central.csv\", low_memory=False)"
   ]
  },
  {
   "cell_type": "code",
   "execution_count": 4,
   "id": "1c891a03-8adb-416e-a2bd-a55bd661d354",
   "metadata": {},
   "outputs": [],
   "source": [
    "def find_pos_dep(data_df):\n",
    "    pos_dict = defaultdict(list)\n",
    "    dep_dict = defaultdict(list)\n",
    "    ads = data_df.TEXT.to_list()\n",
    "    pbar = tqdm(total=len(ads))\n",
    "    \n",
    "    for text in ads:\n",
    "        doc = nlp(text)\n",
    "        for token in doc:\n",
    "            pos_dict[token.pos_].append(token.text)\n",
    "            dep_dict[token.dep_].append(token.text)\n",
    "        pbar.update(1)\n",
    "    \n",
    "    pbar.close()\n",
    "    return dict(pos_dict), dict(dep_dict)"
   ]
  },
  {
   "cell_type": "code",
   "execution_count": null,
   "id": "c021a43b-94b6-4c17-9e83-5c817528842e",
   "metadata": {},
   "outputs": [
    {
     "name": "stderr",
     "output_type": "stream",
     "text": [
      " 40%|████      | 16311/40534 [21:53<44:24,  9.09it/s]  "
     ]
    }
   ],
   "source": [
    "# pos_dict_north, dep_dict_north = find_pos_dep(north_df)\n",
    "# pos_dict_east, dep_dict_east = find_pos_dep(east_df)\n",
    "# pos_dict_west, dep_dict_west = find_pos_dep(west_df)\n",
    "# pos_dict_south, dep_dict_south = find_pos_dep(south_df)\n",
    "# pos_dict_central, dep_dict_central = find_pos_dep(central_df)"
   ]
  },
  {
   "cell_type": "code",
   "execution_count": null,
   "id": "f97f9bb7-6025-4b0e-8182-61942e9c8d36",
   "metadata": {},
   "outputs": [],
   "source": [
    "\"\"\"with open('../pickled/pos_dict_north.pickle', 'wb') as handle:\n",
    "    pickle.dump(pos_dict_north, handle, protocol=pickle.HIGHEST_PROTOCOL)\n",
    "    \n",
    "with open('../pickled/dep_dict_north.pickle', 'wb') as handle:\n",
    "    pickle.dump(dep_dict_north, handle, protocol=pickle.HIGHEST_PROTOCOL)\n",
    "    \n",
    "with open('../pickled/pos_dict_east.pickle', 'wb') as handle:\n",
    "    pickle.dump(pos_dict_east, handle, protocol=pickle.HIGHEST_PROTOCOL)\n",
    "\n",
    "with open('../pickled/dep_dict_east.pickle', 'wb') as handle:\n",
    "    pickle.dump(dep_dict_east, handle, protocol=pickle.HIGHEST_PROTOCOL)\n",
    "    \n",
    "with open('../pickled/pos_dict_west.pickle', 'wb') as handle:\n",
    "    pickle.dump(pos_dict_west, handle, protocol=pickle.HIGHEST_PROTOCOL)\n",
    "    \n",
    "with open('../pickled/dep_dict_west.pickle', 'wb') as handle:\n",
    "    pickle.dump(dep_dict_west, handle, protocol=pickle.HIGHEST_PROTOCOL)\n",
    "    \n",
    "with open('../pickled/pos_dict_south.pickle', 'wb') as handle:\n",
    "    pickle.dump(pos_dict_south, handle, protocol=pickle.HIGHEST_PROTOCOL)\n",
    "    \n",
    "with open('../pickled/dep_dict_south.pickle', 'wb') as handle:\n",
    "    pickle.dump(dep_dict_south, handle, protocol=pickle.HIGHEST_PROTOCOL)\n",
    "    \n",
    "with open('../pickled/pos_dict_central.pickle', 'wb') as handle:\n",
    "    pickle.dump(pos_dict_central, handle, protocol=pickle.HIGHEST_PROTOCOL)\n",
    "    \n",
    "with open('../pickled/dep_dict_central.pickle', 'wb') as handle:\n",
    "    pickle.dump(dep_dict_central, handle, protocol=pickle.HIGHEST_PROTOCOL)\n",
    "\"\"\""
   ]
  },
  {
   "cell_type": "code",
   "execution_count": 7,
   "id": "aa7fd9d8-b7a9-4e1d-9ba7-c218f5601ebd",
   "metadata": {},
   "outputs": [],
   "source": [
    "def find_ner(data_df):\n",
    "    ner_dict = defaultdict(list)\n",
    "    ads = data_df.TEXT.to_list()\n",
    "    pbar = tqdm(total=len(ads))\n",
    "    \n",
    "    for text in ads:\n",
    "        doc = nlp(text)\n",
    "        for token in doc.ents:\n",
    "            ner_dict[token.label_].append(token.text)\n",
    "        pbar.update(1)\n",
    "    \n",
    "    pbar.close()\n",
    "    return dict(ner_dict)"
   ]
  },
  {
   "cell_type": "code",
   "execution_count": null,
   "id": "3d14eedd-b712-4a60-b0c6-b6baf6c30a0b",
   "metadata": {},
   "outputs": [],
   "source": [
    "\"\"\"ner_dict_north = find_ner(north_df)\n",
    "ner_dict_east = find_ner(east_df)\n",
    "ner_dict_west = find_ner(west_df)\n",
    "ner_dict_south = find_ner(south_df)\n",
    "ner_dict_central = find_ner(central_df)\n",
    "\n",
    "with open('../pickled/ner_dict_north.pickle', 'wb') as handle:\n",
    "    pickle.dump(ner_dict_north, handle, protocol=pickle.HIGHEST_PROTOCOL)\n",
    "    \n",
    "with open('../pickled/ner_dict_east.pickle', 'wb') as handle:\n",
    "    pickle.dump(ner_dict_east, handle, protocol=pickle.HIGHEST_PROTOCOL)\n",
    "    \n",
    "with open('../pickled/ner_dict_west.pickle', 'wb') as handle:\n",
    "    pickle.dump(ner_dict_west, handle, protocol=pickle.HIGHEST_PROTOCOL)\n",
    "    \n",
    "with open('../pickled/ner_dict_south.pickle', 'wb') as handle:\n",
    "    pickle.dump(ner_dict_south, handle, protocol=pickle.HIGHEST_PROTOCOL)\n",
    "    \n",
    "with open('../pickled/ner_dict_central.pickle', 'wb') as handle:\n",
    "    pickle.dump(ner_dict_central, handle, protocol=pickle.HIGHEST_PROTOCOL)\"\"\""
   ]
  },
  {
   "cell_type": "markdown",
   "id": "e26d50af-151d-40d6-b92e-4423a78a63ae",
   "metadata": {},
   "source": [
    "# Loading processed data"
   ]
  },
  {
   "cell_type": "code",
   "execution_count": null,
   "id": "43ef8c34-c634-4a6a-9ffc-e5be3835ba9c",
   "metadata": {
    "tags": []
   },
   "outputs": [],
   "source": [
    "with open('../pickled/pos_dict_north.pickle', 'rb') as handle:\n",
    "    pos_dict_north = pickle.load(handle)\n",
    "    \n",
    "with open('../pickled/pos_dict_south.pickle', 'rb') as handle:\n",
    "    pos_dict_south = pickle.load(handle)\n",
    "    \n",
    "with open('../pickled/pos_dict_east.pickle', 'rb') as handle:\n",
    "    pos_dict_east = pickle.load(handle)\n",
    "    \n",
    "with open('../pickled/pos_dict_west.pickle', 'rb') as handle:\n",
    "    pos_dict_west = pickle.load(handle)\n",
    "    \n",
    "with open('../pickled/pos_dict_central.pickle', 'rb') as handle:\n",
    "    pos_dict_central = pickle.load(handle)\n",
    "    \n",
    "with open('../pickled/dep_dict_north.pickle', 'rb') as handle:\n",
    "    dep_dict_north = pickle.load(handle)\n",
    "    \n",
    "with open('../pickled/dep_dict_south.pickle', 'rb') as handle:\n",
    "    dep_dict_south = pickle.load(handle)\n",
    "    \n",
    "with open('../pickled/dep_dict_east.pickle', 'rb') as handle:\n",
    "    dep_dict_east = pickle.load(handle)\n",
    "    \n",
    "with open('../pickled/dep_dict_west.pickle', 'rb') as handle:\n",
    "    dep_dict_west = pickle.load(handle)\n",
    "    \n",
    "with open('../pickled/dep_dict_central.pickle', 'rb') as handle:\n",
    "    dep_dict_central = pickle.load(handle)\n",
    "    \n",
    "with open('../pickled/ner_dict_north.pickle', 'rb') as handle:\n",
    "    ner_dict_north = pickle.load(handle)\n",
    "    \n",
    "with open('../pickled/ner_dict_south.pickle', 'rb') as handle:\n",
    "    ner_dict_south = pickle.load(handle)\n",
    "    \n",
    "with open('../pickled/ner_dict_east.pickle', 'rb') as handle:\n",
    "    ner_dict_east = pickle.load(handle)\n",
    "    \n",
    "with open('../pickled/ner_dict_west.pickle', 'rb') as handle:\n",
    "    ner_dict_west = pickle.load(handle)\n",
    "    \n",
    "with open('../pickled/ner_dict_central.pickle', 'rb') as handle:\n",
    "    ner_dict_central = pickle.load(handle)"
   ]
  },
  {
   "cell_type": "code",
   "execution_count": null,
   "id": "641c26d2-c244-4cb1-82b5-c572ae425d65",
   "metadata": {
    "tags": []
   },
   "outputs": [],
   "source": [
    "def get_dict_density(tag_dict):\n",
    "    tag_dict = {k:len(v) for k,v in tag_dict.items()}\n",
    "    tag_dict = {k:v/sum(list(tag_dict.values())) for k,v in tag_dict.items()}\n",
    "    return tag_dict "
   ]
  },
  {
   "cell_type": "code",
   "execution_count": null,
   "id": "4941836d-9a5a-4ca0-8ae7-474c5be42d65",
   "metadata": {
    "tags": []
   },
   "outputs": [],
   "source": [
    "pos_dict_west = get_dict_density(pos_dict_west)\n",
    "pos_dict_east = get_dict_density(pos_dict_east)\n",
    "pos_dict_north = get_dict_density(pos_dict_north)\n",
    "pos_dict_south = get_dict_density(pos_dict_south)\n",
    "pos_dict_central = get_dict_density(pos_dict_central)\n",
    "\n",
    "dep_dict_west = get_dict_density(dep_dict_west)\n",
    "dep_dict_east = get_dict_density(dep_dict_east)\n",
    "dep_dict_north = get_dict_density(dep_dict_north)\n",
    "dep_dict_south = get_dict_density(dep_dict_south)\n",
    "dep_dict_central = get_dict_density(dep_dict_central)\n",
    "\n",
    "ner_dict_west = get_dict_density(ner_dict_west)\n",
    "ner_dict_east = get_dict_density(ner_dict_east)\n",
    "ner_dict_north = get_dict_density(ner_dict_north)\n",
    "ner_dict_south = get_dict_density(ner_dict_south)\n",
    "ner_dict_central = get_dict_density(ner_dict_central)"
   ]
  },
  {
   "cell_type": "code",
   "execution_count": null,
   "id": "3ea2ad28-5fc1-4d14-8c88-69e133ad95c8",
   "metadata": {
    "tags": []
   },
   "outputs": [],
   "source": [
    "fig = go.Figure()\n",
    "fig.add_trace(go.Bar(x=list(pos_dict_east.keys()), y=list(pos_dict_east.values()), \n",
    "                             name=\"East\", marker_color=\"red\", opacity=0.3))\n",
    "fig.add_trace(go.Bar(x=list(pos_dict_west.keys()), y=list(pos_dict_west.values()), \n",
    "                             name=\"West\", marker_color=\"blue\", opacity=0.3))\n",
    "fig.add_trace(go.Bar(x=list(pos_dict_north.keys()), y=list(pos_dict_west.values()), \n",
    "                             name=\"North\", marker_color=\"green\", opacity=0.3))\n",
    "fig.add_trace(go.Bar(x=list(pos_dict_south.keys()), y=list(pos_dict_west.values()), \n",
    "                             name=\"South\", marker_color=\"orange\", opacity=0.3))\n",
    "fig.add_trace(go.Bar(x=list(pos_dict_central.keys()), y=list(pos_dict_west.values()), \n",
    "                             name=\"Central\", marker_color=\"black\", opacity=0.3))\n",
    "fig.show()"
   ]
  },
  {
   "cell_type": "code",
   "execution_count": null,
   "id": "9f959d47-7a7d-4168-a872-ed9b2c67939f",
   "metadata": {
    "tags": []
   },
   "outputs": [],
   "source": [
    "fig = go.Figure()\n",
    "fig.add_trace(go.Bar(x=list(dep_dict_east.keys()), y=list(dep_dict_east.values()), \n",
    "                             name=\"East\", marker_color=\"red\", opacity=0.3))\n",
    "fig.add_trace(go.Bar(x=list(dep_dict_west.keys()), y=list(dep_dict_west.values()), \n",
    "                             name=\"West\", marker_color=\"blue\", opacity=0.3))\n",
    "fig.add_trace(go.Bar(x=list(dep_dict_north.keys()), y=list(dep_dict_west.values()), \n",
    "                             name=\"North\", marker_color=\"green\", opacity=0.3))\n",
    "fig.add_trace(go.Bar(x=list(dep_dict_south.keys()), y=list(dep_dict_west.values()), \n",
    "                             name=\"South\", marker_color=\"orange\", opacity=0.3))\n",
    "fig.add_trace(go.Bar(x=list(dep_dict_central.keys()), y=list(dep_dict_west.values()), \n",
    "                             name=\"Central\", marker_color=\"black\", opacity=0.3))\n",
    "fig.show()"
   ]
  },
  {
   "cell_type": "code",
   "execution_count": null,
   "id": "6eb0cd52-145d-49a8-98f8-3290d29fd5b8",
   "metadata": {
    "tags": []
   },
   "outputs": [],
   "source": [
    "fig = go.Figure()\n",
    "fig.add_trace(go.Bar(x=list(ner_dict_east.keys()), y=list(ner_dict_east.values()), \n",
    "                             name=\"East\", marker_color=\"red\", opacity=0.3))\n",
    "fig.add_trace(go.Bar(x=list(ner_dict_west.keys()), y=list(ner_dict_west.values()), \n",
    "                             name=\"West\", marker_color=\"blue\", opacity=0.3))\n",
    "fig.add_trace(go.Bar(x=list(ner_dict_north.keys()), y=list(ner_dict_west.values()), \n",
    "                             name=\"North\", marker_color=\"green\", opacity=0.3))\n",
    "fig.add_trace(go.Bar(x=list(ner_dict_south.keys()), y=list(ner_dict_west.values()), \n",
    "                             name=\"South\", marker_color=\"orange\", opacity=0.3))\n",
    "fig.add_trace(go.Bar(x=list(ner_dict_central.keys()), y=list(ner_dict_west.values()), \n",
    "                             name=\"Central\", marker_color=\"black\", opacity=0.3))\n",
    "fig.show()"
   ]
  },
  {
   "cell_type": "code",
   "execution_count": null,
   "id": "6d0da6b6-fa23-40b3-b4ee-31379cf23f98",
   "metadata": {},
   "outputs": [],
   "source": []
  }
 ],
 "metadata": {
  "kernelspec": {
   "display_name": "viz",
   "language": "python",
   "name": "viz"
  },
  "language_info": {
   "codemirror_mode": {
    "name": "ipython",
    "version": 3
   },
   "file_extension": ".py",
   "mimetype": "text/x-python",
   "name": "python",
   "nbconvert_exporter": "python",
   "pygments_lexer": "ipython3",
   "version": "3.9.16"
  }
 },
 "nbformat": 4,
 "nbformat_minor": 5
}
