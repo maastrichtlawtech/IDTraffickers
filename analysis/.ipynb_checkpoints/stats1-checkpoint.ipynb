{
 "cells": [
  {
   "cell_type": "code",
   "execution_count": null,
   "id": "e679a09d-b7aa-44d8-a919-d473b8b35c27",
   "metadata": {},
   "outputs": [],
   "source": [
    "# Importing libraries"
   ]
  }
 ],
 "metadata": {
  "kernelspec": {
   "display_name": "Python [conda env:HT]",
   "language": "python",
   "name": "conda-env-HT-py"
  },
  "language_info": {
   "codemirror_mode": {
    "name": "ipython",
    "version": 3
   },
   "file_extension": ".py",
   "mimetype": "text/x-python",
   "name": "python",
   "nbconvert_exporter": "python",
   "pygments_lexer": "ipython3",
   "version": "3.9.16"
  }
 },
 "nbformat": 4,
 "nbformat_minor": 5
}
