{
 "cells": [
  {
   "cell_type": "markdown",
   "id": "b6cbb632-bead-477b-ba8c-fafea71a6130",
   "metadata": {},
   "source": [
    "# Importing libraries"
   ]
  },
  {
   "cell_type": "code",
   "execution_count": 1,
   "id": "eab6ce98-a3b0-4d33-a239-7a084e2e0172",
   "metadata": {},
   "outputs": [],
   "source": [
    "import os\n",
    "import pandas as pd\n",
    "\n",
    "from collections import Counter\n",
    "\n",
    "from sentence_transformers import SentenceTransformer\n",
    "from sentence_transformers import util\n",
    "\n",
    "import plotly.express as px"
   ]
  },
  {
   "cell_type": "markdown",
   "id": "7da9d724-cc52-4086-9b33-1b4f83885107",
   "metadata": {},
   "source": [
    "# Importing data"
   ]
  },
  {
   "cell_type": "code",
   "execution_count": 2,
   "id": "4a70969c-309d-4ab3-84bb-4fec16c9d7d6",
   "metadata": {},
   "outputs": [],
   "source": [
    "east_df = pd.read_csv(\"../data/structured/TEXT/east.csv\", low_memory=False)\n",
    "west_df = pd.read_csv(\"../data/structured/TEXT/west.csv\", low_memory=False)\n",
    "north_df = pd.read_csv(\"../data/structured/TEXT/north.csv\", low_memory=False)\n",
    "south_df = pd.read_csv(\"../data/structured/TEXT/south.csv\", low_memory=False)\n",
    "central_df = pd.read_csv(\"../data/structured/TEXT/central.csv\", low_memory=False)"
   ]
  },
  {
   "cell_type": "markdown",
   "id": "63e7f369-1a1e-447e-890a-ade10e41839f",
   "metadata": {},
   "source": [
    "# Loading model"
   ]
  },
  {
   "cell_type": "code",
   "execution_count": 4,
   "id": "1a72235f-7140-41e2-a293-8dff0f534369",
   "metadata": {},
   "outputs": [],
   "source": [
    "model = SentenceTransformer(\"sentence-transformers/bert-base-nli-mean-tokens\")"
   ]
  },
  {
   "cell_type": "markdown",
   "id": "0a70a8bc-e0b0-45f0-8986-8b2152e0625d",
   "metadata": {},
   "source": [
    "# Calculating similarity through existing style embedding models on raw data"
   ]
  },
  {
   "cell_type": "code",
   "execution_count": 6,
   "id": "6731a510-2a9c-401b-9ad7-b068b616927b",
   "metadata": {},
   "outputs": [],
   "source": [
    "def generate_heatmap(data_df, vendor_id):\n",
    "    phones = set(data_df[data_df.VENDOR==vendor_id]['PHONES'].to_list())\n",
    "    phones = [eval(phone) for phone in phones]\n",
    "    phones = [item for sublist in phones for item in sublist]\n",
    "    print(\"All phone numbers:\", phones)\n",
    "        \n",
    "    sent_list = set(data_df[data_df.VENDOR==vendor_id]['TEXT'].to_list())\n",
    "    outer_list = []\n",
    "    for index1, sent1 in enumerate(sent_list):\n",
    "        inner_list = []\n",
    "        for index2, sent2 in enumerate(sent_list):\n",
    "            emb1 = model.encode(sent1)\n",
    "            emb2 = model.encode(sent2)\n",
    "            inner_list.append(util.cos_sim(emb1, emb2).cpu().detach().numpy()[0][0])\n",
    "        outer_list.append(inner_list)\n",
    "\n",
    "    fig = px.imshow(outer_list, text_auto=True, aspect=\"auto\")\n",
    "    fig.show('iframe')"
   ]
  },
  {
   "cell_type": "code",
   "execution_count": 7,
   "id": "0f2cb30f-cdff-4c44-b8a4-6e4ee6da429c",
   "metadata": {},
   "outputs": [
    {
     "name": "stdout",
     "output_type": "stream",
     "text": [
      "All phone numbers: ['814-602-6807']\n"
     ]
    },
    {
     "data": {
      "text/html": [
       "<iframe\n",
       "    scrolling=\"no\"\n",
       "    width=\"100%\"\n",
       "    height=\"545px\"\n",
       "    src=\"iframe_figures/figure_7.html\"\n",
       "    frameborder=\"0\"\n",
       "    allowfullscreen\n",
       "></iframe>\n"
      ]
     },
     "metadata": {},
     "output_type": "display_data"
    }
   ],
   "source": [
    "generate_heatmap(west_df, 63072)"
   ]
  },
  {
   "cell_type": "code",
   "execution_count": 8,
   "id": "3eb31e8c-0d9f-4b3d-8a0c-2f76f0732820",
   "metadata": {},
   "outputs": [
    {
     "name": "stdout",
     "output_type": "stream",
     "text": [
      "All phone numbers: ['8145049661']\n"
     ]
    },
    {
     "data": {
      "text/html": [
       "<iframe\n",
       "    scrolling=\"no\"\n",
       "    width=\"100%\"\n",
       "    height=\"545px\"\n",
       "    src=\"iframe_figures/figure_8.html\"\n",
       "    frameborder=\"0\"\n",
       "    allowfullscreen\n",
       "></iframe>\n"
      ]
     },
     "metadata": {},
     "output_type": "display_data"
    }
   ],
   "source": [
    "generate_heatmap(west_df, 63076)"
   ]
  },
  {
   "cell_type": "code",
   "execution_count": 9,
   "id": "6d5d9c6c-6251-4695-830a-c37f485fca98",
   "metadata": {},
   "outputs": [
    {
     "name": "stdout",
     "output_type": "stream",
     "text": [
      "All phone numbers: ['814 923 6153', '814 920 8940', '814 920 8940']\n"
     ]
    },
    {
     "data": {
      "text/html": [
       "<iframe\n",
       "    scrolling=\"no\"\n",
       "    width=\"100%\"\n",
       "    height=\"545px\"\n",
       "    src=\"iframe_figures/figure_9.html\"\n",
       "    frameborder=\"0\"\n",
       "    allowfullscreen\n",
       "></iframe>\n"
      ]
     },
     "metadata": {},
     "output_type": "display_data"
    }
   ],
   "source": [
    "generate_heatmap(west_df, 63081)"
   ]
  },
  {
   "cell_type": "markdown",
   "id": "6c6fbdc6-fca0-4160-a2c7-45364bd707da",
   "metadata": {},
   "source": [
    "# Calculating similarity through existing style embedding models on processed data"
   ]
  },
  {
   "cell_type": "code",
   "execution_count": 10,
   "id": "5e9356f0-06b7-41f4-9b32-86bba44eb024",
   "metadata": {},
   "outputs": [],
   "source": [
    "def process_data(data_df, vendor_id):\n",
    "    data_df = data_df[data_df.VENDOR == vendor_id]\n",
    "    \n",
    "    # Getting all the phone numbers\n",
    "    phones = set(data_df['PHONES'].to_list())\n",
    "    phones = [eval(phone) for phone in phones]\n",
    "    phones = [item for sublist in phones for item in sublist]\n",
    "    \n",
    "    # Getting all the cities\n",
    "    cities = set(data_df['CITY'].to_list())\n",
    "    \n",
    "    # cleaning the text\n",
    "    data_df.TEXT = data_df.TEXT.apply(lambda x: clean_text(x, cities, phones))\n",
    "    return data_df\n",
    "    \n",
    "    \n",
    "def clean_text(sent, city, phone):\n",
    "    sent = sent.split(\" \")\n",
    "    city = [place.lower() for place in city]\n",
    "    # substituing all the names of the cities with ####\n",
    "    sent = [text.replace(text, \"####\") if any(text.lower() in sub for sub in city) else text for text in sent]\n",
    "    # replacing all the numbers in phone numbers by Z\n",
    "    sent = [text.replace(\"1\", \"Z\").replace(\"2\", \"Z\").replace(\"3\", \"Z\").replace(\"4\", \"Z\").replace(\"5\", \"Z\").replace(\"6\", \"Z\").replace(\"7\", \"Z\").replace(\"8\", \"Z\").replace(\"9\", \"Z\").replace(\"0\", \"Z\") if any(text in sub for sub in phone) else text for text in sent]\n",
    "    sent = \" \".join(sent)\n",
    "    # replacing \"escorts - backpage.com\", \"backpage.com\", and for ex \"erie.backpage.com\" to \"\"\n",
    "    sent = sent.replace(\"escorts - backpage.com\", \"\").replace(\"backpage.com\", \"\")\n",
    "    for place in city:\n",
    "        sent = sent.replace(place.lower() + \".backpage.com\", \"\")\n",
    "    return sent"
   ]
  },
  {
   "cell_type": "code",
   "execution_count": 11,
   "id": "17b08c0f-c3d6-4697-a437-f2f521df99c7",
   "metadata": {},
   "outputs": [
    {
     "name": "stderr",
     "output_type": "stream",
     "text": [
      "/tmp/ipykernel_23420/3909166935.py:13: SettingWithCopyWarning:\n",
      "\n",
      "\n",
      "A value is trying to be set on a copy of a slice from a DataFrame.\n",
      "Try using .loc[row_indexer,col_indexer] = value instead\n",
      "\n",
      "See the caveats in the documentation: https://pandas.pydata.org/pandas-docs/stable/user_guide/indexing.html#returning-a-view-versus-a-copy\n",
      "\n"
     ]
    },
    {
     "name": "stdout",
     "output_type": "stream",
     "text": [
      "All phone numbers: ['814-602-6807']\n"
     ]
    },
    {
     "data": {
      "text/html": [
       "<iframe\n",
       "    scrolling=\"no\"\n",
       "    width=\"100%\"\n",
       "    height=\"545px\"\n",
       "    src=\"iframe_figures/figure_11.html\"\n",
       "    frameborder=\"0\"\n",
       "    allowfullscreen\n",
       "></iframe>\n"
      ]
     },
     "metadata": {},
     "output_type": "display_data"
    }
   ],
   "source": [
    "sample_df = process_data(west_df, 63072)\n",
    "generate_heatmap(sample_df, 63072)"
   ]
  },
  {
   "cell_type": "code",
   "execution_count": 12,
   "id": "1105d6c2-9bef-434e-8ae3-bf919ed5b09f",
   "metadata": {},
   "outputs": [
    {
     "name": "stderr",
     "output_type": "stream",
     "text": [
      "/tmp/ipykernel_23420/3909166935.py:13: SettingWithCopyWarning:\n",
      "\n",
      "\n",
      "A value is trying to be set on a copy of a slice from a DataFrame.\n",
      "Try using .loc[row_indexer,col_indexer] = value instead\n",
      "\n",
      "See the caveats in the documentation: https://pandas.pydata.org/pandas-docs/stable/user_guide/indexing.html#returning-a-view-versus-a-copy\n",
      "\n"
     ]
    },
    {
     "name": "stdout",
     "output_type": "stream",
     "text": [
      "All phone numbers: ['8145049661']\n"
     ]
    },
    {
     "data": {
      "text/html": [
       "<iframe\n",
       "    scrolling=\"no\"\n",
       "    width=\"100%\"\n",
       "    height=\"545px\"\n",
       "    src=\"iframe_figures/figure_12.html\"\n",
       "    frameborder=\"0\"\n",
       "    allowfullscreen\n",
       "></iframe>\n"
      ]
     },
     "metadata": {},
     "output_type": "display_data"
    }
   ],
   "source": [
    "sample_df = process_data(west_df, 63076)\n",
    "generate_heatmap(sample_df, 63076)"
   ]
  },
  {
   "cell_type": "code",
   "execution_count": 13,
   "id": "3f9fc50c-b01a-482f-adcb-cf11b49eb04b",
   "metadata": {},
   "outputs": [
    {
     "name": "stderr",
     "output_type": "stream",
     "text": [
      "/tmp/ipykernel_23420/3909166935.py:13: SettingWithCopyWarning:\n",
      "\n",
      "\n",
      "A value is trying to be set on a copy of a slice from a DataFrame.\n",
      "Try using .loc[row_indexer,col_indexer] = value instead\n",
      "\n",
      "See the caveats in the documentation: https://pandas.pydata.org/pandas-docs/stable/user_guide/indexing.html#returning-a-view-versus-a-copy\n",
      "\n"
     ]
    },
    {
     "name": "stdout",
     "output_type": "stream",
     "text": [
      "All phone numbers: ['814 923 6153', '814 920 8940', '814 920 8940']\n"
     ]
    },
    {
     "data": {
      "text/html": [
       "<iframe\n",
       "    scrolling=\"no\"\n",
       "    width=\"100%\"\n",
       "    height=\"545px\"\n",
       "    src=\"iframe_figures/figure_13.html\"\n",
       "    frameborder=\"0\"\n",
       "    allowfullscreen\n",
       "></iframe>\n"
      ]
     },
     "metadata": {},
     "output_type": "display_data"
    }
   ],
   "source": [
    "sample_df = process_data(west_df, 63081)\n",
    "generate_heatmap(sample_df, 63081)"
   ]
  },
  {
   "cell_type": "code",
   "execution_count": null,
   "id": "2a1bbe63-bbe7-41b8-925e-c2a62594cdbc",
   "metadata": {},
   "outputs": [],
   "source": []
  }
 ],
 "metadata": {
  "kernelspec": {
   "display_name": "Python [conda env:HT]",
   "language": "python",
   "name": "conda-env-HT-py"
  },
  "language_info": {
   "codemirror_mode": {
    "name": "ipython",
    "version": 3
   },
   "file_extension": ".py",
   "mimetype": "text/x-python",
   "name": "python",
   "nbconvert_exporter": "python",
   "pygments_lexer": "ipython3",
   "version": "3.9.0"
  }
 },
 "nbformat": 4,
 "nbformat_minor": 5
}
